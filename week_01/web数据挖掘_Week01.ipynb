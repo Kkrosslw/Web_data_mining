{
 "cells": [
  {
   "cell_type": "markdown",
   "metadata": {},
   "source": [
    "## 1.用到的库：requests-html\n",
    "最新的爬虫工具"
   ]
  },
  {
   "cell_type": "markdown",
   "metadata": {},
   "source": [
    "### 学习资料\n",
    "* 来源 [最新的爬虫工具requests-html](https://www.cnblogs.com/fnng/p/8948015.html)\n",
    "* 文档 [requests-html](https://requests-html.kennethreitz.org/)"
   ]
  },
  {
   "cell_type": "markdown",
   "metadata": {},
   "source": [
    "## 2. xpath和css定位小抄"
   ]
  },
  {
   "cell_type": "markdown",
   "metadata": {},
   "source": [
    "* [xpath css定位速查表](https://blog.csdn.net/yaya_1q2w/article/details/79468098)\n",
    "**要记住，多看看！！**\n",
    "* Chrome console下使用js   \n",
    "   * xpath: ```$('')``` \n",
    "   * css:```$('')```"
   ]
  },
  {
   "cell_type": "markdown",
   "metadata": {},
   "source": [
    "### 下面开始练习上课所用到的代码"
   ]
  },
  {
   "cell_type": "markdown",
   "metadata": {},
   "source": [
    "## 3. 项目A cnblogs新闻"
   ]
  },
  {
   "cell_type": "code",
   "execution_count": 5,
   "metadata": {},
   "outputs": [
    {
     "name": "stdout",
     "output_type": "stream",
     "text": [
      "标题: 帮罗永浩算笔账：创业这些年，到底挣了多少钱？\n",
      "链接: {'https://news.cnblogs.com/n/658176/'}\n",
      "标题: 被谷歌剪掉命根子的出海应用，没几个冤枉的\n",
      "链接: {'https://news.cnblogs.com/n/658174/'}\n",
      "标题: 马云给高中生写了一份信，三年后，让全世界都来考数学\n",
      "链接: {'https://news.cnblogs.com/n/658169/'}\n",
      "标题: 怀疑开发者在“造核弹”？GitHub 不断封禁开源项目\n",
      "链接: {'https://news.cnblogs.com/n/658107/'}\n",
      "标题: AMD 发布 Ryzen 9 系列移动 CPU，笔记本市场变天了么？\n",
      "链接: {'https://news.cnblogs.com/n/658087/'}\n",
      "标题: 为什么阿里喜欢全面并购，腾讯喜欢战略投资？\n",
      "链接: {'https://news.cnblogs.com/n/658059/'}\n",
      "标题: 从百度掉队谈起：给百度开药，其实只有一条\n",
      "链接: {'https://news.cnblogs.com/n/658007/'}\n",
      "标题: 支付宝若要击败美团，难度到底有多大？\n",
      "链接: {'https://news.cnblogs.com/n/658006/'}\n",
      "标题: 追踪网赚游戏：是谁割了你，而你又割了谁？\n",
      "链接: {'https://news.cnblogs.com/n/657964/'}\n",
      "标题: 成本480万的《三体》改编动画，如何做到9.9分？\n",
      "链接: {'https://news.cnblogs.com/n/657962/'}\n",
      "标题: 互联网公司的灰色战争\n",
      "链接: {'https://news.cnblogs.com/n/657960/'}\n",
      "标题: 图灵奖背后：一个奥斯卡拿到手软，一个公司卖了160亿\n",
      "链接: {'https://news.cnblogs.com/n/657944/'}\n",
      "标题: 一个叫“郭红”的人 炮制了朋友圈所有的“世界失控”\n",
      "链接: {'https://news.cnblogs.com/n/657930/'}\n",
      "标题: .NET 5 Preview 1 发布\n",
      "链接: {'https://news.cnblogs.com/n/657924/'}\n",
      "标题: 一堂司法网课和它的主讲老师为什么突然火了？\n",
      "链接: {'https://news.cnblogs.com/n/657877/'}\n",
      "标题: 丑闻上身Soul：我本小师妹，怎么就活成了灭绝师太？\n",
      "链接: {'https://news.cnblogs.com/n/657875/'}\n",
      "标题: GitHub移动应用正式上架 不可编辑代码，支持“社交”\n",
      "链接: {'https://news.cnblogs.com/n/657863/'}\n",
      "标题: Visual Studio 2019 16.5 发布\n",
      "链接: {'https://news.cnblogs.com/n/657861/'}\n"
     ]
    }
   ],
   "source": [
    "# 第一步：导入requests_html库\n",
    "from requests_html import HTMLSession\n",
    "\n",
    "# 第二部：建立session\n",
    "# session是指从我们打开一个网站开始至我们关闭浏览器一系列的请求过程。\n",
    "session = HTMLSession()\n",
    "r = session.get(\"https://news.cnblogs.com/n/recommend\")\n",
    "\n",
    "# 第三步：通过css定位找到新闻标签\n",
    "news = r.html.find('h2.news_entry > a')  # find是函数\n",
    "\n",
    "#第四步：输出结果\n",
    "for new in news:\n",
    "    print(\"标题:\",new.text)   # 获取新闻标题\n",
    "    print(\"链接:\",new.absolute_links)  # 获取链接\n",
    "# absolute_links返回HTML对象所包含的绝对链接\n",
    "# links返回HTML对象所包含的所有链接"
   ]
  },
  {
   "cell_type": "markdown",
   "metadata": {},
   "source": [
    "## 尝试自己爬取百度新闻网站"
   ]
  },
  {
   "cell_type": "code",
   "execution_count": 19,
   "metadata": {},
   "outputs": [
    {
     "name": "stdout",
     "output_type": "stream",
     "text": [
      "标题: 瘟疫常改写人类历史 但并非随心所欲\n",
      "标题: 全国各地加速推动复工复产\n",
      "标题: 武汉：重启恢复城市功能\n",
      "标题: 耿爽：美方完全浪费了中方为全世界赢得的宝贵时间\n",
      "标题: 中国支援非洲抗疫！机组对话催泪 曼德拉名言励志\n",
      "标题: 中国专家组谈抗疫：中东打好阻击战\n",
      "标题: 战疫成效证明中国制度优势\n",
      "标题: 辟谣\n"
     ]
    }
   ],
   "source": [
    "from requests_html import HTMLSession\n",
    "session = HTMLSession()\n",
    "r = session.get(\"https://news.baidu.com/\")\n",
    "news_baidu = r.html.find(\"strong > a\")\n",
    "for new in news_baidu:\n",
    "    print(\"标题:\",new.text) \n",
    "#只爬取出加粗的新闻标题"
   ]
  },
  {
   "cell_type": "markdown",
   "metadata": {},
   "source": [
    "## 项目B 爬取猎聘工作"
   ]
  },
  {
   "cell_type": "code",
   "execution_count": 2,
   "metadata": {},
   "outputs": [
    {
     "name": "stdout",
     "output_type": "stream",
     "text": [
      "工作: Python软件开发工程师\n",
      "链接: {'https://www.liepin.com/job/1926740593.shtml'}\n",
      "工作: python / golang工程师\n",
      "链接: {'https://www.liepin.com/job/1926607703.shtml'}\n",
      "工作: python开发工程师\n",
      "链接: {'https://www.liepin.com/job/1926003725.shtml'}\n",
      "工作: python开发工程师\n",
      "链接: {'https://www.liepin.com/job/1925859877.shtml'}\n",
      "工作: Python\n",
      "链接: {'https://www.liepin.com/job/1926901195.shtml'}\n",
      "工作: python后端工程师\n",
      "链接: {'https://www.liepin.com/job/1926899893.shtml'}\n",
      "工作: Python\n",
      "链接: {'https://www.liepin.com/job/1926893723.shtml'}\n",
      "工作: Python工程师\n",
      "链接: {'https://www.liepin.com/job/1926886787.shtml'}\n",
      "工作: 后端开发工程师（Python）\n",
      "链接: {'https://www.liepin.com/job/1926886355.shtml'}\n",
      "工作: 后端开发工程师（Python）\n",
      "链接: {'https://www.liepin.com/job/1926882501.shtml'}\n",
      "工作: python 后端开发工程师\n",
      "链接: {'https://www.liepin.com/job/1926857355.shtml'}\n",
      "工作: python开发工程师\n",
      "链接: {'https://www.liepin.com/job/1926852227.shtml'}\n",
      "工作: Python开发工程师（外汇岗位）\n",
      "链接: {'https://www.liepin.com/job/1926845615.shtml'}\n",
      "工作: python数据工程师\n",
      "链接: {'https://www.liepin.com/job/1926839195.shtml'}\n",
      "工作: python 后端开发\n",
      "链接: {'https://www.liepin.com/job/1926823619.shtml'}\n",
      "工作: Python天猫爬虫算法工程师\n",
      "链接: {'https://www.liepin.com/job/1926804327.shtml'}\n",
      "工作: Python开发实习生\n",
      "链接: {'https://www.liepin.com/job/1926782327.shtml'}\n",
      "工作: 数据管理工程师(python)\n",
      "链接: {'https://www.liepin.com/job/1926733087.shtml'}\n",
      "工作: python开发工程师\n",
      "链接: {'https://www.liepin.com/job/1926663819.shtml'}\n",
      "工作: python开发工程师（应届亦可）\n",
      "链接: {'https://www.liepin.com/job/1926620357.shtml'}\n",
      "工作: python开发工程师\n",
      "链接: {'https://www.liepin.com/job/1926617025.shtml'}\n",
      "工作: 软件工程师（Python/PHP/Java）\n",
      "链接: {'https://www.liepin.com/job/1926606343.shtml'}\n",
      "工作: Python开发工程师\n",
      "链接: {'https://www.liepin.com/job/1926595621.shtml'}\n",
      "工作: python开发工程师\n",
      "链接: {'https://www.liepin.com/job/1926591421.shtml'}\n",
      "工作: python后端开发\n",
      "链接: {'https://www.liepin.com/job/1926558651.shtml'}\n",
      "工作: 对日Python开发工程师\n",
      "链接: {'https://www.liepin.com/job/1926535499.shtml'}\n",
      "工作: 对日Python开发工程师\n",
      "链接: {'https://www.liepin.com/job/1926535069.shtml'}\n",
      "工作: python 开发工程师\n",
      "链接: {'https://www.liepin.com/job/1926497087.shtml'}\n",
      "工作: Python后端开发工程师\n",
      "链接: {'https://www.liepin.com/job/1926494951.shtml'}\n",
      "工作: Python高级开发工程师\n",
      "链接: {'https://www.liepin.com/job/1926490195.shtml'}\n",
      "工作: Python开发工程师\n",
      "链接: {'https://www.liepin.com/job/1926489299.shtml'}\n",
      "工作: Python\n",
      "链接: {'https://www.liepin.com/job/1926477709.shtml'}\n",
      "工作: Python 高级开发工程师\n",
      "链接: {'https://www.liepin.com/job/1926416329.shtml'}\n",
      "工作: Python 架构\n",
      "链接: {'https://www.liepin.com/job/1926416285.shtml'}\n",
      "工作: python开发工程师\n",
      "链接: {'https://www.liepin.com/job/1926398365.shtml'}\n",
      "工作: python开发工程师\n",
      "链接: {'https://www.liepin.com/job/1926363145.shtml'}\n",
      "工作: python软件工程师\n",
      "链接: {'https://www.liepin.com/job/1926361377.shtml'}\n",
      "工作: python\n",
      "链接: {'https://www.liepin.com/job/1926350257.shtml'}\n",
      "工作: python开发工程师\n",
      "链接: {'https://www.liepin.com/job/1926323057.shtml'}\n",
      "工作: Python\n",
      "链接: {'https://www.liepin.com/job/1926272555.shtml'}\n"
     ]
    }
   ],
   "source": [
    "from requests_html import HTMLSession\n",
    "session = HTMLSession()\n",
    "r = session.get(\"https://www.liepin.com/zhaopin/?key=python\")\n",
    "\n",
    "# 通过xpath找工作标签\n",
    "jobs = r.html.xpath('//div[@class=\"job-info\"]/h3/a')  # 中括号内加属性可筛选信息\n",
    "\n",
    "for job in jobs:\n",
    "    print(\"工作:\",job.text)\n",
    "    print(\"链接:\",job.absolute_links)"
   ]
  },
  {
   "cell_type": "markdown",
   "metadata": {},
   "source": [
    "## 尝试爬取猎聘网工作薪资"
   ]
  },
  {
   "cell_type": "code",
   "execution_count": 15,
   "metadata": {},
   "outputs": [
    {
     "name": "stdout",
     "output_type": "stream",
     "text": [
      "薪资: 面议\n",
      "薪资: 8-13k·12薪\n",
      "薪资: 15-25k·12薪\n",
      "薪资: 15-20k·12薪\n",
      "薪资: 5-15k·12薪\n",
      "薪资: 15-30k·12薪\n",
      "薪资: 10-15k·12薪\n",
      "薪资: 8-13k·12薪\n",
      "薪资: 20-26k·15薪\n",
      "薪资: 6-7k·12薪\n",
      "薪资: 14-18k·13薪\n",
      "薪资: 20-30k·12薪\n",
      "薪资: 面议\n",
      "薪资: 12-20k·12薪\n",
      "薪资: 9-15k·12薪\n",
      "薪资: 15-25k·14薪\n",
      "薪资: 7-10k·12薪\n",
      "薪资: 7-15k·12薪\n",
      "薪资: 10-16k·12薪\n",
      "薪资: 8-15k·13薪\n",
      "薪资: 7-10k·12薪\n",
      "薪资: 7-12k·12薪\n",
      "薪资: 3-4k·14薪\n",
      "薪资: 面议\n",
      "薪资: 面议\n",
      "薪资: 20-25k·15薪\n",
      "薪资: 20-25k·15薪\n",
      "薪资: 12-18k·12薪\n",
      "薪资: 6-12k·12薪\n",
      "薪资: 15-22k·12薪\n",
      "薪资: 4-6k·12薪\n",
      "薪资: 11-20k·12薪\n",
      "薪资: 10-22k·12薪\n",
      "薪资: 12-20k·12薪\n",
      "薪资: 15-28k·13薪\n",
      "薪资: 9-14k·12薪\n",
      "薪资: 10-15k·12薪\n",
      "薪资: 11-22k·13薪\n",
      "薪资: 25-50k·12薪\n",
      "薪资: 15-30k·12薪\n"
     ]
    }
   ],
   "source": [
    "from requests_html import HTMLSession\n",
    "session = HTMLSession()\n",
    "r = session.get(\"https://www.liepin.com/zhaopin/?key=python\")\n",
    "\n",
    "salary = r.html.xpath(\"//div[@class='job-info']/p/span[@class='text-warning']\")\n",
    "\n",
    "for money in salary:\n",
    "    print(\"薪资:\",money.text)"
   ]
  },
  {
   "cell_type": "markdown",
   "metadata": {},
   "source": [
    "## 项目C 抓取图片\n",
    "* jupyter的妙处：IPython展示模块，HTML"
   ]
  },
  {
   "cell_type": "markdown",
   "metadata": {},
   "source": [
    "## 展示图"
   ]
  },
  {
   "cell_type": "code",
   "execution_count": 39,
   "metadata": {},
   "outputs": [
    {
     "data": {
      "text/html": [
       "<img src=\"https://httpstatusdogs.com/img/200.jpg\" alt=\"\">"
      ],
      "text/plain": [
       "<IPython.core.display.HTML object>"
      ]
     },
     "metadata": {},
     "output_type": "display_data"
    }
   ],
   "source": [
    "from IPython.core.display import display,HTML\n",
    "display(HTML('<img src=\"https://httpstatusdogs.com/img/200.jpg\" alt=\"\">'))\n",
    "# display显示图片"
   ]
  },
  {
   "cell_type": "code",
   "execution_count": 27,
   "metadata": {},
   "outputs": [
    {
     "data": {
      "text/markdown": [
       "![](https://httpstatusdogs.com/img/200.jpg)"
      ],
      "text/plain": [
       "<IPython.core.display.Markdown object>"
      ]
     },
     "metadata": {},
     "output_type": "display_data"
    }
   ],
   "source": [
    "# 也可使用markdown转码\n",
    "from IPython.core.display import display, Markdown\n",
    "display(Markdown('![](https://httpstatusdogs.com/img/200.jpg)'))"
   ]
  },
  {
   "cell_type": "markdown",
   "metadata": {},
   "source": [
    "## 抓取图片"
   ]
  },
  {
   "cell_type": "code",
   "execution_count": 29,
   "metadata": {},
   "outputs": [
    {
     "name": "stdout",
     "output_type": "stream",
     "text": [
      "data:image/png;base64,iVBORw0KGgoAAAANSUhEUgAAAAEAAAABCAQAAAC1HAwCAAAAC0lEQVR42mNgYAAAAAMAASsJTYQAAAAASUVORK5CYII=\n"
     ]
    },
    {
     "data": {
      "text/markdown": [
       "![](data:image/png;base64,iVBORw0KGgoAAAANSUhEUgAAAAEAAAABCAQAAAC1HAwCAAAAC0lEQVR42mNgYAAAAAMAASsJTYQAAAAASUVORK5CYII=)"
      ],
      "text/plain": [
       "<IPython.core.display.Markdown object>"
      ]
     },
     "metadata": {},
     "output_type": "display_data"
    },
    {
     "name": "stdout",
     "output_type": "stream",
     "text": [
      "https://tse1-mm.cn.bing.net/th/id/OET.fa5df21747854ea0ab5bd74a3ffdc3fa?w=272&h=272&c=7&rs=1&o=5&pid=1.9\n"
     ]
    },
    {
     "data": {
      "text/markdown": [
       "![](https://tse1-mm.cn.bing.net/th/id/OET.fa5df21747854ea0ab5bd74a3ffdc3fa?w=272&h=272&c=7&rs=1&o=5&pid=1.9)"
      ],
      "text/plain": [
       "<IPython.core.display.Markdown object>"
      ]
     },
     "metadata": {},
     "output_type": "display_data"
    },
    {
     "name": "stdout",
     "output_type": "stream",
     "text": [
      "https://tse1-mm.cn.bing.net/th/id/OET.b64f52dae61c45e7abc3e7e9f0e32978?w=272&h=135&c=7&rs=1&o=5&pid=1.9\n"
     ]
    },
    {
     "data": {
      "text/markdown": [
       "![](https://tse1-mm.cn.bing.net/th/id/OET.b64f52dae61c45e7abc3e7e9f0e32978?w=272&h=135&c=7&rs=1&o=5&pid=1.9)"
      ],
      "text/plain": [
       "<IPython.core.display.Markdown object>"
      ]
     },
     "metadata": {},
     "output_type": "display_data"
    },
    {
     "name": "stdout",
     "output_type": "stream",
     "text": [
      "https://tse1-mm.cn.bing.net/th/id/OET.6c3707baf4bc4f15b92dd05aa3324bec?w=272&h=135&c=7&rs=1&o=5&pid=1.9\n"
     ]
    },
    {
     "data": {
      "text/markdown": [
       "![](https://tse1-mm.cn.bing.net/th/id/OET.6c3707baf4bc4f15b92dd05aa3324bec?w=272&h=135&c=7&rs=1&o=5&pid=1.9)"
      ],
      "text/plain": [
       "<IPython.core.display.Markdown object>"
      ]
     },
     "metadata": {},
     "output_type": "display_data"
    },
    {
     "name": "stdout",
     "output_type": "stream",
     "text": [
      "https://tse1-mm.cn.bing.net/th/id/OET.20f858e78da745d0b5a1ca5a681e48d5?w=272&h=135&c=7&rs=1&o=5&pid=1.9\n"
     ]
    },
    {
     "data": {
      "text/markdown": [
       "![](https://tse1-mm.cn.bing.net/th/id/OET.20f858e78da745d0b5a1ca5a681e48d5?w=272&h=135&c=7&rs=1&o=5&pid=1.9)"
      ],
      "text/plain": [
       "<IPython.core.display.Markdown object>"
      ]
     },
     "metadata": {},
     "output_type": "display_data"
    },
    {
     "name": "stdout",
     "output_type": "stream",
     "text": [
      "https://tse1-mm.cn.bing.net/th/id/OET.144ef38ff98e4f3588d6fa42444044f4?w=272&h=135&c=7&rs=1&o=5&pid=1.9\n"
     ]
    },
    {
     "data": {
      "text/markdown": [
       "![](https://tse1-mm.cn.bing.net/th/id/OET.144ef38ff98e4f3588d6fa42444044f4?w=272&h=135&c=7&rs=1&o=5&pid=1.9)"
      ],
      "text/plain": [
       "<IPython.core.display.Markdown object>"
      ]
     },
     "metadata": {},
     "output_type": "display_data"
    },
    {
     "name": "stdout",
     "output_type": "stream",
     "text": [
      "https://tse1-mm.cn.bing.net/th/id/OET.d0337b3d2f9e4377927a6644c282f307?w=272&h=135&c=7&rs=1&o=5&pid=1.9\n"
     ]
    },
    {
     "data": {
      "text/markdown": [
       "![](https://tse1-mm.cn.bing.net/th/id/OET.d0337b3d2f9e4377927a6644c282f307?w=272&h=135&c=7&rs=1&o=5&pid=1.9)"
      ],
      "text/plain": [
       "<IPython.core.display.Markdown object>"
      ]
     },
     "metadata": {},
     "output_type": "display_data"
    },
    {
     "name": "stdout",
     "output_type": "stream",
     "text": [
      "https://tse1-mm.cn.bing.net/th/id/OET.e76a24839be64ac4a5de2090ac221d48?w=272&h=135&c=7&rs=1&o=5&pid=1.9\n"
     ]
    },
    {
     "data": {
      "text/markdown": [
       "![](https://tse1-mm.cn.bing.net/th/id/OET.e76a24839be64ac4a5de2090ac221d48?w=272&h=135&c=7&rs=1&o=5&pid=1.9)"
      ],
      "text/plain": [
       "<IPython.core.display.Markdown object>"
      ]
     },
     "metadata": {},
     "output_type": "display_data"
    },
    {
     "name": "stdout",
     "output_type": "stream",
     "text": [
      "https://tse1-mm.cn.bing.net/th/id/OET.2f40ad5cb88f41179bd8d4654222ac40?w=135&h=135&c=7&rs=1&o=5&pid=1.9\n"
     ]
    },
    {
     "data": {
      "text/markdown": [
       "![](https://tse1-mm.cn.bing.net/th/id/OET.2f40ad5cb88f41179bd8d4654222ac40?w=135&h=135&c=7&rs=1&o=5&pid=1.9)"
      ],
      "text/plain": [
       "<IPython.core.display.Markdown object>"
      ]
     },
     "metadata": {},
     "output_type": "display_data"
    },
    {
     "name": "stdout",
     "output_type": "stream",
     "text": [
      "https://tse1-mm.cn.bing.net/th/id/OET.e48fe9220c4c4ab5927da489a993f067?w=135&h=135&c=7&rs=1&o=5&pid=1.9\n"
     ]
    },
    {
     "data": {
      "text/markdown": [
       "![](https://tse1-mm.cn.bing.net/th/id/OET.e48fe9220c4c4ab5927da489a993f067?w=135&h=135&c=7&rs=1&o=5&pid=1.9)"
      ],
      "text/plain": [
       "<IPython.core.display.Markdown object>"
      ]
     },
     "metadata": {},
     "output_type": "display_data"
    },
    {
     "name": "stdout",
     "output_type": "stream",
     "text": [
      "https://tse1-mm.cn.bing.net/th/id/OET.351306e24ec549f08992eec5db0d6d64?w=135&h=135&c=7&rs=1&o=5&pid=1.9\n"
     ]
    },
    {
     "data": {
      "text/markdown": [
       "![](https://tse1-mm.cn.bing.net/th/id/OET.351306e24ec549f08992eec5db0d6d64?w=135&h=135&c=7&rs=1&o=5&pid=1.9)"
      ],
      "text/plain": [
       "<IPython.core.display.Markdown object>"
      ]
     },
     "metadata": {},
     "output_type": "display_data"
    },
    {
     "name": "stdout",
     "output_type": "stream",
     "text": [
      "https://tse1-mm.cn.bing.net/th/id/OET.772aee4846d4458c8e5111dbb06855d0?w=135&h=135&c=7&rs=1&o=5&pid=1.9\n"
     ]
    },
    {
     "data": {
      "text/markdown": [
       "![](https://tse1-mm.cn.bing.net/th/id/OET.772aee4846d4458c8e5111dbb06855d0?w=135&h=135&c=7&rs=1&o=5&pid=1.9)"
      ],
      "text/plain": [
       "<IPython.core.display.Markdown object>"
      ]
     },
     "metadata": {},
     "output_type": "display_data"
    },
    {
     "name": "stdout",
     "output_type": "stream",
     "text": [
      "https://tse1-mm.cn.bing.net/th/id/OET.ac947abd05814bb28329fdf32965e239?w=272&h=272&c=7&rs=1&o=5&pid=1.9\n"
     ]
    },
    {
     "data": {
      "text/markdown": [
       "![](https://tse1-mm.cn.bing.net/th/id/OET.ac947abd05814bb28329fdf32965e239?w=272&h=272&c=7&rs=1&o=5&pid=1.9)"
      ],
      "text/plain": [
       "<IPython.core.display.Markdown object>"
      ]
     },
     "metadata": {},
     "output_type": "display_data"
    },
    {
     "name": "stdout",
     "output_type": "stream",
     "text": [
      "https://tse1-mm.cn.bing.net/th/id/OET.d614e356ff3648ea8385bcd68546a74c?w=135&h=272&c=7&rs=1&o=5&pid=1.9\n"
     ]
    },
    {
     "data": {
      "text/markdown": [
       "![](https://tse1-mm.cn.bing.net/th/id/OET.d614e356ff3648ea8385bcd68546a74c?w=135&h=272&c=7&rs=1&o=5&pid=1.9)"
      ],
      "text/plain": [
       "<IPython.core.display.Markdown object>"
      ]
     },
     "metadata": {},
     "output_type": "display_data"
    },
    {
     "name": "stdout",
     "output_type": "stream",
     "text": [
      "https://tse1-mm.cn.bing.net/th/id/OET.e25f83524d9f4a868bdbdf1919dec3c0?w=135&h=272&c=7&rs=1&o=5&pid=1.9\n"
     ]
    },
    {
     "data": {
      "text/markdown": [
       "![](https://tse1-mm.cn.bing.net/th/id/OET.e25f83524d9f4a868bdbdf1919dec3c0?w=135&h=272&c=7&rs=1&o=5&pid=1.9)"
      ],
      "text/plain": [
       "<IPython.core.display.Markdown object>"
      ]
     },
     "metadata": {},
     "output_type": "display_data"
    },
    {
     "name": "stdout",
     "output_type": "stream",
     "text": [
      "https://tse1-mm.cn.bing.net/th/id/OET.938d4544da29427fa7278cb7c7351fb6?w=135&h=272&c=7&rs=1&o=5&pid=1.9\n"
     ]
    },
    {
     "data": {
      "text/markdown": [
       "![](https://tse1-mm.cn.bing.net/th/id/OET.938d4544da29427fa7278cb7c7351fb6?w=135&h=272&c=7&rs=1&o=5&pid=1.9)"
      ],
      "text/plain": [
       "<IPython.core.display.Markdown object>"
      ]
     },
     "metadata": {},
     "output_type": "display_data"
    },
    {
     "name": "stdout",
     "output_type": "stream",
     "text": [
      "https://tse1-mm.cn.bing.net/th/id/OET.609002688afe4145900fcf56bfc1728d?w=135&h=272&c=7&rs=1&o=5&pid=1.9\n"
     ]
    },
    {
     "data": {
      "text/markdown": [
       "![](https://tse1-mm.cn.bing.net/th/id/OET.609002688afe4145900fcf56bfc1728d?w=135&h=272&c=7&rs=1&o=5&pid=1.9)"
      ],
      "text/plain": [
       "<IPython.core.display.Markdown object>"
      ]
     },
     "metadata": {},
     "output_type": "display_data"
    },
    {
     "name": "stdout",
     "output_type": "stream",
     "text": [
      "https://tse1-mm.cn.bing.net/th/id/OET.3b155f97226d4ce3b8019ca75c37785c?w=135&h=272&c=7&rs=1&o=5&pid=1.9\n"
     ]
    },
    {
     "data": {
      "text/markdown": [
       "![](https://tse1-mm.cn.bing.net/th/id/OET.3b155f97226d4ce3b8019ca75c37785c?w=135&h=272&c=7&rs=1&o=5&pid=1.9)"
      ],
      "text/plain": [
       "<IPython.core.display.Markdown object>"
      ]
     },
     "metadata": {},
     "output_type": "display_data"
    },
    {
     "name": "stdout",
     "output_type": "stream",
     "text": [
      "https://tse1-mm.cn.bing.net/th/id/OET.fc7d18af572249f4815210592b083015?w=135&h=272&c=7&rs=1&o=5&pid=1.9\n"
     ]
    },
    {
     "data": {
      "text/markdown": [
       "![](https://tse1-mm.cn.bing.net/th/id/OET.fc7d18af572249f4815210592b083015?w=135&h=272&c=7&rs=1&o=5&pid=1.9)"
      ],
      "text/plain": [
       "<IPython.core.display.Markdown object>"
      ]
     },
     "metadata": {},
     "output_type": "display_data"
    },
    {
     "name": "stdout",
     "output_type": "stream",
     "text": [
      "https://tse1-mm.cn.bing.net/th/id/OET.dc7d64a2cf314b4cbaa1d8b9314734f7?w=135&h=135&c=7&rs=1&o=5&pid=1.9\n"
     ]
    },
    {
     "data": {
      "text/markdown": [
       "![](https://tse1-mm.cn.bing.net/th/id/OET.dc7d64a2cf314b4cbaa1d8b9314734f7?w=135&h=135&c=7&rs=1&o=5&pid=1.9)"
      ],
      "text/plain": [
       "<IPython.core.display.Markdown object>"
      ]
     },
     "metadata": {},
     "output_type": "display_data"
    },
    {
     "name": "stdout",
     "output_type": "stream",
     "text": [
      "https://tse1-mm.cn.bing.net/th/id/OET.f8cd4861bc504029a90ccc272bbc954d?w=135&h=135&c=7&rs=1&o=5&pid=1.9\n"
     ]
    },
    {
     "data": {
      "text/markdown": [
       "![](https://tse1-mm.cn.bing.net/th/id/OET.f8cd4861bc504029a90ccc272bbc954d?w=135&h=135&c=7&rs=1&o=5&pid=1.9)"
      ],
      "text/plain": [
       "<IPython.core.display.Markdown object>"
      ]
     },
     "metadata": {},
     "output_type": "display_data"
    },
    {
     "name": "stdout",
     "output_type": "stream",
     "text": [
      "https://tse1-mm.cn.bing.net/th/id/OET.5ca4829fee72427b8424d6aead35163a?w=135&h=135&c=7&rs=1&o=5&pid=1.9\n"
     ]
    },
    {
     "data": {
      "text/markdown": [
       "![](https://tse1-mm.cn.bing.net/th/id/OET.5ca4829fee72427b8424d6aead35163a?w=135&h=135&c=7&rs=1&o=5&pid=1.9)"
      ],
      "text/plain": [
       "<IPython.core.display.Markdown object>"
      ]
     },
     "metadata": {},
     "output_type": "display_data"
    },
    {
     "name": "stdout",
     "output_type": "stream",
     "text": [
      "https://tse1-mm.cn.bing.net/th/id/OET.f27e5b857f524c648726b803a44837a4?w=135&h=135&c=7&rs=1&o=5&pid=1.9\n"
     ]
    },
    {
     "data": {
      "text/markdown": [
       "![](https://tse1-mm.cn.bing.net/th/id/OET.f27e5b857f524c648726b803a44837a4?w=135&h=135&c=7&rs=1&o=5&pid=1.9)"
      ],
      "text/plain": [
       "<IPython.core.display.Markdown object>"
      ]
     },
     "metadata": {},
     "output_type": "display_data"
    },
    {
     "name": "stdout",
     "output_type": "stream",
     "text": [
      "https://tse1-mm.cn.bing.net/th/id/OET.86f8f5d4a8424e95822cc6f530b28316?w=272&h=272&c=7&rs=1&o=5&pid=1.9\n"
     ]
    },
    {
     "data": {
      "text/markdown": [
       "![](https://tse1-mm.cn.bing.net/th/id/OET.86f8f5d4a8424e95822cc6f530b28316?w=272&h=272&c=7&rs=1&o=5&pid=1.9)"
      ],
      "text/plain": [
       "<IPython.core.display.Markdown object>"
      ]
     },
     "metadata": {},
     "output_type": "display_data"
    },
    {
     "name": "stdout",
     "output_type": "stream",
     "text": [
      "https://tse1-mm.cn.bing.net/th/id/OET.8b50de78f3c44e47a5cbe52a8094b6f4?w=135&h=272&c=7&rs=1&o=5&pid=1.9\n"
     ]
    },
    {
     "data": {
      "text/markdown": [
       "![](https://tse1-mm.cn.bing.net/th/id/OET.8b50de78f3c44e47a5cbe52a8094b6f4?w=135&h=272&c=7&rs=1&o=5&pid=1.9)"
      ],
      "text/plain": [
       "<IPython.core.display.Markdown object>"
      ]
     },
     "metadata": {},
     "output_type": "display_data"
    },
    {
     "name": "stdout",
     "output_type": "stream",
     "text": [
      "https://tse1-mm.cn.bing.net/th/id/OET.32ff11e67a65462e9d12127c5c7be898?w=135&h=272&c=7&rs=1&o=5&pid=1.9\n"
     ]
    },
    {
     "data": {
      "text/markdown": [
       "![](https://tse1-mm.cn.bing.net/th/id/OET.32ff11e67a65462e9d12127c5c7be898?w=135&h=272&c=7&rs=1&o=5&pid=1.9)"
      ],
      "text/plain": [
       "<IPython.core.display.Markdown object>"
      ]
     },
     "metadata": {},
     "output_type": "display_data"
    },
    {
     "name": "stdout",
     "output_type": "stream",
     "text": [
      "https://tse1-mm.cn.bing.net/th/id/OET.0fa6741c6e5746668bdcf9895735f1e2?w=135&h=272&c=7&rs=1&o=5&pid=1.9\n"
     ]
    },
    {
     "data": {
      "text/markdown": [
       "![](https://tse1-mm.cn.bing.net/th/id/OET.0fa6741c6e5746668bdcf9895735f1e2?w=135&h=272&c=7&rs=1&o=5&pid=1.9)"
      ],
      "text/plain": [
       "<IPython.core.display.Markdown object>"
      ]
     },
     "metadata": {},
     "output_type": "display_data"
    },
    {
     "name": "stdout",
     "output_type": "stream",
     "text": [
      "https://tse1-mm.cn.bing.net/th/id/OET.a423936cc17447a4ba2329095ea7b539?w=135&h=272&c=7&rs=1&o=5&pid=1.9\n"
     ]
    },
    {
     "data": {
      "text/markdown": [
       "![](https://tse1-mm.cn.bing.net/th/id/OET.a423936cc17447a4ba2329095ea7b539?w=135&h=272&c=7&rs=1&o=5&pid=1.9)"
      ],
      "text/plain": [
       "<IPython.core.display.Markdown object>"
      ]
     },
     "metadata": {},
     "output_type": "display_data"
    },
    {
     "name": "stdout",
     "output_type": "stream",
     "text": [
      "https://tse1-mm.cn.bing.net/th/id/OET.c1d707e326444e9fb8d33a29d94e8108?w=135&h=272&c=7&rs=1&o=5&pid=1.9\n"
     ]
    },
    {
     "data": {
      "text/markdown": [
       "![](https://tse1-mm.cn.bing.net/th/id/OET.c1d707e326444e9fb8d33a29d94e8108?w=135&h=272&c=7&rs=1&o=5&pid=1.9)"
      ],
      "text/plain": [
       "<IPython.core.display.Markdown object>"
      ]
     },
     "metadata": {},
     "output_type": "display_data"
    },
    {
     "name": "stdout",
     "output_type": "stream",
     "text": [
      "https://tse1-mm.cn.bing.net/th/id/OET.25c041cdb3a049eea9cd8f7df3087325?w=135&h=272&c=7&rs=1&o=5&pid=1.9\n"
     ]
    },
    {
     "data": {
      "text/markdown": [
       "![](https://tse1-mm.cn.bing.net/th/id/OET.25c041cdb3a049eea9cd8f7df3087325?w=135&h=272&c=7&rs=1&o=5&pid=1.9)"
      ],
      "text/plain": [
       "<IPython.core.display.Markdown object>"
      ]
     },
     "metadata": {},
     "output_type": "display_data"
    },
    {
     "name": "stdout",
     "output_type": "stream",
     "text": [
      "https://tse1-mm.cn.bing.net/th/id/OET.7f4445cdaa8c4c06826920fdb2dd60d8?w=135&h=135&c=7&rs=1&o=5&pid=1.9\n"
     ]
    },
    {
     "data": {
      "text/markdown": [
       "![](https://tse1-mm.cn.bing.net/th/id/OET.7f4445cdaa8c4c06826920fdb2dd60d8?w=135&h=135&c=7&rs=1&o=5&pid=1.9)"
      ],
      "text/plain": [
       "<IPython.core.display.Markdown object>"
      ]
     },
     "metadata": {},
     "output_type": "display_data"
    },
    {
     "name": "stdout",
     "output_type": "stream",
     "text": [
      "https://tse1-mm.cn.bing.net/th/id/OET.f31b8704feea4ad19f17ce1ed7ad9249?w=135&h=135&c=7&rs=1&o=5&pid=1.9\n"
     ]
    },
    {
     "data": {
      "text/markdown": [
       "![](https://tse1-mm.cn.bing.net/th/id/OET.f31b8704feea4ad19f17ce1ed7ad9249?w=135&h=135&c=7&rs=1&o=5&pid=1.9)"
      ],
      "text/plain": [
       "<IPython.core.display.Markdown object>"
      ]
     },
     "metadata": {},
     "output_type": "display_data"
    },
    {
     "name": "stdout",
     "output_type": "stream",
     "text": [
      "https://tse1-mm.cn.bing.net/th/id/OET.bf90b0e89c0146289d4457d26218c0db?w=135&h=135&c=7&rs=1&o=5&pid=1.9\n"
     ]
    },
    {
     "data": {
      "text/markdown": [
       "![](https://tse1-mm.cn.bing.net/th/id/OET.bf90b0e89c0146289d4457d26218c0db?w=135&h=135&c=7&rs=1&o=5&pid=1.9)"
      ],
      "text/plain": [
       "<IPython.core.display.Markdown object>"
      ]
     },
     "metadata": {},
     "output_type": "display_data"
    },
    {
     "name": "stdout",
     "output_type": "stream",
     "text": [
      "https://tse1-mm.cn.bing.net/th/id/OET.7d38e34c8217463885b31ed3053cfbd5?w=135&h=135&c=7&rs=1&o=5&pid=1.9\n"
     ]
    },
    {
     "data": {
      "text/markdown": [
       "![](https://tse1-mm.cn.bing.net/th/id/OET.7d38e34c8217463885b31ed3053cfbd5?w=135&h=135&c=7&rs=1&o=5&pid=1.9)"
      ],
      "text/plain": [
       "<IPython.core.display.Markdown object>"
      ]
     },
     "metadata": {},
     "output_type": "display_data"
    },
    {
     "name": "stdout",
     "output_type": "stream",
     "text": [
      "https://tse1-mm.cn.bing.net/th/id/OET.6570bfa2065f4f2c8074b99429c29e74?w=272&h=272&c=7&rs=1&o=5&pid=1.9\n"
     ]
    },
    {
     "data": {
      "text/markdown": [
       "![](https://tse1-mm.cn.bing.net/th/id/OET.6570bfa2065f4f2c8074b99429c29e74?w=272&h=272&c=7&rs=1&o=5&pid=1.9)"
      ],
      "text/plain": [
       "<IPython.core.display.Markdown object>"
      ]
     },
     "metadata": {},
     "output_type": "display_data"
    },
    {
     "name": "stdout",
     "output_type": "stream",
     "text": [
      "https://tse1-mm.cn.bing.net/th/id/OET.548058d6281c4ffa9d571f839910f32a?w=272&h=135&c=7&rs=1&o=5&pid=1.9\n"
     ]
    },
    {
     "data": {
      "text/markdown": [
       "![](https://tse1-mm.cn.bing.net/th/id/OET.548058d6281c4ffa9d571f839910f32a?w=272&h=135&c=7&rs=1&o=5&pid=1.9)"
      ],
      "text/plain": [
       "<IPython.core.display.Markdown object>"
      ]
     },
     "metadata": {},
     "output_type": "display_data"
    },
    {
     "name": "stdout",
     "output_type": "stream",
     "text": [
      "https://tse1-mm.cn.bing.net/th/id/OET.80281b69d95b48bc8a466fcdffad5173?w=272&h=135&c=7&rs=1&o=5&pid=1.9\n"
     ]
    },
    {
     "data": {
      "text/markdown": [
       "![](https://tse1-mm.cn.bing.net/th/id/OET.80281b69d95b48bc8a466fcdffad5173?w=272&h=135&c=7&rs=1&o=5&pid=1.9)"
      ],
      "text/plain": [
       "<IPython.core.display.Markdown object>"
      ]
     },
     "metadata": {},
     "output_type": "display_data"
    },
    {
     "name": "stdout",
     "output_type": "stream",
     "text": [
      "https://tse1-mm.cn.bing.net/th/id/OET.1eadcb1402d74bb295fff97db1bf6600?w=272&h=135&c=7&rs=1&o=5&pid=1.9\n"
     ]
    },
    {
     "data": {
      "text/markdown": [
       "![](https://tse1-mm.cn.bing.net/th/id/OET.1eadcb1402d74bb295fff97db1bf6600?w=272&h=135&c=7&rs=1&o=5&pid=1.9)"
      ],
      "text/plain": [
       "<IPython.core.display.Markdown object>"
      ]
     },
     "metadata": {},
     "output_type": "display_data"
    },
    {
     "name": "stdout",
     "output_type": "stream",
     "text": [
      "https://tse1-mm.cn.bing.net/th/id/OET.de53e76d3f3d4a479eb8739b74f81440?w=272&h=135&c=7&rs=1&o=5&pid=1.9\n"
     ]
    },
    {
     "data": {
      "text/markdown": [
       "![](https://tse1-mm.cn.bing.net/th/id/OET.de53e76d3f3d4a479eb8739b74f81440?w=272&h=135&c=7&rs=1&o=5&pid=1.9)"
      ],
      "text/plain": [
       "<IPython.core.display.Markdown object>"
      ]
     },
     "metadata": {},
     "output_type": "display_data"
    },
    {
     "name": "stdout",
     "output_type": "stream",
     "text": [
      "https://tse1-mm.cn.bing.net/th/id/OET.e19d34f3918d4fa982966ba08fd4c07d?w=272&h=135&c=7&rs=1&o=5&pid=1.9\n"
     ]
    },
    {
     "data": {
      "text/markdown": [
       "![](https://tse1-mm.cn.bing.net/th/id/OET.e19d34f3918d4fa982966ba08fd4c07d?w=272&h=135&c=7&rs=1&o=5&pid=1.9)"
      ],
      "text/plain": [
       "<IPython.core.display.Markdown object>"
      ]
     },
     "metadata": {},
     "output_type": "display_data"
    },
    {
     "name": "stdout",
     "output_type": "stream",
     "text": [
      "https://tse1-mm.cn.bing.net/th/id/OET.0a8ed06811b549b48a1917ad0ec2e055?w=272&h=135&c=7&rs=1&o=5&pid=1.9\n"
     ]
    },
    {
     "data": {
      "text/markdown": [
       "![](https://tse1-mm.cn.bing.net/th/id/OET.0a8ed06811b549b48a1917ad0ec2e055?w=272&h=135&c=7&rs=1&o=5&pid=1.9)"
      ],
      "text/plain": [
       "<IPython.core.display.Markdown object>"
      ]
     },
     "metadata": {},
     "output_type": "display_data"
    },
    {
     "name": "stdout",
     "output_type": "stream",
     "text": [
      "https://tse1-mm.cn.bing.net/th/id/OET.4ef5bf6f0ae1423abe844d8242f55a80?w=135&h=135&c=7&rs=1&o=5&pid=1.9\n"
     ]
    },
    {
     "data": {
      "text/markdown": [
       "![](https://tse1-mm.cn.bing.net/th/id/OET.4ef5bf6f0ae1423abe844d8242f55a80?w=135&h=135&c=7&rs=1&o=5&pid=1.9)"
      ],
      "text/plain": [
       "<IPython.core.display.Markdown object>"
      ]
     },
     "metadata": {},
     "output_type": "display_data"
    },
    {
     "name": "stdout",
     "output_type": "stream",
     "text": [
      "https://tse1-mm.cn.bing.net/th/id/OET.3c15354dfdd047ab93fe96f196ad07cb?w=135&h=135&c=7&rs=1&o=5&pid=1.9\n"
     ]
    },
    {
     "data": {
      "text/markdown": [
       "![](https://tse1-mm.cn.bing.net/th/id/OET.3c15354dfdd047ab93fe96f196ad07cb?w=135&h=135&c=7&rs=1&o=5&pid=1.9)"
      ],
      "text/plain": [
       "<IPython.core.display.Markdown object>"
      ]
     },
     "metadata": {},
     "output_type": "display_data"
    },
    {
     "name": "stdout",
     "output_type": "stream",
     "text": [
      "https://tse1-mm.cn.bing.net/th/id/OET.014e47747fd744729136663e06d30322?w=135&h=135&c=7&rs=1&o=5&pid=1.9\n"
     ]
    },
    {
     "data": {
      "text/markdown": [
       "![](https://tse1-mm.cn.bing.net/th/id/OET.014e47747fd744729136663e06d30322?w=135&h=135&c=7&rs=1&o=5&pid=1.9)"
      ],
      "text/plain": [
       "<IPython.core.display.Markdown object>"
      ]
     },
     "metadata": {},
     "output_type": "display_data"
    },
    {
     "name": "stdout",
     "output_type": "stream",
     "text": [
      "https://tse1-mm.cn.bing.net/th/id/OET.311ab2c108ce49efb855fed17cae87f8?w=135&h=135&c=7&rs=1&o=5&pid=1.9\n"
     ]
    },
    {
     "data": {
      "text/markdown": [
       "![](https://tse1-mm.cn.bing.net/th/id/OET.311ab2c108ce49efb855fed17cae87f8?w=135&h=135&c=7&rs=1&o=5&pid=1.9)"
      ],
      "text/plain": [
       "<IPython.core.display.Markdown object>"
      ]
     },
     "metadata": {},
     "output_type": "display_data"
    },
    {
     "name": "stdout",
     "output_type": "stream",
     "text": [
      "https://tse1-mm.cn.bing.net/th/id/OET.13be13dfa85948e49ee8fbc70403d6c5?w=272&h=272&c=7&rs=1&o=5&pid=1.9\n"
     ]
    },
    {
     "data": {
      "text/markdown": [
       "![](https://tse1-mm.cn.bing.net/th/id/OET.13be13dfa85948e49ee8fbc70403d6c5?w=272&h=272&c=7&rs=1&o=5&pid=1.9)"
      ],
      "text/plain": [
       "<IPython.core.display.Markdown object>"
      ]
     },
     "metadata": {},
     "output_type": "display_data"
    },
    {
     "name": "stdout",
     "output_type": "stream",
     "text": [
      "https://tse1-mm.cn.bing.net/th/id/OET.c278f8963dfe49ff9d896dac6cd4db70?w=272&h=135&c=7&rs=1&o=5&pid=1.9\n"
     ]
    },
    {
     "data": {
      "text/markdown": [
       "![](https://tse1-mm.cn.bing.net/th/id/OET.c278f8963dfe49ff9d896dac6cd4db70?w=272&h=135&c=7&rs=1&o=5&pid=1.9)"
      ],
      "text/plain": [
       "<IPython.core.display.Markdown object>"
      ]
     },
     "metadata": {},
     "output_type": "display_data"
    },
    {
     "name": "stdout",
     "output_type": "stream",
     "text": [
      "https://tse1-mm.cn.bing.net/th/id/OET.e662e33e5f61405ea35606f21bebd306?w=272&h=135&c=7&rs=1&o=5&pid=1.9\n"
     ]
    },
    {
     "data": {
      "text/markdown": [
       "![](https://tse1-mm.cn.bing.net/th/id/OET.e662e33e5f61405ea35606f21bebd306?w=272&h=135&c=7&rs=1&o=5&pid=1.9)"
      ],
      "text/plain": [
       "<IPython.core.display.Markdown object>"
      ]
     },
     "metadata": {},
     "output_type": "display_data"
    },
    {
     "name": "stdout",
     "output_type": "stream",
     "text": [
      "https://tse1-mm.cn.bing.net/th/id/OET.28fd0f0ab6344e5cb21400966cb1bd4d?w=272&h=135&c=7&rs=1&o=5&pid=1.9\n"
     ]
    },
    {
     "data": {
      "text/markdown": [
       "![](https://tse1-mm.cn.bing.net/th/id/OET.28fd0f0ab6344e5cb21400966cb1bd4d?w=272&h=135&c=7&rs=1&o=5&pid=1.9)"
      ],
      "text/plain": [
       "<IPython.core.display.Markdown object>"
      ]
     },
     "metadata": {},
     "output_type": "display_data"
    },
    {
     "name": "stdout",
     "output_type": "stream",
     "text": [
      "https://tse1-mm.cn.bing.net/th/id/OET.925b40d875fa4de792eafca813066152?w=272&h=135&c=7&rs=1&o=5&pid=1.9\n"
     ]
    },
    {
     "data": {
      "text/markdown": [
       "![](https://tse1-mm.cn.bing.net/th/id/OET.925b40d875fa4de792eafca813066152?w=272&h=135&c=7&rs=1&o=5&pid=1.9)"
      ],
      "text/plain": [
       "<IPython.core.display.Markdown object>"
      ]
     },
     "metadata": {},
     "output_type": "display_data"
    },
    {
     "name": "stdout",
     "output_type": "stream",
     "text": [
      "https://tse1-mm.cn.bing.net/th/id/OET.52f4abd4696b4130953af7affa14f8a8?w=272&h=135&c=7&rs=1&o=5&pid=1.9\n"
     ]
    },
    {
     "data": {
      "text/markdown": [
       "![](https://tse1-mm.cn.bing.net/th/id/OET.52f4abd4696b4130953af7affa14f8a8?w=272&h=135&c=7&rs=1&o=5&pid=1.9)"
      ],
      "text/plain": [
       "<IPython.core.display.Markdown object>"
      ]
     },
     "metadata": {},
     "output_type": "display_data"
    },
    {
     "name": "stdout",
     "output_type": "stream",
     "text": [
      "https://tse1-mm.cn.bing.net/th/id/OET.e709992723d94bfcbdea2455d661def0?w=272&h=135&c=7&rs=1&o=5&pid=1.9\n"
     ]
    },
    {
     "data": {
      "text/markdown": [
       "![](https://tse1-mm.cn.bing.net/th/id/OET.e709992723d94bfcbdea2455d661def0?w=272&h=135&c=7&rs=1&o=5&pid=1.9)"
      ],
      "text/plain": [
       "<IPython.core.display.Markdown object>"
      ]
     },
     "metadata": {},
     "output_type": "display_data"
    },
    {
     "name": "stdout",
     "output_type": "stream",
     "text": [
      "https://tse1-mm.cn.bing.net/th/id/OET.8f8f61c7a67944758e1e85de7c4cfabf?w=135&h=135&c=7&rs=1&o=5&pid=1.9\n"
     ]
    },
    {
     "data": {
      "text/markdown": [
       "![](https://tse1-mm.cn.bing.net/th/id/OET.8f8f61c7a67944758e1e85de7c4cfabf?w=135&h=135&c=7&rs=1&o=5&pid=1.9)"
      ],
      "text/plain": [
       "<IPython.core.display.Markdown object>"
      ]
     },
     "metadata": {},
     "output_type": "display_data"
    },
    {
     "name": "stdout",
     "output_type": "stream",
     "text": [
      "https://tse1-mm.cn.bing.net/th/id/OET.d8fd1f230e9e49e397515b081766c2e2?w=135&h=135&c=7&rs=1&o=5&pid=1.9\n"
     ]
    },
    {
     "data": {
      "text/markdown": [
       "![](https://tse1-mm.cn.bing.net/th/id/OET.d8fd1f230e9e49e397515b081766c2e2?w=135&h=135&c=7&rs=1&o=5&pid=1.9)"
      ],
      "text/plain": [
       "<IPython.core.display.Markdown object>"
      ]
     },
     "metadata": {},
     "output_type": "display_data"
    },
    {
     "name": "stdout",
     "output_type": "stream",
     "text": [
      "https://tse1-mm.cn.bing.net/th/id/OET.bc987d4922c64b6a8c448cc6b2cb99c1?w=135&h=135&c=7&rs=1&o=5&pid=1.9\n"
     ]
    },
    {
     "data": {
      "text/markdown": [
       "![](https://tse1-mm.cn.bing.net/th/id/OET.bc987d4922c64b6a8c448cc6b2cb99c1?w=135&h=135&c=7&rs=1&o=5&pid=1.9)"
      ],
      "text/plain": [
       "<IPython.core.display.Markdown object>"
      ]
     },
     "metadata": {},
     "output_type": "display_data"
    },
    {
     "name": "stdout",
     "output_type": "stream",
     "text": [
      "https://tse1-mm.cn.bing.net/th/id/OET.a878a7ad236549fe89ec1eb1b1bffd0b?w=135&h=135&c=7&rs=1&o=5&pid=1.9\n"
     ]
    },
    {
     "data": {
      "text/markdown": [
       "![](https://tse1-mm.cn.bing.net/th/id/OET.a878a7ad236549fe89ec1eb1b1bffd0b?w=135&h=135&c=7&rs=1&o=5&pid=1.9)"
      ],
      "text/plain": [
       "<IPython.core.display.Markdown object>"
      ]
     },
     "metadata": {},
     "output_type": "display_data"
    },
    {
     "name": "stdout",
     "output_type": "stream",
     "text": [
      "https://tse1-mm.cn.bing.net/th/id/OET.409ef668387749e4af68a0dfce45c983?w=272&h=272&c=7&rs=1&o=5&pid=1.9\n"
     ]
    },
    {
     "data": {
      "text/markdown": [
       "![](https://tse1-mm.cn.bing.net/th/id/OET.409ef668387749e4af68a0dfce45c983?w=272&h=272&c=7&rs=1&o=5&pid=1.9)"
      ],
      "text/plain": [
       "<IPython.core.display.Markdown object>"
      ]
     },
     "metadata": {},
     "output_type": "display_data"
    },
    {
     "name": "stdout",
     "output_type": "stream",
     "text": [
      "https://tse1-mm.cn.bing.net/th/id/OET.9ad45a55f5ac4133909b7cf15cc36fde?w=272&h=135&c=7&rs=1&o=5&pid=1.9\n"
     ]
    },
    {
     "data": {
      "text/markdown": [
       "![](https://tse1-mm.cn.bing.net/th/id/OET.9ad45a55f5ac4133909b7cf15cc36fde?w=272&h=135&c=7&rs=1&o=5&pid=1.9)"
      ],
      "text/plain": [
       "<IPython.core.display.Markdown object>"
      ]
     },
     "metadata": {},
     "output_type": "display_data"
    },
    {
     "name": "stdout",
     "output_type": "stream",
     "text": [
      "https://tse1-mm.cn.bing.net/th/id/OET.ae179eedbe6e425484b14c8978fa4079?w=272&h=135&c=7&rs=1&o=5&pid=1.9\n"
     ]
    },
    {
     "data": {
      "text/markdown": [
       "![](https://tse1-mm.cn.bing.net/th/id/OET.ae179eedbe6e425484b14c8978fa4079?w=272&h=135&c=7&rs=1&o=5&pid=1.9)"
      ],
      "text/plain": [
       "<IPython.core.display.Markdown object>"
      ]
     },
     "metadata": {},
     "output_type": "display_data"
    },
    {
     "name": "stdout",
     "output_type": "stream",
     "text": [
      "https://tse1-mm.cn.bing.net/th/id/OET.164bf99f079a41c69d9fa0c349fa825f?w=272&h=135&c=7&rs=1&o=5&pid=1.9\n"
     ]
    },
    {
     "data": {
      "text/markdown": [
       "![](https://tse1-mm.cn.bing.net/th/id/OET.164bf99f079a41c69d9fa0c349fa825f?w=272&h=135&c=7&rs=1&o=5&pid=1.9)"
      ],
      "text/plain": [
       "<IPython.core.display.Markdown object>"
      ]
     },
     "metadata": {},
     "output_type": "display_data"
    },
    {
     "name": "stdout",
     "output_type": "stream",
     "text": [
      "https://tse1-mm.cn.bing.net/th/id/OET.9fb2529795ce419bb3f96a701a0edb36?w=272&h=135&c=7&rs=1&o=5&pid=1.9\n"
     ]
    },
    {
     "data": {
      "text/markdown": [
       "![](https://tse1-mm.cn.bing.net/th/id/OET.9fb2529795ce419bb3f96a701a0edb36?w=272&h=135&c=7&rs=1&o=5&pid=1.9)"
      ],
      "text/plain": [
       "<IPython.core.display.Markdown object>"
      ]
     },
     "metadata": {},
     "output_type": "display_data"
    },
    {
     "name": "stdout",
     "output_type": "stream",
     "text": [
      "https://tse1-mm.cn.bing.net/th/id/OET.3e3a5b91f801498984228dcc9ba6b743?w=272&h=135&c=7&rs=1&o=5&pid=1.9\n"
     ]
    },
    {
     "data": {
      "text/markdown": [
       "![](https://tse1-mm.cn.bing.net/th/id/OET.3e3a5b91f801498984228dcc9ba6b743?w=272&h=135&c=7&rs=1&o=5&pid=1.9)"
      ],
      "text/plain": [
       "<IPython.core.display.Markdown object>"
      ]
     },
     "metadata": {},
     "output_type": "display_data"
    },
    {
     "name": "stdout",
     "output_type": "stream",
     "text": [
      "https://tse1-mm.cn.bing.net/th/id/OET.81582f824b024116a5b7a91c185f968e?w=272&h=135&c=7&rs=1&o=5&pid=1.9\n"
     ]
    },
    {
     "data": {
      "text/markdown": [
       "![](https://tse1-mm.cn.bing.net/th/id/OET.81582f824b024116a5b7a91c185f968e?w=272&h=135&c=7&rs=1&o=5&pid=1.9)"
      ],
      "text/plain": [
       "<IPython.core.display.Markdown object>"
      ]
     },
     "metadata": {},
     "output_type": "display_data"
    },
    {
     "name": "stdout",
     "output_type": "stream",
     "text": [
      "https://tse1-mm.cn.bing.net/th/id/OET.e255cd1d563846faa4b1551556a2b85d?w=135&h=135&c=7&rs=1&o=5&pid=1.9\n"
     ]
    },
    {
     "data": {
      "text/markdown": [
       "![](https://tse1-mm.cn.bing.net/th/id/OET.e255cd1d563846faa4b1551556a2b85d?w=135&h=135&c=7&rs=1&o=5&pid=1.9)"
      ],
      "text/plain": [
       "<IPython.core.display.Markdown object>"
      ]
     },
     "metadata": {},
     "output_type": "display_data"
    },
    {
     "name": "stdout",
     "output_type": "stream",
     "text": [
      "https://tse1-mm.cn.bing.net/th/id/OET.6a0f85e050a54119a65ebecacd4d203a?w=135&h=135&c=7&rs=1&o=5&pid=1.9\n"
     ]
    },
    {
     "data": {
      "text/markdown": [
       "![](https://tse1-mm.cn.bing.net/th/id/OET.6a0f85e050a54119a65ebecacd4d203a?w=135&h=135&c=7&rs=1&o=5&pid=1.9)"
      ],
      "text/plain": [
       "<IPython.core.display.Markdown object>"
      ]
     },
     "metadata": {},
     "output_type": "display_data"
    },
    {
     "name": "stdout",
     "output_type": "stream",
     "text": [
      "https://tse1-mm.cn.bing.net/th/id/OET.2a67a683253746ae8f1062188c0d0c49?w=135&h=135&c=7&rs=1&o=5&pid=1.9\n"
     ]
    },
    {
     "data": {
      "text/markdown": [
       "![](https://tse1-mm.cn.bing.net/th/id/OET.2a67a683253746ae8f1062188c0d0c49?w=135&h=135&c=7&rs=1&o=5&pid=1.9)"
      ],
      "text/plain": [
       "<IPython.core.display.Markdown object>"
      ]
     },
     "metadata": {},
     "output_type": "display_data"
    },
    {
     "name": "stdout",
     "output_type": "stream",
     "text": [
      "https://tse1-mm.cn.bing.net/th/id/OET.0c734667886f4459af7239e907d705f7?w=135&h=135&c=7&rs=1&o=5&pid=1.9\n"
     ]
    },
    {
     "data": {
      "text/markdown": [
       "![](https://tse1-mm.cn.bing.net/th/id/OET.0c734667886f4459af7239e907d705f7?w=135&h=135&c=7&rs=1&o=5&pid=1.9)"
      ],
      "text/plain": [
       "<IPython.core.display.Markdown object>"
      ]
     },
     "metadata": {},
     "output_type": "display_data"
    },
    {
     "name": "stdout",
     "output_type": "stream",
     "text": [
      "/rs/5g/Lk/ic/4907366b/da274d75.png\n"
     ]
    },
    {
     "data": {
      "text/markdown": [
       "![](/rs/5g/Lk/ic/4907366b/da274d75.png)"
      ],
      "text/plain": [
       "<IPython.core.display.Markdown object>"
      ]
     },
     "metadata": {},
     "output_type": "display_data"
    }
   ],
   "source": [
    "from requests_html import HTMLSession\n",
    "session = HTMLSession()\n",
    "r = session.get(\"https://cn.bing.com/images/trending\")\n",
    "\n",
    "img = r.html.xpath(\"//img/@src\")\n",
    "for url in img:\n",
    "    print(url)\n",
    "    display(Markdown('![]({url})'.format(url=url)))"
   ]
  },
  {
   "cell_type": "markdown",
   "metadata": {},
   "source": [
    "## 尝试爬取新浪图片"
   ]
  },
  {
   "cell_type": "code",
   "execution_count": 38,
   "metadata": {},
   "outputs": [
    {
     "name": "stdout",
     "output_type": "stream",
     "text": [
      "//beacon.sina.com.cn/a.gif?noScript\n"
     ]
    },
    {
     "data": {
      "text/markdown": [
       "![](//beacon.sina.com.cn/a.gif?noScript)"
      ],
      "text/plain": [
       "<IPython.core.display.Markdown object>"
      ]
     },
     "metadata": {},
     "output_type": "display_data"
    },
    {
     "name": "stdout",
     "output_type": "stream",
     "text": [
      "http://i3.sinaimg.cn/ent/deco/2014/0311/images/sc_pic_loginImage.png\n"
     ]
    },
    {
     "data": {
      "text/markdown": [
       "![](http://i3.sinaimg.cn/ent/deco/2014/0311/images/sc_pic_loginImage.png)"
      ],
      "text/plain": [
       "<IPython.core.display.Markdown object>"
      ]
     },
     "metadata": {},
     "output_type": "display_data"
    },
    {
     "name": "stdout",
     "output_type": "stream",
     "text": [
      "http://n.sinaimg.cn/photo/transform/700/w1000h500/20200323/1ecb-ireifzi0941036.jpg\n"
     ]
    },
    {
     "data": {
      "text/markdown": [
       "![](http://n.sinaimg.cn/photo/transform/700/w1000h500/20200323/1ecb-ireifzi0941036.jpg)"
      ],
      "text/plain": [
       "<IPython.core.display.Markdown object>"
      ]
     },
     "metadata": {},
     "output_type": "display_data"
    },
    {
     "name": "stdout",
     "output_type": "stream",
     "text": [
      "http://n.sinaimg.cn/photo/transform/700/w1000h500/20200319/5974-iqyrykv3678207.jpg\n"
     ]
    },
    {
     "data": {
      "text/markdown": [
       "![](http://n.sinaimg.cn/photo/transform/700/w1000h500/20200319/5974-iqyrykv3678207.jpg)"
      ],
      "text/plain": [
       "<IPython.core.display.Markdown object>"
      ]
     },
     "metadata": {},
     "output_type": "display_data"
    },
    {
     "name": "stdout",
     "output_type": "stream",
     "text": [
      "http://n.sinaimg.cn/photo/transform/700/w1000h500/20200319/b8ca-iqyrykv3687548.jpg\n"
     ]
    },
    {
     "data": {
      "text/markdown": [
       "![](http://n.sinaimg.cn/photo/transform/700/w1000h500/20200319/b8ca-iqyrykv3687548.jpg)"
      ],
      "text/plain": [
       "<IPython.core.display.Markdown object>"
      ]
     },
     "metadata": {},
     "output_type": "display_data"
    },
    {
     "name": "stdout",
     "output_type": "stream",
     "text": [
      "http://n.sinaimg.cn/photo/transform/700/w1000h500/20200317/512d-iqyryku6022748.jpg\n"
     ]
    },
    {
     "data": {
      "text/markdown": [
       "![](http://n.sinaimg.cn/photo/transform/700/w1000h500/20200317/512d-iqyryku6022748.jpg)"
      ],
      "text/plain": [
       "<IPython.core.display.Markdown object>"
      ]
     },
     "metadata": {},
     "output_type": "display_data"
    },
    {
     "name": "stdout",
     "output_type": "stream",
     "text": [
      "http://n.sinaimg.cn/photo/transform/700/w1000h500/20200311/13a6-iqrhckn5050900.jpg\n"
     ]
    },
    {
     "data": {
      "text/markdown": [
       "![](http://n.sinaimg.cn/photo/transform/700/w1000h500/20200311/13a6-iqrhckn5050900.jpg)"
      ],
      "text/plain": [
       "<IPython.core.display.Markdown object>"
      ]
     },
     "metadata": {},
     "output_type": "display_data"
    },
    {
     "name": "stdout",
     "output_type": "stream",
     "text": [
      "http://n.sinaimg.cn/photo/transform/700/w1000h500/20200204/52c5-inzcrxs2389123.jpg\n"
     ]
    },
    {
     "data": {
      "text/markdown": [
       "![](http://n.sinaimg.cn/photo/transform/700/w1000h500/20200204/52c5-inzcrxs2389123.jpg)"
      ],
      "text/plain": [
       "<IPython.core.display.Markdown object>"
      ]
     },
     "metadata": {},
     "output_type": "display_data"
    },
    {
     "name": "stdout",
     "output_type": "stream",
     "text": [
      "http://n.sinaimg.cn/news/transform/w150h150/20180223/xbJU-fyrswmv2029131.jpg\n"
     ]
    },
    {
     "data": {
      "text/markdown": [
       "![](http://n.sinaimg.cn/news/transform/w150h150/20180223/xbJU-fyrswmv2029131.jpg)"
      ],
      "text/plain": [
       "<IPython.core.display.Markdown object>"
      ]
     },
     "metadata": {},
     "output_type": "display_data"
    },
    {
     "name": "stdout",
     "output_type": "stream",
     "text": [
      "http://n.sinaimg.cn/photo/transform/400/w200h200/20200227/c2b2-ipzreiw7664017.jpg\n"
     ]
    },
    {
     "data": {
      "text/markdown": [
       "![](http://n.sinaimg.cn/photo/transform/400/w200h200/20200227/c2b2-ipzreiw7664017.jpg)"
      ],
      "text/plain": [
       "<IPython.core.display.Markdown object>"
      ]
     },
     "metadata": {},
     "output_type": "display_data"
    },
    {
     "name": "stdout",
     "output_type": "stream",
     "text": [
      "http://n.sinaimg.cn/photo/transform/300/w150h150/20200227/06ba-ipzreiw7630838.jpg\n"
     ]
    },
    {
     "data": {
      "text/markdown": [
       "![](http://n.sinaimg.cn/photo/transform/300/w150h150/20200227/06ba-ipzreiw7630838.jpg)"
      ],
      "text/plain": [
       "<IPython.core.display.Markdown object>"
      ]
     },
     "metadata": {},
     "output_type": "display_data"
    },
    {
     "name": "stdout",
     "output_type": "stream",
     "text": [
      "http://n.sinaimg.cn/news/518/w311h207/20200114/929c-imztzhn8754073.jpg\n"
     ]
    },
    {
     "data": {
      "text/markdown": [
       "![](http://n.sinaimg.cn/news/518/w311h207/20200114/929c-imztzhn8754073.jpg)"
      ],
      "text/plain": [
       "<IPython.core.display.Markdown object>"
      ]
     },
     "metadata": {},
     "output_type": "display_data"
    },
    {
     "name": "stdout",
     "output_type": "stream",
     "text": [
      "http://n.sinaimg.cn/news/518/w311h207/20200103/87fa-imrkkfx1541172.jpg\n"
     ]
    },
    {
     "data": {
      "text/markdown": [
       "![](http://n.sinaimg.cn/news/518/w311h207/20200103/87fa-imrkkfx1541172.jpg)"
      ],
      "text/plain": [
       "<IPython.core.display.Markdown object>"
      ]
     },
     "metadata": {},
     "output_type": "display_data"
    },
    {
     "name": "stdout",
     "output_type": "stream",
     "text": [
      "http://n.sinaimg.cn/photo/518/w311h207/20191220/bdfa-ikyziqw6854805.jpg\n"
     ]
    },
    {
     "data": {
      "text/markdown": [
       "![](http://n.sinaimg.cn/photo/518/w311h207/20191220/bdfa-ikyziqw6854805.jpg)"
      ],
      "text/plain": [
       "<IPython.core.display.Markdown object>"
      ]
     },
     "metadata": {},
     "output_type": "display_data"
    },
    {
     "name": "stdout",
     "output_type": "stream",
     "text": [
      "http://n.sinaimg.cn/news/518/w311h207/20191128/33ed-iixnuaa1614760.jpg\n"
     ]
    },
    {
     "data": {
      "text/markdown": [
       "![](http://n.sinaimg.cn/news/518/w311h207/20191128/33ed-iixnuaa1614760.jpg)"
      ],
      "text/plain": [
       "<IPython.core.display.Markdown object>"
      ]
     },
     "metadata": {},
     "output_type": "display_data"
    },
    {
     "name": "stdout",
     "output_type": "stream",
     "text": [
      "http://n.sinaimg.cn/news/518/w311h207/20190815/835b-ichcymv3720884.jpg\n"
     ]
    },
    {
     "data": {
      "text/markdown": [
       "![](http://n.sinaimg.cn/news/518/w311h207/20190815/835b-ichcymv3720884.jpg)"
      ],
      "text/plain": [
       "<IPython.core.display.Markdown object>"
      ]
     },
     "metadata": {},
     "output_type": "display_data"
    },
    {
     "name": "stdout",
     "output_type": "stream",
     "text": [
      "http://i1.sinaimg.cn/dy/photo/2013/images/061901/photo_zxa_0614_blank.gif\n"
     ]
    },
    {
     "data": {
      "text/markdown": [
       "![](http://i1.sinaimg.cn/dy/photo/2013/images/061901/photo_zxa_0614_blank.gif)"
      ],
      "text/plain": [
       "<IPython.core.display.Markdown object>"
      ]
     },
     "metadata": {},
     "output_type": "display_data"
    },
    {
     "name": "stdout",
     "output_type": "stream",
     "text": [
      "http://n.sinaimg.cn/news/518/w311h207/20190717/93e3-hzxsvnp0392909.jpg\n"
     ]
    },
    {
     "data": {
      "text/markdown": [
       "![](http://n.sinaimg.cn/news/518/w311h207/20190717/93e3-hzxsvnp0392909.jpg)"
      ],
      "text/plain": [
       "<IPython.core.display.Markdown object>"
      ]
     },
     "metadata": {},
     "output_type": "display_data"
    },
    {
     "name": "stdout",
     "output_type": "stream",
     "text": [
      "http://n.sinaimg.cn/news/518/w311h207/20190529/874f-hxsrwwq7584778.jpg\n"
     ]
    },
    {
     "data": {
      "text/markdown": [
       "![](http://n.sinaimg.cn/news/518/w311h207/20190529/874f-hxsrwwq7584778.jpg)"
      ],
      "text/plain": [
       "<IPython.core.display.Markdown object>"
      ]
     },
     "metadata": {},
     "output_type": "display_data"
    },
    {
     "name": "stdout",
     "output_type": "stream",
     "text": [
      "http://n.sinaimg.cn/photo/518/w311h207/20190509/3c46-hwsffzc0057601.jpg\n"
     ]
    },
    {
     "data": {
      "text/markdown": [
       "![](http://n.sinaimg.cn/photo/518/w311h207/20190509/3c46-hwsffzc0057601.jpg)"
      ],
      "text/plain": [
       "<IPython.core.display.Markdown object>"
      ]
     },
     "metadata": {},
     "output_type": "display_data"
    },
    {
     "name": "stdout",
     "output_type": "stream",
     "text": [
      "http://n.sinaimg.cn/photo/518/w311h207/20190428/DVog-hwfpcxm7980415.jpg\n"
     ]
    },
    {
     "data": {
      "text/markdown": [
       "![](http://n.sinaimg.cn/photo/518/w311h207/20190428/DVog-hwfpcxm7980415.jpg)"
      ],
      "text/plain": [
       "<IPython.core.display.Markdown object>"
      ]
     },
     "metadata": {},
     "output_type": "display_data"
    },
    {
     "name": "stdout",
     "output_type": "stream",
     "text": [
      "http://n.sinaimg.cn/photo/518/w311h207/20190424/IVc1-hvvuiyn8440075.jpg\n"
     ]
    },
    {
     "data": {
      "text/markdown": [
       "![](http://n.sinaimg.cn/photo/518/w311h207/20190424/IVc1-hvvuiyn8440075.jpg)"
      ],
      "text/plain": [
       "<IPython.core.display.Markdown object>"
      ]
     },
     "metadata": {},
     "output_type": "display_data"
    },
    {
     "name": "stdout",
     "output_type": "stream",
     "text": [
      "http://i1.sinaimg.cn/dy/photo/2013/images/061901/photo_zxa_0614_blank.gif\n"
     ]
    },
    {
     "data": {
      "text/markdown": [
       "![](http://i1.sinaimg.cn/dy/photo/2013/images/061901/photo_zxa_0614_blank.gif)"
      ],
      "text/plain": [
       "<IPython.core.display.Markdown object>"
      ]
     },
     "metadata": {},
     "output_type": "display_data"
    },
    {
     "name": "stdout",
     "output_type": "stream",
     "text": [
      "http://i1.sinaimg.cn/dy/photo/2013/images/061901/photo_zxa_0614_blank.gif\n"
     ]
    },
    {
     "data": {
      "text/markdown": [
       "![](http://i1.sinaimg.cn/dy/photo/2013/images/061901/photo_zxa_0614_blank.gif)"
      ],
      "text/plain": [
       "<IPython.core.display.Markdown object>"
      ]
     },
     "metadata": {},
     "output_type": "display_data"
    },
    {
     "name": "stdout",
     "output_type": "stream",
     "text": [
      "http://i1.sinaimg.cn/dy/photo/2013/images/061901/photo_zxa_0614_blank.gif\n"
     ]
    },
    {
     "data": {
      "text/markdown": [
       "![](http://i1.sinaimg.cn/dy/photo/2013/images/061901/photo_zxa_0614_blank.gif)"
      ],
      "text/plain": [
       "<IPython.core.display.Markdown object>"
      ]
     },
     "metadata": {},
     "output_type": "display_data"
    },
    {
     "name": "stdout",
     "output_type": "stream",
     "text": [
      "http://n.sinaimg.cn/news/transform/20160804/7QRM-fxutfpk4726401.jpg\n"
     ]
    },
    {
     "data": {
      "text/markdown": [
       "![](http://n.sinaimg.cn/news/transform/20160804/7QRM-fxutfpk4726401.jpg)"
      ],
      "text/plain": [
       "<IPython.core.display.Markdown object>"
      ]
     },
     "metadata": {},
     "output_type": "display_data"
    },
    {
     "name": "stdout",
     "output_type": "stream",
     "text": [
      "http://n.sinaimg.cn/photo/transform/525/w300h225/20180326/7GT0-fysqfnf7807130.jpg\n"
     ]
    },
    {
     "data": {
      "text/markdown": [
       "![](http://n.sinaimg.cn/photo/transform/525/w300h225/20180326/7GT0-fysqfnf7807130.jpg)"
      ],
      "text/plain": [
       "<IPython.core.display.Markdown object>"
      ]
     },
     "metadata": {},
     "output_type": "display_data"
    },
    {
     "name": "stdout",
     "output_type": "stream",
     "text": [
      "http://n.sinaimg.cn/news/transform/525/w300h225/20180504/oGrt-fzyqqiq6990409.jpg\n"
     ]
    },
    {
     "data": {
      "text/markdown": [
       "![](http://n.sinaimg.cn/news/transform/525/w300h225/20180504/oGrt-fzyqqiq6990409.jpg)"
      ],
      "text/plain": [
       "<IPython.core.display.Markdown object>"
      ]
     },
     "metadata": {},
     "output_type": "display_data"
    },
    {
     "name": "stdout",
     "output_type": "stream",
     "text": [
      "http://n.sinaimg.cn/news/transform/555/w300h255/20191204/5cca-ikhvemx7009599.jpg\n"
     ]
    },
    {
     "data": {
      "text/markdown": [
       "![](http://n.sinaimg.cn/news/transform/555/w300h255/20191204/5cca-ikhvemx7009599.jpg)"
      ],
      "text/plain": [
       "<IPython.core.display.Markdown object>"
      ]
     },
     "metadata": {},
     "output_type": "display_data"
    },
    {
     "name": "stdout",
     "output_type": "stream",
     "text": [
      "http://n.sinaimg.cn/history/20170106/ZCve-fxzkssy0887004.jpg\n"
     ]
    },
    {
     "data": {
      "text/markdown": [
       "![](http://n.sinaimg.cn/history/20170106/ZCve-fxzkssy0887004.jpg)"
      ],
      "text/plain": [
       "<IPython.core.display.Markdown object>"
      ]
     },
     "metadata": {},
     "output_type": "display_data"
    },
    {
     "name": "stdout",
     "output_type": "stream",
     "text": [
      "http://n.sinaimg.cn/photo/transform/555/w300h255/20190401/6aYG-huxwryw8369832.jpg\n"
     ]
    },
    {
     "data": {
      "text/markdown": [
       "![](http://n.sinaimg.cn/photo/transform/555/w300h255/20190401/6aYG-huxwryw8369832.jpg)"
      ],
      "text/plain": [
       "<IPython.core.display.Markdown object>"
      ]
     },
     "metadata": {},
     "output_type": "display_data"
    },
    {
     "name": "stdout",
     "output_type": "stream",
     "text": [
      "http://n.sinaimg.cn/news/transform/555/w300h255/20191204/e13c-ikhvemx7141207.jpg\n"
     ]
    },
    {
     "data": {
      "text/markdown": [
       "![](http://n.sinaimg.cn/news/transform/555/w300h255/20191204/e13c-ikhvemx7141207.jpg)"
      ],
      "text/plain": [
       "<IPython.core.display.Markdown object>"
      ]
     },
     "metadata": {},
     "output_type": "display_data"
    },
    {
     "name": "stdout",
     "output_type": "stream",
     "text": [
      "http://n.sinaimg.cn/photo/transform/525/w300h225/20200119/c159-inhcycc3051073.jpg\n"
     ]
    },
    {
     "data": {
      "text/markdown": [
       "![](http://n.sinaimg.cn/photo/transform/525/w300h225/20200119/c159-inhcycc3051073.jpg)"
      ],
      "text/plain": [
       "<IPython.core.display.Markdown object>"
      ]
     },
     "metadata": {},
     "output_type": "display_data"
    },
    {
     "name": "stdout",
     "output_type": "stream",
     "text": [
      "http://n.sinaimg.cn/news/4803d74b/20170515/XinLangZhongCelogo.png\n"
     ]
    },
    {
     "data": {
      "text/markdown": [
       "![](http://n.sinaimg.cn/news/4803d74b/20170515/XinLangZhongCelogo.png)"
      ],
      "text/plain": [
       "<IPython.core.display.Markdown object>"
      ]
     },
     "metadata": {},
     "output_type": "display_data"
    },
    {
     "name": "stdout",
     "output_type": "stream",
     "text": [
      "http://www.sinaimg.cn/photo/2014/0902/U10744P1505DT20140902173306.png\n"
     ]
    },
    {
     "data": {
      "text/markdown": [
       "![](http://www.sinaimg.cn/photo/2014/0902/U10744P1505DT20140902173306.png)"
      ],
      "text/plain": [
       "<IPython.core.display.Markdown object>"
      ]
     },
     "metadata": {},
     "output_type": "display_data"
    },
    {
     "name": "stdout",
     "output_type": "stream",
     "text": [
      "http://www.sinaimg.cn/photo/2016/0217/U12716P1505DT20160217151709.png\n"
     ]
    },
    {
     "data": {
      "text/markdown": [
       "![](http://www.sinaimg.cn/photo/2016/0217/U12716P1505DT20160217151709.png)"
      ],
      "text/plain": [
       "<IPython.core.display.Markdown object>"
      ]
     },
     "metadata": {},
     "output_type": "display_data"
    },
    {
     "name": "stdout",
     "output_type": "stream",
     "text": [
      "http://www.sinaimg.cn/photo/2014/0124/U9892P1505DT20140124183918.png\n"
     ]
    },
    {
     "data": {
      "text/markdown": [
       "![](http://www.sinaimg.cn/photo/2014/0124/U9892P1505DT20140124183918.png)"
      ],
      "text/plain": [
       "<IPython.core.display.Markdown object>"
      ]
     },
     "metadata": {},
     "output_type": "display_data"
    },
    {
     "name": "stdout",
     "output_type": "stream",
     "text": [
      "http://n.sinaimg.cn/photo/4c22c289/20160303/damei.png\n"
     ]
    },
    {
     "data": {
      "text/markdown": [
       "![](http://n.sinaimg.cn/photo/4c22c289/20160303/damei.png)"
      ],
      "text/plain": [
       "<IPython.core.display.Markdown object>"
      ]
     },
     "metadata": {},
     "output_type": "display_data"
    },
    {
     "name": "stdout",
     "output_type": "stream",
     "text": [
      "http://www.sinaimg.cn/photo/2014/0529/U10744P1505DT20140529155804.png\n"
     ]
    },
    {
     "data": {
      "text/markdown": [
       "![](http://www.sinaimg.cn/photo/2014/0529/U10744P1505DT20140529155804.png)"
      ],
      "text/plain": [
       "<IPython.core.display.Markdown object>"
      ]
     },
     "metadata": {},
     "output_type": "display_data"
    },
    {
     "name": "stdout",
     "output_type": "stream",
     "text": [
      "https://logo.mepai.me/logo/mepai.png\n"
     ]
    },
    {
     "data": {
      "text/markdown": [
       "![](https://logo.mepai.me/logo/mepai.png)"
      ],
      "text/plain": [
       "<IPython.core.display.Markdown object>"
      ]
     },
     "metadata": {},
     "output_type": "display_data"
    }
   ],
   "source": [
    "from requests_html import HTMLSession\n",
    "session = HTMLSession()\n",
    "r = session.get(\"http://photo.sina.com.cn/\")\n",
    "\n",
    "img = r.html.xpath(\"//img/@src\")\n",
    "for url in img:\n",
    "    print(url)  # 获得图片url\n",
    "    display(Markdown('![]({url})'.format(url=url))) # 展示图片"
   ]
  },
  {
   "cell_type": "markdown",
   "metadata": {},
   "source": [
    "## 4. 总结"
   ]
  },
  {
   "cell_type": "markdown",
   "metadata": {},
   "source": [
    "1. 爬虫真快乐\n",
    "2. 语法还不是记得很牢\n",
    "3. 如果想爬取网页的某个内容，一定要找准标签"
   ]
  },
  {
   "cell_type": "code",
   "execution_count": null,
   "metadata": {},
   "outputs": [],
   "source": []
  }
 ],
 "metadata": {
  "kernelspec": {
   "display_name": "Python 3",
   "language": "python",
   "name": "python3"
  },
  "language_info": {
   "codemirror_mode": {
    "name": "ipython",
    "version": 3
   },
   "file_extension": ".py",
   "mimetype": "text/x-python",
   "name": "python",
   "nbconvert_exporter": "python",
   "pygments_lexer": "ipython3",
   "version": "3.7.3"
  }
 },
 "nbformat": 4,
 "nbformat_minor": 2
}
