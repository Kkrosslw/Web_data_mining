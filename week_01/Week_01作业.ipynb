{
 "cells": [
  {
   "cell_type": "code",
   "execution_count": 14,
   "metadata": {},
   "outputs": [],
   "source": [
    "from lxml import html\n",
    "import requests"
   ]
  },
  {
   "cell_type": "markdown",
   "metadata": {},
   "source": [
    "## 极易: prj00_例 liepin工作 找另外的工作 or prj00_例 图片新闻_Bing 找另外的图片"
   ]
  },
  {
   "cell_type": "code",
   "execution_count": 15,
   "metadata": {},
   "outputs": [
    {
     "name": "stdout",
     "output_type": "stream",
     "text": [
      "['\\r\\n\\t\\t\\t\\t\\t\\t\\t\\t\\t\\t\\t\\t\\tJAVA开发高级工程师（数字化产品） ', '\\r\\n\\t\\t\\t\\t\\t\\t\\t\\t\\t\\t\\t\\t\\tJAVA开发工程师（数字化产品） ', '\\r\\n\\t\\t\\t\\t\\t\\t\\t\\t\\t\\t\\t\\t\\tjava开发工程师 ', '\\r\\n\\t\\t\\t\\t\\t\\t\\t\\t\\t\\t\\t\\t\\t乌鸫科技-高级JAVA开发工程师/技术专家-政务方向 ', '\\r\\n\\t\\t\\t\\t\\t\\t\\t\\t\\t\\t\\t\\t\\tJava后端开发工程师 ', '\\r\\n\\t\\t\\t\\t\\t\\t\\t\\t\\t\\t\\t\\t\\t物联网云服务Java开发工程师（后端/前端） ', '\\r\\n\\t\\t\\t\\t\\t\\t\\t\\t\\t\\t\\t\\t\\tJava Engineer ', '\\r\\n\\t\\t\\t\\t\\t\\t\\t\\t\\t\\t\\t\\t\\tJava开发工程师 ', '\\r\\n\\t\\t\\t\\t\\t\\t\\t\\t\\t\\t\\t\\t\\t高级JAVA工程师（搜索方向） ', '\\r\\n\\t\\t\\t\\t\\t\\t\\t\\t\\t\\t\\t\\t\\t高级JAVA工程师（搜索方向） ', '\\r\\n\\t\\t\\t\\t\\t\\t\\t\\t\\t\\t\\t\\t\\t钉钉(Dingtalk)-搜索中心-Java开发技术专家 ', '\\r\\n\\t\\t\\t\\t\\t\\t\\t\\t\\t\\t\\t\\t\\tjava开发工程师 ', '\\r\\n\\t\\t\\t\\t\\t\\t\\t\\t\\t\\t\\t\\t\\t高级java开发工程师 ', '\\r\\n\\t\\t\\t\\t\\t\\t\\t\\t\\t\\t\\t\\t\\tJava开发工程师 ', '\\r\\n\\t\\t\\t\\t\\t\\t\\t\\t\\t\\t\\t\\t\\tJava中/高级开发 ', '\\r\\n\\t\\t\\t\\t\\t\\t\\t\\t\\t\\t\\t\\t\\tJava高级开发工程师 ', '\\r\\n\\t\\t\\t\\t\\t\\t\\t\\t\\t\\t\\t\\t\\t高级JAVA工程师 ', '\\r\\n\\t\\t\\t\\t\\t\\t\\t\\t\\t\\t\\t\\t\\tJava后端工程师 ', '\\r\\n\\t\\t\\t\\t\\t\\t\\t\\t\\t\\t\\t\\t\\t高级java开发工程师 ', '\\r\\n\\t\\t\\t\\t\\t\\t\\t\\t\\t\\t\\t\\t\\t高级JAVA开发工程师 ', '\\r\\n\\t\\t\\t\\t\\t\\t\\t\\t\\t\\t\\t\\t\\tJava开始工程师 ', '\\r\\n\\t\\t\\t\\t\\t\\t\\t\\t\\t\\t\\t\\t\\tJava高级工程师 ', '\\r\\n\\t\\t\\t\\t\\t\\t\\t\\t\\t\\t\\t\\t\\tJava研发工程师 ', '\\r\\n\\t\\t\\t\\t\\t\\t\\t\\t\\t\\t\\t\\t\\t高级java开发工程师（央企平台） ', '\\r\\n\\t\\t\\t\\t\\t\\t\\t\\t\\t\\t\\t\\t\\t云计算/Java/后台开发工程师 ', '\\r\\n\\t\\t\\t\\t\\t\\t\\t\\t\\t\\t\\t\\t\\t高级Java工程师 ', '\\r\\n\\t\\t\\t\\t\\t\\t\\t\\t\\t\\t\\t\\t\\t资深JAVA工程师 ', '\\r\\n\\t\\t\\t\\t\\t\\t\\t\\t\\t\\t\\t\\t\\tjava高级工程师 ', '\\r\\n\\t\\t\\t\\t\\t\\t\\t\\t\\t\\t\\t\\t\\t对日JAVA开发工程师（SE） ', '\\r\\n\\t\\t\\t\\t\\t\\t\\t\\t\\t\\t\\t\\t\\tFull-stack Java Senior Developer ', '\\r\\n\\t\\t\\t\\t\\t\\t\\t\\t\\t\\t\\t\\t\\t系统规划部 JAVA工程师 ', '\\r\\n\\t\\t\\t\\t\\t\\t\\t\\t\\t\\t\\t\\t\\tjava开发工程师 ', '\\r\\n\\t\\t\\t\\t\\t\\t\\t\\t\\t\\t\\t\\t\\t资深java工程师 ', '\\r\\n\\t\\t\\t\\t\\t\\t\\t\\t\\t\\t\\t\\t\\tjava研发工程师 ', '\\r\\n\\t\\t\\t\\t\\t\\t\\t\\t\\t\\t\\t\\t\\tjava开发工程师 ', '\\r\\n\\t\\t\\t\\t\\t\\t\\t\\t\\t\\t\\t\\t\\tjava开发工程师 ', '\\r\\n\\t\\t\\t\\t\\t\\t\\t\\t\\t\\t\\t\\t\\t软件开发工程师（Java） ', '\\r\\n\\t\\t\\t\\t\\t\\t\\t\\t\\t\\t\\t\\t\\t中高级Java开发（外派连连支付） ', '\\r\\n\\t\\t\\t\\t\\t\\t\\t\\t\\t\\t\\t\\t\\tJava高级开发工程师 ', '\\r\\n\\t\\t\\t\\t\\t\\t\\t\\t\\t\\t\\t\\t\\tjava开发（云计算） ']\n"
     ]
    }
   ],
   "source": [
    "# 爬取猎聘java岗位的工作\n",
    "\n",
    "r = requests.get(\"https://www.liepin.com/zhaopin/?key=java\")\n",
    "tree = html.fromstring(r.text)\n",
    "job = tree.xpath(\"//div[@class='job-info']/h3/a/text()\")\n",
    "print(job)"
   ]
  },
  {
   "cell_type": "code",
   "execution_count": 17,
   "metadata": {},
   "outputs": [
    {
     "name": "stdout",
     "output_type": "stream",
     "text": [
      "[<Element img at 0x20ea50713b8>, <Element img at 0x20ea5085408>, <Element img at 0x20ea501c228>, <Element img at 0x20ea501c688>, <Element img at 0x20ea501c728>, <Element img at 0x20ea501c6d8>, <Element img at 0x20ea501c188>, <Element img at 0x20ea501c4f8>, <Element img at 0x20ea501c318>, <Element img at 0x20ea501c5e8>, <Element img at 0x20ea501c638>, <Element img at 0x20ea501c778>, <Element img at 0x20ea501c7c8>, <Element img at 0x20ea501c818>, <Element img at 0x20ea501c868>, <Element img at 0x20ea501c9a8>, <Element img at 0x20ea501c9f8>, <Element img at 0x20ea501ca48>, <Element img at 0x20ea501ca98>]\n"
     ]
    }
   ],
   "source": [
    "# 爬取知妖网图片\n",
    "from IPython.core.display import display, Markdown\n",
    "r = requests.get(\"http://www.cbaigui.com/\")\n",
    "tree = html.fromstring(r.content)\n",
    "img = tree.xpath(\"//img\")\n",
    "print(img)"
   ]
  },
  {
   "cell_type": "markdown",
   "metadata": {},
   "source": [
    "## 易: prj00_例 liepin工作 找另外的工作用不同的限定不同城市"
   ]
  },
  {
   "cell_type": "code",
   "execution_count": 18,
   "metadata": {},
   "outputs": [
    {
     "name": "stdout",
     "output_type": "stream",
     "text": [
      "['\\r\\n\\t\\t\\t\\t\\t\\t\\t\\t\\t\\t\\t\\t\\tC++/QT技术负责人 ', '\\r\\n\\t\\t\\t\\t\\t\\t\\t\\t\\t\\t\\t\\t\\t服务器C++工程师（H3D-PR110006）(职位编号：H3D-PR110006) ', '\\r\\n\\t\\t\\t\\t\\t\\t\\t\\t\\t\\t\\t\\t\\tC++高级开发工程师(QT) ', '\\r\\n\\t\\t\\t\\t\\t\\t\\t\\t\\t\\t\\t\\t\\tC++开发工程师/架构 ', '\\r\\n\\t\\t\\t\\t\\t\\t\\t\\t\\t\\t\\t\\t\\t代码开发工程师（Fortran/Matlab/Python/C/C++中任意1-3门语言） ', '\\r\\n\\t\\t\\t\\t\\t\\t\\t\\t\\t\\t\\t\\t\\t高级C++开发工程师-无人车配送中心 ', '\\r\\n\\t\\t\\t\\t\\t\\t\\t\\t\\t\\t\\t\\t\\tC++开发工程师 ', '\\r\\n\\t\\t\\t\\t\\t\\t\\t\\t\\t\\t\\t\\t\\t美团搜索—C++工程师/技术专家 ', '\\r\\n\\t\\t\\t\\t\\t\\t\\t\\t\\t\\t\\t\\t\\t美团App部-机器学习架构师（C++） ', '\\r\\n\\t\\t\\t\\t\\t\\t\\t\\t\\t\\t\\t\\t\\t美团搜索-C++工程师/技术专家 ', '\\r\\n\\t\\t\\t\\t\\t\\t\\t\\t\\t\\t\\t\\t\\t基础技术部-C/C++资深工程师/技术专家-KV存储 ', '\\r\\n\\t\\t\\t\\t\\t\\t\\t\\t\\t\\t\\t\\t\\tC++开发高级工程师 ', '\\r\\n\\t\\t\\t\\t\\t\\t\\t\\t\\t\\t\\t\\t\\t高级C++软件研发工程师\\t ', '\\r\\n\\t\\t\\t\\t\\t\\t\\t\\t\\t\\t\\t\\t\\t资深C++服务器开发工程师 ', '\\r\\n\\t\\t\\t\\t\\t\\t\\t\\t\\t\\t\\t\\t\\t高级C++开发工程师 ', '\\r\\n\\t\\t\\t\\t\\t\\t\\t\\t\\t\\t\\t\\t\\t资深C++开发工程师 ', '\\r\\n\\t\\t\\t\\t\\t\\t\\t\\t\\t\\t\\t\\t\\tC++工程师 ', '\\r\\n\\t\\t\\t\\t\\t\\t\\t\\t\\t\\t\\t\\t\\t高级C++开发工程师 ', '\\r\\n\\t\\t\\t\\t\\t\\t\\t\\t\\t\\t\\t\\t\\tc++技术总监 ', '\\r\\n\\t\\t\\t\\t\\t\\t\\t\\t\\t\\t\\t\\t\\tc++研发工程师 ', '\\r\\n\\t\\t\\t\\t\\t\\t\\t\\t\\t\\t\\t\\t\\t云桌面c++工程师 ', '\\r\\n\\t\\t\\t\\t\\t\\t\\t\\t\\t\\t\\t\\t\\t系统软件工程师（c++） ', '\\r\\n\\t\\t\\t\\t\\t\\t\\t\\t\\t\\t\\t\\t\\tC++自动化研发工程师 ', '\\r\\n\\t\\t\\t\\t\\t\\t\\t\\t\\t\\t\\t\\t\\tc++研发工程师 ', '\\r\\n\\t\\t\\t\\t\\t\\t\\t\\t\\t\\t\\t\\t\\t视觉软件架构师（c++） ', '\\r\\n\\t\\t\\t\\t\\t\\t\\t\\t\\t\\t\\t\\t\\t高级C++开发工程师 ', '\\r\\n\\t\\t\\t\\t\\t\\t\\t\\t\\t\\t\\t\\t\\tC++开发工程师（搜索引擎方向） ', '\\r\\n\\t\\t\\t\\t\\t\\t\\t\\t\\t\\t\\t\\t\\tC++/JAVA高级研发专家/研究员 ', '\\r\\n\\t\\t\\t\\t\\t\\t\\t\\t\\t\\t\\t\\t\\tc/c++ ', '\\r\\n\\t\\t\\t\\t\\t\\t\\t\\t\\t\\t\\t\\t\\tc++系统开发工程师 ', '\\r\\n\\t\\t\\t\\t\\t\\t\\t\\t\\t\\t\\t\\t\\tC++分布式系统研发专家 ', '\\r\\n\\t\\t\\t\\t\\t\\t\\t\\t\\t\\t\\t\\t\\tC++开发工程师 ', '\\r\\n\\t\\t\\t\\t\\t\\t\\t\\t\\t\\t\\t\\t\\t高级C++ ', '\\r\\n\\t\\t\\t\\t\\t\\t\\t\\t\\t\\t\\t\\t\\t快驴事业部—C++/Windows研发工程师 ', '\\r\\n\\t\\t\\t\\t\\t\\t\\t\\t\\t\\t\\t\\t\\tC++软件研发工程师 ', '\\r\\n\\t\\t\\t\\t\\t\\t\\t\\t\\t\\t\\t\\t\\t软件开发工程师（算法方向 AI/C++） ', '\\r\\n\\t\\t\\t\\t\\t\\t\\t\\t\\t\\t\\t\\t\\t高级C++开发工程师-无人车 ', '\\r\\n\\t\\t\\t\\t\\t\\t\\t\\t\\t\\t\\t\\t\\tC++开发工程师 ', '\\r\\n\\t\\t\\t\\t\\t\\t\\t\\t\\t\\t\\t\\t\\t高级C++开发工程师 ', '\\r\\n\\t\\t\\t\\t\\t\\t\\t\\t\\t\\t\\t\\t\\tC++ QT高级开发 ']\n"
     ]
    }
   ],
   "source": [
    "# 爬取北京市关于C++的工作\n",
    "from lxml import html\n",
    "import requests\n",
    "a = requests.get(\"https://www.liepin.com/zhaopin/?isAnalysis=&dqs=010&pubTime=&salary=&subIndustry=&industryType=&compscale=&key=C%2B%2B&init=-1&searchType=1&headckid=04d6711fef729f9f&flushckid=1&compkind=&fromSearchBtn=2&sortFlag=15&ckid=04d6711fef729f9f&jobKind=&industries=&clean_condition=&siTag=9vh8n9z4s8Pwf5Px7ocSyQ%7EfA9rXquZc5IkJpXC-Ycixw&d_sfrom=search_prime&d_ckId=9eb22b3b202783acc82e21db4d93a882&d_curPage=0&d_pageSize=40&d_headId=9eb22b3b202783acc82e21db4d93a882\")\n",
    "tree = html.fromstring(a.text)\n",
    "jobs = tree.xpath(\"//div[@class='job-info']/h3/a/text()\")\n",
    "print(jobs)"
   ]
  },
  {
   "cell_type": "markdown",
   "metadata": {},
   "source": [
    "##  prj00_例 liepin工作 找另外的工作 且 抽取（extract）出 薪水丶城市等信息"
   ]
  },
  {
   "cell_type": "code",
   "execution_count": 19,
   "metadata": {
    "scrolled": true
   },
   "outputs": [
    {
     "name": "stdout",
     "output_type": "stream",
     "text": [
      "['\\r\\n\\t\\t\\t\\t\\t\\t\\t\\t\\t\\t\\t\\t\\tC#/C++软件工程师 ', '\\r\\n\\t\\t\\t\\t\\t\\t\\t\\t\\t\\t\\t\\t\\tC++/go服务端开发工程师（游戏） ', '\\r\\n\\t\\t\\t\\t\\t\\t\\t\\t\\t\\t\\t\\t\\t量化C++工程师 ', '\\r\\n\\t\\t\\t\\t\\t\\t\\t\\t\\t\\t\\t\\t\\tC++/QT技术负责人 ', '\\r\\n\\t\\t\\t\\t\\t\\t\\t\\t\\t\\t\\t\\t\\t高级软件工程师（C/C++  嵌入式   西安） ', '\\r\\n\\t\\t\\t\\t\\t\\t\\t\\t\\t\\t\\t\\t\\tC++/QT软件开发工程师 ', '\\r\\n\\t\\t\\t\\t\\t\\t\\t\\t\\t\\t\\t\\t\\tc++工程师 ', '\\r\\n\\t\\t\\t\\t\\t\\t\\t\\t\\t\\t\\t\\t\\tC++软件开发工程师 ', '\\r\\n\\t\\t\\t\\t\\t\\t\\t\\t\\t\\t\\t\\t\\tC++高级开发工程师(QT) ', '\\r\\n\\t\\t\\t\\t\\t\\t\\t\\t\\t\\t\\t\\t\\tC++开发工程师 ', '\\r\\n\\t\\t\\t\\t\\t\\t\\t\\t\\t\\t\\t\\t\\t服务器C++工程师（H3D-PR110006）(职位编号：H3D-PR110006) ', '\\r\\n\\t\\t\\t\\t\\t\\t\\t\\t\\t\\t\\t\\t\\tC++开发工程师/架构 ', '\\r\\n\\t\\t\\t\\t\\t\\t\\t\\t\\t\\t\\t\\t\\tC++后台组件开发工程师 ', '\\r\\n\\t\\t\\t\\t\\t\\t\\t\\t\\t\\t\\t\\t\\tC++高级开发工程师 ', '\\r\\n\\t\\t\\t\\t\\t\\t\\t\\t\\t\\t\\t\\t\\t研发软件技术总监（物联网/C#/C++/Jav ', '\\r\\n\\t\\t\\t\\t\\t\\t\\t\\t\\t\\t\\t\\t\\t 研发软件技术总监（物联网/C#/C++/Java） ', '\\r\\n\\t\\t\\t\\t\\t\\t\\t\\t\\t\\t\\t\\t\\tC++开发工程师 ', '\\r\\n\\t\\t\\t\\t\\t\\t\\t\\t\\t\\t\\t\\t\\t代码开发工程师（Fortran/Matlab/Python/C/C++中任意1-3门语言） ', '\\r\\n\\t\\t\\t\\t\\t\\t\\t\\t\\t\\t\\t\\t\\tC++后端服务器主程 ', '\\r\\n\\t\\t\\t\\t\\t\\t\\t\\t\\t\\t\\t\\t\\tC++软件开发工程师 ', '\\r\\n\\t\\t\\t\\t\\t\\t\\t\\t\\t\\t\\t\\t\\t高级C/C++工程师 ', '\\r\\n\\t\\t\\t\\t\\t\\t\\t\\t\\t\\t\\t\\t\\tC++ ', '\\r\\n\\t\\t\\t\\t\\t\\t\\t\\t\\t\\t\\t\\t\\t视觉/C++软件工程师 ', '\\r\\n\\t\\t\\t\\t\\t\\t\\t\\t\\t\\t\\t\\t\\t高级C++开发工程师-无人车配送中心 ', '\\r\\n\\t\\t\\t\\t\\t\\t\\t\\t\\t\\t\\t\\t\\tC++开发工程师 ', '\\r\\n\\t\\t\\t\\t\\t\\t\\t\\t\\t\\t\\t\\t\\t高级软件开发工程师（C/C++） ', '\\r\\n\\t\\t\\t\\t\\t\\t\\t\\t\\t\\t\\t\\t\\t美团搜索—C++工程师/技术专家 ', '\\r\\n\\t\\t\\t\\t\\t\\t\\t\\t\\t\\t\\t\\t\\t高级VC/C++开发工程师 ', '\\r\\n\\t\\t\\t\\t\\t\\t\\t\\t\\t\\t\\t\\t\\t美团App部-机器学习架构师（C++） ', '\\r\\n\\t\\t\\t\\t\\t\\t\\t\\t\\t\\t\\t\\t\\tC++软件工程师 ', '\\r\\n\\t\\t\\t\\t\\t\\t\\t\\t\\t\\t\\t\\t\\tc++开发工程师（senior） ', '\\r\\n\\t\\t\\t\\t\\t\\t\\t\\t\\t\\t\\t\\t\\tc++开发工程师（junior） ', '\\r\\n\\t\\t\\t\\t\\t\\t\\t\\t\\t\\t\\t\\t\\t算法C++ ', '\\r\\n\\t\\t\\t\\t\\t\\t\\t\\t\\t\\t\\t\\t\\t基础技术部-C++工程师/技术专家 ', '\\r\\n\\t\\t\\t\\t\\t\\t\\t\\t\\t\\t\\t\\t\\t游戏C++主程 ', '\\r\\n\\t\\t\\t\\t\\t\\t\\t\\t\\t\\t\\t\\t\\t数据库开发工程师（C/C++） ', '\\r\\n\\t\\t\\t\\t\\t\\t\\t\\t\\t\\t\\t\\t\\tC++开发工程师 ', '\\r\\n\\t\\t\\t\\t\\t\\t\\t\\t\\t\\t\\t\\t\\tC++高级工程师 ', '\\r\\n\\t\\t\\t\\t\\t\\t\\t\\t\\t\\t\\t\\t\\t美团搜索-C++工程师/技术专家 ', '\\r\\n\\t\\t\\t\\t\\t\\t\\t\\t\\t\\t\\t\\t\\t基础技术部-C/C++资深工程师/技术专家-KV存储 ']\n",
      "['10-15k·12薪', '硕士及以上', '经验不限', '20-35k·15薪', '大专及以上', '3年以上', '20-50k·12薪', '统招本科', '1年以上', '面议', '北京-大兴区', '本科及以上', '3年以上', '15-30k·12薪', '统招本科', '3年以上', '面议', '统招本科', '3年以上', '10-20k·12薪', '统招本科', '3年以上', '10-15k·12薪', '大专及以上', '2年以上', '20-40k·14薪', '统招本科', '3年以上', '14-22k·15薪', '统招本科', '3年以上', '15-25k·12薪', '学历不限', '经验不限', '30-45k·15薪', '本科及以上', '4年以上', '30-60k·12薪', '学历不限', '经验不限', '18-27k·12薪', '大专及以上', '5年以上', '25-35k·12薪', '本科及以上', '8年以上', '25-35k·12薪', '本科及以上', '8年以上', '8-18k·12薪', '大专及以上', '2年以上', '20-40k·12薪', '北京-和平里', '硕士及以上', '5年以上', '20-25k·12薪', '大专及以上', '5年以上', '10-20k·12薪', '本科及以上', '2年以上', '12-18k·14薪', '统招本科', '2年以上', '13-23k·13薪', '大专及以上', '2年以上', '10-15k·12薪', '本科及以上', '3年以上', '面议', '北京-朝阳区', '本科及以上', '5年以上', '面议', '大专及以上', '2年以上', '面议', '本科及以上', '3年以上', '面议', '北京-朝阳区', '本科及以上', '4年以上', '15-25k·12薪', '本科及以上', '经验不限', '面议', '北京-朝阳区', '本科及以上', '5年以上', '10-15k·12薪', '统招本科', '1年以上', '30-60k·12薪', '硕士及以上', '2年以上', '15-30k·12薪', '硕士及以上', '1年以上', '13-16k·12薪', '统招本科', '2年以上', '面议', '本科及以上', '3年以上', '25-30k·12薪', '大专及以上', '3年以上', '13-25k·12薪', '本科及以上', '3年以上', '8-10k·12薪', '学历不限', '经验不限', '10-16k·12薪', '本科及以上', '3年以上', '面议', '北京-朝阳区', '本科及以上', '4年以上', '面议', '北京-朝阳区', '本科及以上', '7年以上']\n",
      "['无锡', '上海-七宝', '上海-潍坊', '西安-雁塔区', '深圳-南山区', '成都-桂溪', '珠海', '北京-中关村', '杭州-滨江区', '北京', '北京', '深圳', '上海-长宁区', '上海-静安区', '上海', '西安', '重庆-沙坪坝区', '杭州', '厦门', '广州-天河区', '成都', '北京', '深圳-科技园', '宁波-北仑区', '成都', '上海', '上海', '深圳-南山区', '上海-长宁区', '重庆-沙坪坝区', '深圳-科技园', '南京', '南京-开发区']\n"
     ]
    }
   ],
   "source": [
    "# 爬取猎聘C++的相关信息\n",
    "b = requests.get(\"https://www.liepin.com/zhaopin/?isAnalysis=&dqs=&pubTime=&salary=&subIndustry=&industryType=&compscale=&key=C%2B%2B&init=-1&searchType=1&headckid=04d6711fef729f9f&flushckid=1&compkind=&fromSearchBtn=2&sortFlag=15&ckid=273abc2c37fa55cb&jobKind=&industries=&clean_condition=&siTag=9vh8n9z4s8Pwf5Px7ocSyQ%7EF5FSJAXvyHmQyODXqGxdVw&d_sfrom=search_prime&d_ckId=b63fff39333a9a3143a8e91b6dea3f55&d_curPage=0&d_pageSize=40&d_headId=9eb22b3b202783acc82e21db4d93a882\")\n",
    "tree = html.fromstring(b.text)\n",
    "job = tree.xpath(\"//div[@class='job-info']/h3/a/text()\")\n",
    "salary = tree.xpath(\"//p[@class='condition clearfix']/span/text()\")\n",
    "city = tree.xpath(\"//p[@class='condition clearfix']/a/text()\")\n",
    "\n",
    "print(job)\n",
    "print(salary)\n",
    "print(city)"
   ]
  },
  {
   "cell_type": "code",
   "execution_count": null,
   "metadata": {},
   "outputs": [],
   "source": []
  }
 ],
 "metadata": {
  "kernelspec": {
   "display_name": "Python 3",
   "language": "python",
   "name": "python3"
  },
  "language_info": {
   "codemirror_mode": {
    "name": "ipython",
    "version": 3
   },
   "file_extension": ".py",
   "mimetype": "text/x-python",
   "name": "python",
   "nbconvert_exporter": "python",
   "pygments_lexer": "ipython3",
   "version": "3.7.3"
  }
 },
 "nbformat": 4,
 "nbformat_minor": 2
}
