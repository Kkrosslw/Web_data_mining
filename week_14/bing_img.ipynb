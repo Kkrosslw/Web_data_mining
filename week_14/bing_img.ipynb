{
 "cells": [
  {
   "cell_type": "markdown",
   "metadata": {},
   "source": [
    "# 导入模块"
   ]
  },
  {
   "cell_type": "code",
   "execution_count": null,
   "metadata": {},
   "outputs": [],
   "source": [
    "import pandas as pd\n",
    "from requests_html import HTMLSession\n",
    "import scrapy"
   ]
  },
  {
   "cell_type": "markdown",
   "metadata": {},
   "source": [
    "# 解析图片URL"
   ]
  },
  {
   "cell_type": "code",
   "execution_count": 2,
   "metadata": {},
   "outputs": [
    {
     "data": {
      "text/plain": [
       "{'format': ['js'],\n",
       " 'idx': ['0'],\n",
       " 'n': ['1'],\n",
       " 'nc': ['1592720152828'],\n",
       " 'pid': ['hp']}"
      ]
     },
     "metadata": {},
     "output_type": "display_data"
    },
    {
     "data": {
      "text/plain": [
       "ParseResult(scheme='https', netloc='cn.bing.com', path='/HPImageArchive.aspx', params='', query='format=js&idx=0&n=1&nc=1592720152828&pid=hp', fragment='')"
      ]
     },
     "metadata": {},
     "output_type": "display_data"
    }
   ],
   "source": [
    "url = \"https://cn.bing.com/HPImageArchive.aspx?format=js&idx=0&n=1&nc=1592720152828&pid=hp\"\n",
    "\n",
    "# 使用 urllib 模块\n",
    "from urllib.parse import urlparse, parse_qs, urlencode\n",
    "# 使用 time 模块 ts\n",
    "from time import time\n",
    "\n",
    "def parse_url_qs (url):\n",
    "    six_parts = urlparse(url)       # 输入：url \n",
    "    out = parse_qs(six_parts.query)\n",
    "    return (out, six_parts)        # 输出：url各别解析成果，六大块\n",
    "\n",
    "参数, six = parse_url_qs (url)\n",
    "display(参数)\n",
    "display(six)\n",
    "\n",
    "参_template = 参数.copy()\n",
    "\n",
    "# 图片参数模板\n",
    "def get_url_byN(N):\n",
    "    参_template['idx'] = [str(N)]\n",
    "    参_template['ts'] = [int(time())]\n",
    "    q = urlencode(参_template, doseq = True) # doseq = True\n",
    "    six_new = six._replace(query=q)\n",
    "    u = six_new.geturl()\n",
    "    return (u,six_new)"
   ]
  },
  {
   "cell_type": "code",
   "execution_count": 3,
   "metadata": {},
   "outputs": [
    {
     "data": {
      "text/plain": [
       "['https://cn.bing.com/HPImageArchive.aspx?format=js&idx=0&n=1&nc=1592720152828&pid=hp&ts=1592720635',\n",
       " 'https://cn.bing.com/HPImageArchive.aspx?format=js&idx=1&n=1&nc=1592720152828&pid=hp&ts=1592720635',\n",
       " 'https://cn.bing.com/HPImageArchive.aspx?format=js&idx=2&n=1&nc=1592720152828&pid=hp&ts=1592720635',\n",
       " 'https://cn.bing.com/HPImageArchive.aspx?format=js&idx=3&n=1&nc=1592720152828&pid=hp&ts=1592720635',\n",
       " 'https://cn.bing.com/HPImageArchive.aspx?format=js&idx=4&n=1&nc=1592720152828&pid=hp&ts=1592720635',\n",
       " 'https://cn.bing.com/HPImageArchive.aspx?format=js&idx=5&n=1&nc=1592720152828&pid=hp&ts=1592720635',\n",
       " 'https://cn.bing.com/HPImageArchive.aspx?format=js&idx=6&n=1&nc=1592720152828&pid=hp&ts=1592720635',\n",
       " 'https://cn.bing.com/HPImageArchive.aspx?format=js&idx=7&n=1&nc=1592720152828&pid=hp&ts=1592720635']"
      ]
     },
     "execution_count": 3,
     "metadata": {},
     "output_type": "execute_result"
    }
   ],
   "source": [
    "start_urls = []\n",
    "for i in range(8):\n",
    "    u,s = get_url_byN(N=i)\n",
    "    start_urls.append(u)\n",
    "start_urls"
   ]
  },
  {
   "cell_type": "code",
   "execution_count": 19,
   "metadata": {},
   "outputs": [],
   "source": [
    "import json\n",
    "json.loads()"
   ]
  },
  {
   "cell_type": "code",
   "execution_count": 9,
   "metadata": {},
   "outputs": [],
   "source": [
    "session = HTMLSession()\n",
    "r = session.get( url )\n",
    "r_json = r.json()"
   ]
  },
  {
   "cell_type": "code",
   "execution_count": 10,
   "metadata": {},
   "outputs": [
    {
     "data": {
      "text/plain": [
       "{'images': [{'startdate': '20200620',\n",
       "   'fullstartdate': '202006201600',\n",
       "   'enddate': '20200621',\n",
       "   'url': '/th?id=OHR.BeardedTamarin_ZH-CN0250190365_1920x1080.jpg&rf=LaDigue_1920x1080.jpg&pid=hp',\n",
       "   'urlbase': '/th?id=OHR.BeardedTamarin_ZH-CN0250190365',\n",
       "   'copyright': '一只带着幼崽的长胡子皇狨猴 (© Chris White/iStock/Getty Images Plus)',\n",
       "   'copyrightlink': '/search?q=%e7%9a%87%e7%8b%a8%e7%8c%b4&form=hpcapt&mkt=zh-cn',\n",
       "   'title': '',\n",
       "   'quiz': '/search?q=Bing+homepage+quiz&filters=WQOskey:%22HPQuiz_20200620_BeardedTamarin%22&FORM=HPQUIZ',\n",
       "   'wp': True,\n",
       "   'hsh': '84cfa65185d7a1bd123bf78cf2ba1954',\n",
       "   'drk': 1,\n",
       "   'top': 1,\n",
       "   'bot': 1,\n",
       "   'hs': []}],\n",
       " 'tooltips': {'loading': '正在加载...',\n",
       "  'previous': '上一个图像',\n",
       "  'next': '下一个图像',\n",
       "  'walle': '此图片不能下载用作壁纸。',\n",
       "  'walls': '下载今日美图。仅限用作桌面壁纸。'}}"
      ]
     },
     "metadata": {},
     "output_type": "display_data"
    },
    {
     "data": {
      "text/html": [
       "<div>\n",
       "<style scoped>\n",
       "    .dataframe tbody tr th:only-of-type {\n",
       "        vertical-align: middle;\n",
       "    }\n",
       "\n",
       "    .dataframe tbody tr th {\n",
       "        vertical-align: top;\n",
       "    }\n",
       "\n",
       "    .dataframe thead th {\n",
       "        text-align: right;\n",
       "    }\n",
       "</style>\n",
       "<table border=\"1\" class=\"dataframe\">\n",
       "  <thead>\n",
       "    <tr style=\"text-align: right;\">\n",
       "      <th></th>\n",
       "      <th>0</th>\n",
       "    </tr>\n",
       "  </thead>\n",
       "  <tbody>\n",
       "    <tr>\n",
       "      <th>startdate</th>\n",
       "      <td>20200620</td>\n",
       "    </tr>\n",
       "    <tr>\n",
       "      <th>fullstartdate</th>\n",
       "      <td>202006201600</td>\n",
       "    </tr>\n",
       "    <tr>\n",
       "      <th>enddate</th>\n",
       "      <td>20200621</td>\n",
       "    </tr>\n",
       "    <tr>\n",
       "      <th>url</th>\n",
       "      <td>/th?id=OHR.BeardedTamarin_ZH-CN0250190365_1920...</td>\n",
       "    </tr>\n",
       "    <tr>\n",
       "      <th>urlbase</th>\n",
       "      <td>/th?id=OHR.BeardedTamarin_ZH-CN0250190365</td>\n",
       "    </tr>\n",
       "    <tr>\n",
       "      <th>copyright</th>\n",
       "      <td>一只带着幼崽的长胡子皇狨猴 (© Chris White/iStock/Getty Imag...</td>\n",
       "    </tr>\n",
       "    <tr>\n",
       "      <th>copyrightlink</th>\n",
       "      <td>/search?q=%e7%9a%87%e7%8b%a8%e7%8c%b4&amp;form=hpc...</td>\n",
       "    </tr>\n",
       "    <tr>\n",
       "      <th>title</th>\n",
       "      <td></td>\n",
       "    </tr>\n",
       "    <tr>\n",
       "      <th>quiz</th>\n",
       "      <td>/search?q=Bing+homepage+quiz&amp;filters=WQOskey:%...</td>\n",
       "    </tr>\n",
       "    <tr>\n",
       "      <th>wp</th>\n",
       "      <td>True</td>\n",
       "    </tr>\n",
       "    <tr>\n",
       "      <th>hsh</th>\n",
       "      <td>84cfa65185d7a1bd123bf78cf2ba1954</td>\n",
       "    </tr>\n",
       "    <tr>\n",
       "      <th>drk</th>\n",
       "      <td>1</td>\n",
       "    </tr>\n",
       "    <tr>\n",
       "      <th>top</th>\n",
       "      <td>1</td>\n",
       "    </tr>\n",
       "    <tr>\n",
       "      <th>bot</th>\n",
       "      <td>1</td>\n",
       "    </tr>\n",
       "    <tr>\n",
       "      <th>hs</th>\n",
       "      <td>[]</td>\n",
       "    </tr>\n",
       "  </tbody>\n",
       "</table>\n",
       "</div>"
      ],
      "text/plain": [
       "                                                               0\n",
       "startdate                                               20200620\n",
       "fullstartdate                                       202006201600\n",
       "enddate                                                 20200621\n",
       "url            /th?id=OHR.BeardedTamarin_ZH-CN0250190365_1920...\n",
       "urlbase                /th?id=OHR.BeardedTamarin_ZH-CN0250190365\n",
       "copyright      一只带着幼崽的长胡子皇狨猴 (© Chris White/iStock/Getty Imag...\n",
       "copyrightlink  /search?q=%e7%9a%87%e7%8b%a8%e7%8c%b4&form=hpc...\n",
       "title                                                           \n",
       "quiz           /search?q=Bing+homepage+quiz&filters=WQOskey:%...\n",
       "wp                                                          True\n",
       "hsh                             84cfa65185d7a1bd123bf78cf2ba1954\n",
       "drk                                                            1\n",
       "top                                                            1\n",
       "bot                                                            1\n",
       "hs                                                            []"
      ]
     },
     "metadata": {},
     "output_type": "display_data"
    }
   ],
   "source": [
    "display(r_json)\n",
    "df = pd.json_normalize(r_json['images'])\n",
    "display(df.T)"
   ]
  },
  {
   "cell_type": "code",
   "execution_count": 11,
   "metadata": {},
   "outputs": [
    {
     "data": {
      "text/plain": [
       "'一只带着幼崽的长胡子皇狨猴 (© Chris White/iStock/Getty Images Plus)'"
      ]
     },
     "execution_count": 11,
     "metadata": {},
     "output_type": "execute_result"
    }
   ],
   "source": [
    "df.loc[0,'url']\n",
    "df.loc[0,'copyright']"
   ]
  },
  {
   "cell_type": "code",
   "execution_count": 12,
   "metadata": {},
   "outputs": [
    {
     "data": {
      "text/plain": [
       "['/th?id=OHR.BeardedTamarin_ZH-CN0250190365_1920x1080.jpg&rf=LaDigue_1920x1080.jpg&pid=hp']"
      ]
     },
     "execution_count": 12,
     "metadata": {},
     "output_type": "execute_result"
    }
   ],
   "source": [
    "list(df.loc[:,'url'])"
   ]
  },
  {
   "cell_type": "markdown",
   "metadata": {},
   "source": [
    "# 写入网站域名爬虫"
   ]
  },
  {
   "cell_type": "code",
   "execution_count": 18,
   "metadata": {},
   "outputs": [],
   "source": [
    "#  scrapy genspider 爬虫 \"网站域名\"\n",
    "! scrapy genspider BingImageSpider \"cn.bing.com\""
   ]
  },
  {
   "cell_type": "markdown",
   "metadata": {},
   "source": [
    "# 执行"
   ]
  },
  {
   "cell_type": "code",
   "execution_count": 17,
   "metadata": {
    "scrolled": false
   },
   "outputs": [
    {
     "name": "stderr",
     "output_type": "stream",
     "text": [
      "2020-06-21 15:05:50 [scrapy.utils.log] INFO: Scrapy 2.1.0 started (bot: bing_img)\n",
      "2020-06-21 15:05:50 [scrapy.utils.log] INFO: Versions: lxml 4.5.0.0, libxml2 2.9.9, cssselect 1.1.0, parsel 1.6.0, w3lib 1.21.0, Twisted 20.3.0, Python 3.7.3 (default, Apr 24 2019, 15:29:51) [MSC v.1915 64 bit (AMD64)], pyOpenSSL 19.1.0 (OpenSSL 1.1.1g  21 Apr 2020), cryptography 2.9.2, Platform Windows-10-10.0.18362-SP0\n",
      "2020-06-21 15:05:50 [scrapy.utils.log] DEBUG: Using reactor: twisted.internet.selectreactor.SelectReactor\n",
      "2020-06-21 15:05:50 [scrapy.crawler] INFO: Overridden settings:\n",
      "{'BOT_NAME': 'bing_img',\n",
      " 'NEWSPIDER_MODULE': 'bing_img.spiders',\n",
      " 'SPIDER_MODULES': ['bing_img.spiders']}\n",
      "2020-06-21 15:05:50 [scrapy.extensions.telnet] INFO: Telnet Password: 88f3b4132c375a3d\n",
      "2020-06-21 15:05:50 [scrapy.middleware] INFO: Enabled extensions:\n",
      "['scrapy.extensions.corestats.CoreStats',\n",
      " 'scrapy.extensions.telnet.TelnetConsole',\n",
      " 'scrapy.extensions.logstats.LogStats']\n",
      "2020-06-21 15:05:51 [scrapy.middleware] INFO: Enabled downloader middlewares:\n",
      "['scrapy.downloadermiddlewares.httpauth.HttpAuthMiddleware',\n",
      " 'scrapy.downloadermiddlewares.downloadtimeout.DownloadTimeoutMiddleware',\n",
      " 'scrapy.downloadermiddlewares.defaultheaders.DefaultHeadersMiddleware',\n",
      " 'scrapy.downloadermiddlewares.useragent.UserAgentMiddleware',\n",
      " 'scrapy.downloadermiddlewares.retry.RetryMiddleware',\n",
      " 'scrapy.downloadermiddlewares.redirect.MetaRefreshMiddleware',\n",
      " 'scrapy.downloadermiddlewares.httpcompression.HttpCompressionMiddleware',\n",
      " 'scrapy.downloadermiddlewares.redirect.RedirectMiddleware',\n",
      " 'scrapy.downloadermiddlewares.cookies.CookiesMiddleware',\n",
      " 'scrapy.downloadermiddlewares.httpproxy.HttpProxyMiddleware',\n",
      " 'scrapy.downloadermiddlewares.stats.DownloaderStats']\n",
      "2020-06-21 15:05:51 [scrapy.middleware] INFO: Enabled spider middlewares:\n",
      "['scrapy.spidermiddlewares.httperror.HttpErrorMiddleware',\n",
      " 'scrapy.spidermiddlewares.offsite.OffsiteMiddleware',\n",
      " 'scrapy.spidermiddlewares.referer.RefererMiddleware',\n",
      " 'scrapy.spidermiddlewares.urllength.UrlLengthMiddleware',\n",
      " 'scrapy.spidermiddlewares.depth.DepthMiddleware']\n",
      "2020-06-21 15:05:51 [scrapy.middleware] INFO: Enabled item pipelines:\n",
      "['scrapy.pipelines.images.ImagesPipeline']\n",
      "2020-06-21 15:05:51 [scrapy.core.engine] INFO: Spider opened\n",
      "2020-06-21 15:05:51 [scrapy.extensions.logstats] INFO: Crawled 0 pages (at 0 pages/min), scraped 0 items (at 0 items/min)\n",
      "2020-06-21 15:05:51 [scrapy.extensions.telnet] INFO: Telnet console listening on 127.0.0.1:6023\n",
      "2020-06-21 15:05:51 [scrapy.core.engine] DEBUG: Crawled (200) <GET https://cn.bing.com/HPImageArchive.aspx?format=js&idx=3&n=1&nc=1592720152828&pid=hp&ts=1592723150> (referer: None)\n",
      "2020-06-21 15:05:51 [scrapy.core.engine] DEBUG: Crawled (200) <GET https://cn.bing.com/HPImageArchive.aspx?format=js&idx=0&n=1&nc=1592720152828&pid=hp&ts=1592723150> (referer: None)\n",
      "2020-06-21 15:05:51 [scrapy.core.engine] DEBUG: Crawled (200) <GET https://cn.bing.com/HPImageArchive.aspx?format=js&idx=2&n=1&nc=1592720152828&pid=hp&ts=1592723150> (referer: None)\n",
      "2020-06-21 15:05:51 [scrapy.core.engine] DEBUG: Crawled (200) <GET https://cn.bing.com/HPImageArchive.aspx?format=js&idx=1&n=1&nc=1592720152828&pid=hp&ts=1592723150> (referer: None)\n",
      "2020-06-21 15:05:51 [scrapy.core.engine] DEBUG: Crawled (200) <GET https://cn.bing.com/HPImageArchive.aspx?format=js&idx=4&n=1&nc=1592720152828&pid=hp&ts=1592723150> (referer: None)\n",
      "2020-06-21 15:05:51 [scrapy.core.engine] DEBUG: Crawled (200) <GET https://cn.bing.com/HPImageArchive.aspx?format=js&idx=7&n=1&nc=1592720152828&pid=hp&ts=1592723150> (referer: None)\n",
      "2020-06-21 15:05:51 [scrapy.core.engine] DEBUG: Crawled (200) <GET https://cn.bing.com/HPImageArchive.aspx?format=js&idx=5&n=1&nc=1592720152828&pid=hp&ts=1592723150> (referer: None)\n",
      "2020-06-21 15:05:51 [scrapy.core.engine] DEBUG: Crawled (200) <GET https://cn.bing.com/HPImageArchive.aspx?format=js&idx=6&n=1&nc=1592720152828&pid=hp&ts=1592723150> (referer: None)\n",
      "2020-06-21 15:05:53 [scrapy.core.engine] DEBUG: Crawled (200) <GET https://cn.bing.com/th?id=OHR.StStephens_ZH-CN9373191410_1920x1080.jpg&rf=LaDigue_1920x1080.jpg&pid=hp> (referer: None)\n",
      "2020-06-21 15:05:53 [scrapy.pipelines.files] DEBUG: File (downloaded): Downloaded file from <GET https://cn.bing.com/th?id=OHR.StStephens_ZH-CN9373191410_1920x1080.jpg&rf=LaDigue_1920x1080.jpg&pid=hp> referred in <None>\n",
      "2020-06-21 15:05:53 [scrapy.core.engine] DEBUG: Crawled (200) <GET https://cn.bing.com/th?id=OHR.SurfSeason_ZH-CN9212464908_1920x1080.jpg&rf=LaDigue_1920x1080.jpg&pid=hp> (referer: None)\n",
      "2020-06-21 15:05:53 [scrapy.pipelines.files] DEBUG: File (downloaded): Downloaded file from <GET https://cn.bing.com/th?id=OHR.SurfSeason_ZH-CN9212464908_1920x1080.jpg&rf=LaDigue_1920x1080.jpg&pid=hp> referred in <None>\n",
      "2020-06-21 15:05:53 [scrapy.core.scraper] DEBUG: Scraped from <200 https://cn.bing.com/HPImageArchive.aspx?format=js&idx=5&n=1&nc=1592720152828&pid=hp&ts=1592723150>\n",
      "\n",
      "{'copys': ['都柏林的圣斯蒂芬绿地，爱尔兰 (\\xa9 L_E/Shutterstock)'],\n",
      " 'image_urls': ['https://cn.bing.com/th?id=OHR.StStephens_ZH-CN9373191410_1920x1080.jpg&rf=LaDigue_1920x1080.jpg&pid=hp'],\n",
      " 'images': [{'checksum': '8506c7d87c869d399408744490d8a2f4',\n",
      "             'path': 'full/faacc0a2a210ccf72c31db1b741faa1ad23ef8ec.jpg',\n",
      "             'url': 'https://cn.bing.com/th?id=OHR.StStephens_ZH-CN9373191410_1920x1080.jpg&rf=LaDigue_1920x1080.jpg&pid=hp'}]}\n",
      "2020-06-21 15:05:53 [scrapy.core.engine] DEBUG: Crawled (200) <GET https://cn.bing.com/th?id=OHR.Havasupai_ZH-CN0016003195_1920x1080.jpg&rf=LaDigue_1920x1080.jpg&pid=hp> (referer: None)\n",
      "2020-06-21 15:05:53 [scrapy.pipelines.files] DEBUG: File (downloaded): Downloaded file from <GET https://cn.bing.com/th?id=OHR.Havasupai_ZH-CN0016003195_1920x1080.jpg&rf=LaDigue_1920x1080.jpg&pid=hp> referred in <None>\n",
      "2020-06-21 15:05:53 [scrapy.core.scraper] DEBUG: Scraped from <200 https://cn.bing.com/HPImageArchive.aspx?format=js&idx=6&n=1&nc=1592720152828&pid=hp&ts=1592723150>\n",
      "\n",
      "{'copys': ['梅德威海滩棕榈树间散步的冲浪者，印尼巴厘岛 (\\xa9 helivideo/GettyImages)'],\n",
      " 'image_urls': ['https://cn.bing.com/th?id=OHR.SurfSeason_ZH-CN9212464908_1920x1080.jpg&rf=LaDigue_1920x1080.jpg&pid=hp'],\n",
      " 'images': [{'checksum': '4c1c7898c4329652808ba71c065f5948',\n",
      "             'path': 'full/82e6ed798ab68ab7f51068862cb412e3a962a1b6.jpg',\n",
      "             'url': 'https://cn.bing.com/th?id=OHR.SurfSeason_ZH-CN9212464908_1920x1080.jpg&rf=LaDigue_1920x1080.jpg&pid=hp'}]}\n",
      "2020-06-21 15:05:53 [scrapy.core.engine] DEBUG: Crawled (200) <GET https://cn.bing.com/th?id=OHR.MidsummerEve_ZH-CN9981851207_1920x1080.jpg&rf=LaDigue_1920x1080.jpg&pid=hp> (referer: None)\n",
      "2020-06-21 15:05:53 [scrapy.pipelines.files] DEBUG: File (downloaded): Downloaded file from <GET https://cn.bing.com/th?id=OHR.MidsummerEve_ZH-CN9981851207_1920x1080.jpg&rf=LaDigue_1920x1080.jpg&pid=hp> referred in <None>\n",
      "2020-06-21 15:05:54 [scrapy.core.scraper] DEBUG: Scraped from <200 https://cn.bing.com/HPImageArchive.aspx?format=js&idx=4&n=1&nc=1592720152828&pid=hp&ts=1592723150>\n",
      "\n",
      "{'copys': ['大峡谷哈瓦苏溪上的海狸瀑布，亚利桑那州 (\\xa9 Edwin Verin/Alamy)'],\n",
      " 'image_urls': ['https://cn.bing.com/th?id=OHR.Havasupai_ZH-CN0016003195_1920x1080.jpg&rf=LaDigue_1920x1080.jpg&pid=hp'],\n",
      " 'images': [{'checksum': 'b3eb293a4172888d9dd974d3660caa14',\n",
      "             'path': 'full/cf8b98352f5d4bbcc3a4e61c9534ded5ec63e04d.jpg',\n",
      "             'url': 'https://cn.bing.com/th?id=OHR.Havasupai_ZH-CN0016003195_1920x1080.jpg&rf=LaDigue_1920x1080.jpg&pid=hp'}]}\n",
      "2020-06-21 15:05:54 [scrapy.core.engine] DEBUG: Crawled (200) <GET https://cn.bing.com/th?id=OHR.HuntingCat_ZH-CN6596392185_1920x1080.jpg&rf=LaDigue_1920x1080.jpg&pid=hp> (referer: None)\n",
      "2020-06-21 15:05:54 [scrapy.pipelines.files] DEBUG: File (downloaded): Downloaded file from <GET https://cn.bing.com/th?id=OHR.HuntingCat_ZH-CN6596392185_1920x1080.jpg&rf=LaDigue_1920x1080.jpg&pid=hp> referred in <None>\n",
      "2020-06-21 15:05:54 [scrapy.core.scraper] DEBUG: Scraped from <200 https://cn.bing.com/HPImageArchive.aspx?format=js&idx=2&n=1&nc=1592720152828&pid=hp&ts=1592723150>\n",
      "\n",
      "{'copys': ['厄勒布鲁附近湖上的仲夏之光，瑞典 (\\xa9 Anders Jorulf/Getty Images)'],\n",
      " 'image_urls': ['https://cn.bing.com/th?id=OHR.MidsummerEve_ZH-CN9981851207_1920x1080.jpg&rf=LaDigue_1920x1080.jpg&pid=hp'],\n",
      " 'images': [{'checksum': '31bea32781725bc402fd9b90aa614e87',\n",
      "             'path': 'full/b332a47d97a3f8aaa2050c33db4fc84793933ae7.jpg',\n",
      "             'url': 'https://cn.bing.com/th?id=OHR.MidsummerEve_ZH-CN9981851207_1920x1080.jpg&rf=LaDigue_1920x1080.jpg&pid=hp'}]}\n",
      "2020-06-21 15:05:54 [scrapy.core.engine] DEBUG: Crawled (200) <GET https://cn.bing.com/th?id=OHR.WildflowersBC_ZH-CN8732388724_1920x1080.jpg&rf=LaDigue_1920x1080.jpg&pid=hp> (referer: None)\n",
      "2020-06-21 15:05:54 [scrapy.pipelines.files] DEBUG: File (downloaded): Downloaded file from <GET https://cn.bing.com/th?id=OHR.WildflowersBC_ZH-CN8732388724_1920x1080.jpg&rf=LaDigue_1920x1080.jpg&pid=hp> referred in <None>\n",
      "2020-06-21 15:05:54 [scrapy.core.scraper] DEBUG: Scraped from <200 https://cn.bing.com/HPImageArchive.aspx?format=js&idx=1&n=1&nc=1592720152828&pid=hp&ts=1592723150>\n",
      "\n",
      "{'copys': ['正在捕猎的丛林猫，印度 (\\xa9 Lila/Alamy)'],\n",
      " 'image_urls': ['https://cn.bing.com/th?id=OHR.HuntingCat_ZH-CN6596392185_1920x1080.jpg&rf=LaDigue_1920x1080.jpg&pid=hp'],\n",
      " 'images': [{'checksum': 'b9c633e0754dfeb3e3fad51a6594584b',\n",
      "             'path': 'full/94592ee220f242919633f5c7a920d41a561a9392.jpg',\n",
      "             'url': 'https://cn.bing.com/th?id=OHR.HuntingCat_ZH-CN6596392185_1920x1080.jpg&rf=LaDigue_1920x1080.jpg&pid=hp'}]}\n",
      "2020-06-21 15:05:54 [scrapy.core.engine] DEBUG: Crawled (200) <GET https://cn.bing.com/th?id=OHR.BeardedTamarin_ZH-CN0250190365_1920x1080.jpg&rf=LaDigue_1920x1080.jpg&pid=hp> (referer: None)\n",
      "2020-06-21 15:05:54 [scrapy.pipelines.files] DEBUG: File (downloaded): Downloaded file from <GET https://cn.bing.com/th?id=OHR.BeardedTamarin_ZH-CN0250190365_1920x1080.jpg&rf=LaDigue_1920x1080.jpg&pid=hp> referred in <None>\n",
      "2020-06-21 15:05:54 [scrapy.core.scraper] DEBUG: Scraped from <200 https://cn.bing.com/HPImageArchive.aspx?format=js&idx=7&n=1&nc=1592720152828&pid=hp&ts=1592723150>\n",
      "\n",
      "{'copys': ['火灾烧毁大部分森林后，野花遍地的凯尔特河野营地 (\\xa9 Debra Brash/plainpicture)'],\n",
      " 'image_urls': ['https://cn.bing.com/th?id=OHR.WildflowersBC_ZH-CN8732388724_1920x1080.jpg&rf=LaDigue_1920x1080.jpg&pid=hp'],\n",
      " 'images': [{'checksum': '5c39823e5ab2e8b60ac40a50da882d44',\n",
      "             'path': 'full/7fa195b9a5d906a38375f424becee5589e0f0444.jpg',\n",
      "             'url': 'https://cn.bing.com/th?id=OHR.WildflowersBC_ZH-CN8732388724_1920x1080.jpg&rf=LaDigue_1920x1080.jpg&pid=hp'}]}\n",
      "2020-06-21 15:05:54 [scrapy.core.engine] DEBUG: Crawled (200) <GET https://cn.bing.com/th?id=OHR.JabiruStork_ZH-CN0218761234_1920x1080.jpg&rf=LaDigue_1920x1080.jpg&pid=hp> (referer: None)\n",
      "2020-06-21 15:05:54 [scrapy.pipelines.files] DEBUG: File (downloaded): Downloaded file from <GET https://cn.bing.com/th?id=OHR.JabiruStork_ZH-CN0218761234_1920x1080.jpg&rf=LaDigue_1920x1080.jpg&pid=hp> referred in <None>\n",
      "2020-06-21 15:05:55 [scrapy.core.scraper] DEBUG: Scraped from <200 https://cn.bing.com/HPImageArchive.aspx?format=js&idx=0&n=1&nc=1592720152828&pid=hp&ts=1592723150>\n",
      "\n",
      "{'copys': ['一只带着幼崽的长胡子皇狨猴 (\\xa9 Chris White/iStock/Getty Images Plus)'],\n",
      " 'image_urls': ['https://cn.bing.com/th?id=OHR.BeardedTamarin_ZH-CN0250190365_1920x1080.jpg&rf=LaDigue_1920x1080.jpg&pid=hp'],\n"
     ]
    },
    {
     "name": "stderr",
     "output_type": "stream",
     "text": [
      " 'images': [{'checksum': 'd4d8418508aca5ffd571eefae750342d',\n",
      "             'path': 'full/67b8b0ea354076d03ccd5f48e85b0fabc0387ec8.jpg',\n",
      "             'url': 'https://cn.bing.com/th?id=OHR.BeardedTamarin_ZH-CN0250190365_1920x1080.jpg&rf=LaDigue_1920x1080.jpg&pid=hp'}]}\n",
      "2020-06-21 15:05:55 [scrapy.core.scraper] DEBUG: Scraped from <200 https://cn.bing.com/HPImageArchive.aspx?format=js&idx=3&n=1&nc=1592720152828&pid=hp&ts=1592723150>\n",
      "\n",
      "{'copys': ['潘塔纳尔湿地中的裸颈鹳，巴西 (\\xa9 Juan-Carlos Munoz/Minden Pictures)'],\n",
      " 'image_urls': ['https://cn.bing.com/th?id=OHR.JabiruStork_ZH-CN0218761234_1920x1080.jpg&rf=LaDigue_1920x1080.jpg&pid=hp'],\n",
      " 'images': [{'checksum': '2d75033ad267d4272b3f7eba4c2581b7',\n",
      "             'path': 'full/1264e891692d0250661fca31e58799f2952c5980.jpg',\n",
      "             'url': 'https://cn.bing.com/th?id=OHR.JabiruStork_ZH-CN0218761234_1920x1080.jpg&rf=LaDigue_1920x1080.jpg&pid=hp'}]}\n",
      "2020-06-21 15:05:55 [scrapy.core.engine] INFO: Closing spider (finished)\n",
      "2020-06-21 15:05:55 [scrapy.statscollectors] INFO: Dumping Scrapy stats:\n",
      "{'downloader/request_bytes': 6969,\n",
      " 'downloader/request_count': 16,\n",
      " 'downloader/request_method_count/GET': 16,\n",
      " 'downloader/response_bytes': 2569580,\n",
      " 'downloader/response_count': 16,\n",
      " 'downloader/response_status_count/200': 16,\n",
      " 'elapsed_time_seconds': 3.901582,\n",
      " 'file_count': 8,\n",
      " 'file_status_count/downloaded': 8,\n",
      " 'finish_reason': 'finished',\n",
      " 'finish_time': datetime.datetime(2020, 6, 21, 7, 5, 55, 145973),\n",
      " 'item_scraped_count': 8,\n",
      " 'log_count/DEBUG': 32,\n",
      " 'log_count/INFO': 10,\n",
      " 'response_received_count': 16,\n",
      " 'scheduler/dequeued': 8,\n",
      " 'scheduler/dequeued/memory': 8,\n",
      " 'scheduler/enqueued': 8,\n",
      " 'scheduler/enqueued/memory': 8,\n",
      " 'start_time': datetime.datetime(2020, 6, 21, 7, 5, 51, 244391)}\n",
      "2020-06-21 15:05:55 [scrapy.core.engine] INFO: Spider closed (finished)\n"
     ]
    }
   ],
   "source": [
    "# 执行\n",
    "! scrapy crawl BingImageSpider"
   ]
  },
  {
   "cell_type": "code",
   "execution_count": null,
   "metadata": {},
   "outputs": [],
   "source": []
  }
 ],
 "metadata": {
  "kernelspec": {
   "display_name": "Python 3",
   "language": "python",
   "name": "python3"
  },
  "language_info": {
   "codemirror_mode": {
    "name": "ipython",
    "version": 3
   },
   "file_extension": ".py",
   "mimetype": "text/x-python",
   "name": "python",
   "nbconvert_exporter": "python",
   "pygments_lexer": "ipython3",
   "version": "3.7.3"
  },
  "toc": {
   "base_numbering": 1,
   "nav_menu": {},
   "number_sections": true,
   "sideBar": true,
   "skip_h1_title": false,
   "title_cell": "Table of Contents",
   "title_sidebar": "Contents",
   "toc_cell": false,
   "toc_position": {},
   "toc_section_display": true,
   "toc_window_display": false
  }
 },
 "nbformat": 4,
 "nbformat_minor": 4
}
