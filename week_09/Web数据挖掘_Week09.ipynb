{
 "cells": [
  {
   "cell_type": "code",
   "execution_count": 1,
   "metadata": {},
   "outputs": [],
   "source": [
    "# 准备工作\n",
    "公众号 = \"36氪\"\n",
    "\n",
    "# 输出\n",
    "fn = {\n",
    "    \"output\":{\n",
    "        \"公众号_table\":\"data/公众号_url_{公众号}.xlsx\",\n",
    "        \"公众号_htm_snippets\": \"data/公众号_htm_snippets_{公众号}.tsv\",\n",
    "        \"公众号_selenium\":\"data/公众号_selenium_{公众号}.xlsx\"}\n",
    "}"
   ]
  },
  {
   "cell_type": "code",
   "execution_count": 2,
   "metadata": {},
   "outputs": [],
   "source": [
    "# 导入所需模块\n",
    "import time\n",
    "import requests\n",
    "import pandas as pd\n",
    "import csv"
   ]
  },
  {
   "cell_type": "markdown",
   "metadata": {},
   "source": [
    "## 使用requests模块"
   ]
  },
  {
   "cell_type": "code",
   "execution_count": 4,
   "metadata": {},
   "outputs": [],
   "source": [
    "# 使用requests模块\n",
    "\n",
    "url=\"https://mp.weixin.qq.com/cgi-bin/appmsg\"\n",
    "\n",
    "# 使用cookie，跳过登录操作\n",
    "# cookie 每一次点击时会发生变化，所以每运行一次，都得重新替换\n",
    "headers = {\n",
    "    \"cookie\":\"RK=m3AknU0yb1; ptcz=3512a24c160c9067f49b5f5d483bbeba0a11fee353e4b48c3394a44d5b9c41b6; pgv_pvi=2256267264; ua_id=j7A9VNSXiz500HOeAAAAAAFUcNGWafnDk6I07fFaKz4=; pgv_pvid=1910515316; openid2ticket_olRww5XEp0vYEZQlrBskJM6l7aPg=vfkM1+H5ZNVvExRbhjkUllpCOp343D4BkT1D1XxsigU=; mm_lang=zh_CN; wxuin=88995851397944; noticeLoginFlag=1; pac_uid=0_5eb62bb3e6866; openid2ticket_oIvX1jstz6SGtO_UxS1xTu1Gr62s=RPhMPYKSpIhJ2LcsaTU7fSW3Qdnc1N+plVgqqqqNM4I=; pgv_si=s6497932288; uuid=27fc757d76a6aab48c4b0b9e47adaa66; rand_info=CAESIAQ966vDuX2WDiVUbsX5aroPt4GTWkFiC06s95C3Lox7; slave_bizuin=2398483746; data_bizuin=2398483746; bizuin=2398483746; data_ticket=oqqA4DKkvPJ9XXEqhzYChLUGCzSvspvydPE33D5+5iz+UiJeLmXm/vgkA68KMMUb; slave_sid=cjZMc3hFdjcweG1FbWlZTUxHQVNpeEFtOWJrMVZUUG1meFZoNlB3U1JfZXpMSW15OGFYekpJNVZhT3dJbnBIdjYwUFZXbDNVcEhfT1h5b01jbWNkT29aTDNDOEhPOEJTamNfbzdkX3BrWHk1OFd0ZzFINlJQQU04bzdwUXdDWXNFTEhvWmJGYU05MHRLV2VE; slave_user=gh_8886e47a9f76; xid=6ca04197a813efa0ff01bea8034664df\",\n",
    "    \"User-agent\":\"Mozilla/5.0 (Linux; Android 6.0; Nexus 5 Build/MRA58N) AppleWebKit/537.36 (KHTML, like Gecko) Chrome/81.0.4044.138 Mobile Safari/537.36\"\n",
    "}\n",
    "\n",
    "data = {\n",
    "    \"token\":\"1965039497\",   # 每个用户唯一的token,且每一次点击时都会发生变化\n",
    "    \"lang\":\"zh_CN\",\n",
    "    \"f\":\"json\",\n",
    "    \"ajax\":\"1\",\n",
    "    \"action\":\"list_ex\",\n",
    "    \"begin\":\"0\",\n",
    "    \"count\":\"5\",\n",
    "    \"query\":\"\",\n",
    "    \"fakeid\":\"MzI2NDk5NzA0Mw==\",\n",
    "    \"type\":\"9\"\n",
    "}"
   ]
  },
  {
   "cell_type": "code",
   "execution_count": 5,
   "metadata": {},
   "outputs": [
    {
     "name": "stdout",
     "output_type": "stream",
     "text": [
      "0\n",
      "5\n",
      "10\n",
      "15\n",
      "20\n",
      "25\n",
      "30\n",
      "35\n",
      "40\n",
      "45\n",
      "50\n"
     ]
    }
   ],
   "source": [
    "content_list = []\n",
    "for i in range(11):\n",
    "    data[\"begin\"] = i*5\n",
    "    print(data[\"begin\"])\n",
    "    time.sleep(3)\n",
    "    # 使用get方法进行requests\n",
    "    content_json = requests.get(url,headers=headers,params=data).json()\n",
    "#    print(content_json)  返回json数据，且返回了每一页的数据\n",
    "    for item in content_json[\"app_msg_list\"]:\n",
    "        items = []\n",
    "        items.append(item[\"title\"])\n",
    "        items.append(item[\"link\"])\n",
    "        items.append(item[\"create_time\"])\n",
    "        content_list.append(items)\n",
    "        \n",
    "#content_list    \n",
    "\n",
    "name = [\"title\",\"link\",\"create_time\"]\n",
    "df = pd.DataFrame(columns=name,data=content_list)\n",
    "# display(df)\n",
    "\n",
    "with pd.ExcelWriter(fn[\"output\"][\"公众号_table\"].format(公众号=\"36氪_requests\")) as writer:\n",
    "    df.to_excel(writer)"
   ]
  },
  {
   "cell_type": "markdown",
   "metadata": {},
   "source": [
    "## 使用selenium模块"
   ]
  },
  {
   "cell_type": "code",
   "execution_count": 3,
   "metadata": {},
   "outputs": [],
   "source": [
    "# 导入模块\n",
    "import numpy as np\n",
    "from lxml.html import fromstring\n",
    "import time\n",
    "from random import random\n",
    "from selenium import webdriver\n",
    "from selenium.webdriver.common.desired_capabilities import DesiredCapabilities"
   ]
  },
  {
   "cell_type": "code",
   "execution_count": 12,
   "metadata": {},
   "outputs": [
    {
     "name": "stderr",
     "output_type": "stream",
     "text": [
      "C:\\Users\\liwen\\Anaconda3\\lib\\site-packages\\ipykernel_launcher.py:11: DeprecationWarning: use options instead of chrome_options\n",
      "  # This is added back by InteractiveShellApp.init_path()\n"
     ]
    }
   ],
   "source": [
    "opts = webdriver.ChromeOptions()\n",
    "opts.add_argument('--no-sandbox')#解决DevToolsActivePort文件不存在的报错\n",
    "opts.add_argument('window-size=1920x3000') #指定浏览器分辨率\n",
    "opts.add_argument('--disable-gpu') #谷歌文档提到需要加上一这个属性来规避bug\n",
    "opts.add_argument('--hide-scrollbars') #隐藏滚动条, 应对些特殊页面\n",
    "#opts.add_argument('blink-settings=imagesEnabled=false') #不加载图片, 提升速度\n",
    "#opts.add_argument('--headless') #浏览器不提供可视化页面. linux下如果系统不支持可视化不加这条会启动失败\n",
    "\n",
    "opts.binary_location = r\"C:\\Program Files (x86)\\Google\\Chrome\\Application\\chrome.exe\" \n",
    "# \"H:\\_coding_\\Gitee\\InternetNewMedia\\CapstonePrj2016\\chromedriver.exe\"  \n",
    "driver = webdriver.Chrome( chrome_options = opts)"
   ]
  },
  {
   "cell_type": "code",
   "execution_count": 13,
   "metadata": {},
   "outputs": [],
   "source": [
    "# 驱动开启网页\n",
    "driver.get(\"https://mp.weixin.qq.com\")"
   ]
  },
  {
   "cell_type": "code",
   "execution_count": 14,
   "metadata": {},
   "outputs": [],
   "source": [
    "# 填表登入\n",
    "payload =  {\"account\": \"kakakakarlie@126.com\", \"password\": \"1210424821Lw!!!\"}\n",
    "\n",
    "driver.find_element_by_xpath('//div[@class=\"login__type__container login__type__container__scan\"]/a').click()"
   ]
  },
  {
   "cell_type": "code",
   "execution_count": 15,
   "metadata": {},
   "outputs": [],
   "source": [
    "# 清空文本\n",
    "driver.find_element_by_xpath('//form[@class=\"login_form\"]//input[@name=\"account\"]').clear()\n",
    "\n",
    "# 模拟按键输入\n",
    "driver.find_element_by_xpath('//form[@class=\"login_form\"]//input[@name=\"account\"]').send_keys(payload['account'])\n",
    "\n",
    "driver.find_element_by_xpath('//form[@class=\"login_form\"]//input[@name=\"password\"]').clear()\n",
    "driver.find_element_by_xpath('//form[@class=\"login_form\"]//input[@name=\"password\"]').send_keys(payload['password'])"
   ]
  },
  {
   "cell_type": "code",
   "execution_count": 16,
   "metadata": {},
   "outputs": [],
   "source": [
    "# 点击登录\n",
    "driver.find_element_by_xpath('//div[@class=\"login_btn_panel\"]/a').click()"
   ]
  },
  {
   "cell_type": "code",
   "execution_count": 17,
   "metadata": {},
   "outputs": [
    {
     "data": {
      "text/plain": [
       "'展开'"
      ]
     },
     "execution_count": 17,
     "metadata": {},
     "output_type": "execute_result"
    }
   ],
   "source": [
    "# 点击选单\n",
    "element = driver.find_element_by_xpath('//a[@id=\"m_open\"]')\n",
    "element.click()\n",
    "\n",
    "# get_attribute('innerHTML')获取元素内的全部HTML\n",
    "main_content = element.get_attribute('innerHTML')\n",
    "main_content"
   ]
  },
  {
   "cell_type": "code",
   "execution_count": 18,
   "metadata": {},
   "outputs": [
    {
     "data": {
      "text/plain": [
       "'https://mp.weixin.qq.com/cgi-bin/appmsg?begin=0&count=10&t=media/appmsg_list&type=10&action=list&token=146580012&lang=zh_CN'"
      ]
     },
     "execution_count": 18,
     "metadata": {},
     "output_type": "execute_result"
    }
   ],
   "source": [
    "# 点击素材管理\n",
    "element = driver.find_element_by_xpath('//li[@title[contains(.,\"素材管理\")]]/a') \n",
    "# main_content = element.get_attribute('innerHTML')\n",
    "# main_content\n",
    "url2= element.get_attribute(\"href\")\n",
    "url2"
   ]
  },
  {
   "cell_type": "code",
   "execution_count": 19,
   "metadata": {},
   "outputs": [],
   "source": [
    "driver.get(url2)"
   ]
  },
  {
   "cell_type": "code",
   "execution_count": 20,
   "metadata": {},
   "outputs": [],
   "source": [
    "# 点击 新建图文消息\n",
    "element = driver.find_element_by_xpath('//*[text()[contains(.,\"新建图文消息\")]]')\n",
    "main_content = element.get_attribute('innerHTML')\n",
    "main_content\n",
    "element.click()"
   ]
  },
  {
   "cell_type": "code",
   "execution_count": 21,
   "metadata": {},
   "outputs": [
    {
     "name": "stdout",
     "output_type": "stream",
     "text": [
      "['CDwindow-FA027C2859A1C96E4A0789EA23DD288F', 'CDwindow-DB14525723F1FC8D46F5EB35AB1C7A0F']\n"
     ]
    }
   ],
   "source": [
    "# 查询窗口\n",
    "print(driver.window_handles)"
   ]
  },
  {
   "cell_type": "code",
   "execution_count": 22,
   "metadata": {},
   "outputs": [],
   "source": [
    "# 因为新建图文消息开启了新窗口，所以要切换到最新的窗口\n",
    "# switch_to 切换窗口\n",
    "driver.switch_to.window(driver.window_handles[-1])"
   ]
  },
  {
   "cell_type": "code",
   "execution_count": 23,
   "metadata": {},
   "outputs": [
    {
     "name": "stdout",
     "output_type": "stream",
     "text": [
      "                超链接              \n"
     ]
    }
   ],
   "source": [
    "# 点击 超链接\n",
    "element = driver.find_element_by_xpath('//*[text()[contains(.,\"超链接\")]]') \n",
    "main_content = element.get_attribute('innerHTML')\n",
    "print(main_content)\n",
    "element.click()"
   ]
  },
  {
   "cell_type": "code",
   "execution_count": 24,
   "metadata": {},
   "outputs": [
    {
     "name": "stdout",
     "output_type": "stream",
     "text": [
      "选择其他公众号\n"
     ]
    }
   ],
   "source": [
    "# 点击 选择其他公众号\n",
    "element = driver.find_element_by_xpath('//*[text()[contains(.,\"选择其他公众号\")]]')\n",
    "main_content = element.get_attribute('innerHTML')\n",
    "print(main_content)\n",
    "element.click()"
   ]
  },
  {
   "cell_type": "code",
   "execution_count": 25,
   "metadata": {},
   "outputs": [],
   "source": [
    "# 先清楚搜索框的文本\n",
    "driver.find_element_by_xpath('//form//div[@class=\"inner_link_account_area\"]//input[@class=\"weui-desktop-form__input\"]').clear()\n",
    "\n",
    "# 输入搜索内容\n",
    "driver.find_element_by_xpath('//form//div[@class=\"inner_link_account_area\"]//input[@class=\"weui-desktop-form__input\"]').send_keys(公众号)"
   ]
  },
  {
   "cell_type": "code",
   "execution_count": 26,
   "metadata": {},
   "outputs": [
    {
     "name": "stdout",
     "output_type": "stream",
     "text": [
      "<div class=\"weui-desktop-icon weui-desktop-icon__inputSearch weui-desktop-icon__small\"><!----> <!----> <!----> <!----> <!----> <!----> <!----> <!----> <!----> <!----> <!----> <!----> <!----> <!----> <!----> <!----> <!----> <!----> <!----> <!----> <!----> <!----> <!----> <!----> <!----> <!----> <!----> <!----> <!----> <!----> <!----> <!----> <!----> <!----> <!----> <!----> <!----> <!----> <!----> <!----> <!----> <!----> <!----> <!----> <!----> <!----> <!----> <!----> <!----> <!----> <!----> <!----> <!----> <!----> <svg width=\"16\" height=\"16\" viewBox=\"0 0 16 16\" xmlns=\"http://www.w3.org/2000/svg\"><path d=\"M11.33 10.007l4.273 4.273a.502.502 0 0 1 .005.709l-.585.584a.499.499 0 0 1-.709-.004L10.046 11.3a6.278 6.278 0 1 1 1.284-1.294zm.012-3.729a5.063 5.063 0 1 0-10.127 0 5.063 5.063 0 0 0 10.127 0z\"></path></svg> <!----> <!----> <!----> <!----></div>\n"
     ]
    }
   ],
   "source": [
    "# 点击放大镜进行搜索\n",
    "element = driver.find_element_by_xpath('//button[@class=\"weui-desktop-icon-btn weui-desktop-search__btn\"]')\n",
    "main_content = element.get_attribute('innerHTML')\n",
    "print(main_content)\n",
    "element.click()"
   ]
  },
  {
   "cell_type": "code",
   "execution_count": 28,
   "metadata": {},
   "outputs": [
    {
     "name": "stdout",
     "output_type": "stream",
     "text": [
      "<li class=\"inner_link_account_item\"><div class=\"weui-desktop-vm_primary\"><img src=\"http://mmbiz.qpic.cn/mmbiz_png/QicyPhNHD5vYf0JyXiavcUmicQ7icOk55ygRlyOhCa9r132trMAiaYtqL0QzacfMLPolhsiaXGibWC0JskibLic02W6Mw1g/0?wx_fmt=png\" class=\"inner_link_account_avatar\"> <strong class=\"inner_link_account_nickname\">36氪</strong> <i class=\"inner_link_account_wechat\">微信号：wow36kr</i></div> <div class=\"weui-desktop-vm_default inner_link_account_type\">订阅号</div></li><li class=\"inner_link_account_item\"><div class=\"weui-desktop-vm_primary\"><img src=\"http://mmbiz.qpic.cn/mmbiz_png/6bozzgCxP14hhcnxZLJET3xc6cYBaRcxo89ibdCcq9xQJOmsHXr2kWzcCibTUfldlzGDXaQ8MS3EQPiagdgN8yQIA/0?wx_fmt=png\" class=\"inner_link_account_avatar\"> <strong class=\"inner_link_account_nickname\">36氪Pro</strong> <i class=\"inner_link_account_wechat\">微信号：Krtech36kr</i></div> <div class=\"weui-desktop-vm_default inner_link_account_type\">订阅号</div></li><li class=\"inner_link_account_item\"><div class=\"weui-desktop-vm_primary\"><img src=\"http://mmbiz.qpic.cn/mmbiz_png/PxfiaFdHRIyOL2u5bkAgUxmRg0zDib8296rm9qgr0GzzGsaSGjTnLkwI1fiaLv5KZg44gOdpxcEFdhljKL6aicUVlg/0?wx_fmt=png\" class=\"inner_link_account_avatar\"> <strong class=\"inner_link_account_nickname\">36氪创新咨询</strong> <i class=\"inner_link_account_wechat\">微信号：Kr8-36Kr-Innovation</i></div> <div class=\"weui-desktop-vm_default inner_link_account_type\">订阅号</div></li><li class=\"inner_link_account_item\"><div class=\"weui-desktop-vm_primary\"><img src=\"http://mmbiz.qpic.cn/mmbiz_png/fTqntRjbSBDMbJcrLGJiaEpsbicq2DIgTHjgXicI6D91o5WMJgm9E36n9E7ZApWslkp50JCAPCUr1IdiaibKF7zHbzw/0?wx_fmt=png\" class=\"inner_link_account_avatar\"> <strong class=\"inner_link_account_nickname\">36氪研究</strong> <i class=\"inner_link_account_wechat\">微信号：kr_research</i></div> <div class=\"weui-desktop-vm_default inner_link_account_type\">订阅号</div></li><li class=\"inner_link_account_item\"><div class=\"weui-desktop-vm_primary\"><img src=\"http://mmbiz.qpic.cn/mmbiz_png/hv4fmHwORZnSpxOibBfTomuVpBvcNMLLB4ZOj4rEjAgLpWl0POUDHP3CwnhXZQic6x44dhsoKpsyX0rwv6OPAFAA/0?wx_fmt=png\" class=\"inner_link_account_avatar\"> <strong class=\"inner_link_account_nickname\">36氪出海</strong> <i class=\"inner_link_account_wechat\">微信号：wow36krchuhai</i></div> <div class=\"weui-desktop-vm_default inner_link_account_type\">订阅号</div></li>\n"
     ]
    }
   ],
   "source": [
    "element = driver.find_element_by_xpath('//ul[@class=\"inner_link_account_list\"]')\n",
    "main_content = element.get_attribute('innerHTML')\n",
    "print(main_content)"
   ]
  },
  {
   "cell_type": "code",
   "execution_count": 29,
   "metadata": {},
   "outputs": [
    {
     "name": "stdout",
     "output_type": "stream",
     "text": [
      "<div class=\"weui-desktop-vm_primary\"><img src=\"http://mmbiz.qpic.cn/mmbiz_png/QicyPhNHD5vYf0JyXiavcUmicQ7icOk55ygRlyOhCa9r132trMAiaYtqL0QzacfMLPolhsiaXGibWC0JskibLic02W6Mw1g/0?wx_fmt=png\" class=\"inner_link_account_avatar\"> <strong class=\"inner_link_account_nickname\">36氪</strong> <i class=\"inner_link_account_wechat\">微信号：wow36kr</i></div> <div class=\"weui-desktop-vm_default inner_link_account_type\">订阅号</div>\n"
     ]
    }
   ],
   "source": [
    "# 点击选择 第一个公众号\n",
    "element = driver.find_element_by_xpath('//ul[@class=\"inner_link_account_list\"]/li')\n",
    "main_content = element.get_attribute('innerHTML')\n",
    "print(main_content)\n",
    "element.click()"
   ]
  },
  {
   "cell_type": "code",
   "execution_count": 30,
   "metadata": {},
   "outputs": [
    {
     "data": {
      "text/plain": [
       "'\\n跳转_input = driver.find_element_by_xpath(\\'//span[@class=\"weui-desktop-pagination__form\"]/input\\')\\n跳转_a = driver.find_element_by_xpath(\\'//span[@class=\"weui-desktop-pagination__form\"]/a\\')\\n\\n跳转_input.clear()\\n跳转_input.send_keys(2)\\n跳转_a.click()\\n'"
      ]
     },
     "execution_count": 30,
     "metadata": {},
     "output_type": "execute_result"
    }
   ],
   "source": [
    "# 点击 跳转按钮\n",
    "'''\n",
    "跳转_input = driver.find_element_by_xpath('//span[@class=\"weui-desktop-pagination__form\"]/input')\n",
    "跳转_a = driver.find_element_by_xpath('//span[@class=\"weui-desktop-pagination__form\"]/a')\n",
    "\n",
    "跳转_input.clear()\n",
    "跳转_input.send_keys(2)\n",
    "跳转_a.click()\n",
    "'''"
   ]
  },
  {
   "cell_type": "code",
   "execution_count": 32,
   "metadata": {},
   "outputs": [
    {
     "name": "stdout",
     "output_type": "stream",
     "text": [
      "[1, 1453]\n",
      "False\n"
     ]
    }
   ],
   "source": [
    "# 查看跳转上限\n",
    "top = driver.find_elements_by_xpath('//label[@class=\"weui-desktop-pagination__num\"]')\n",
    "top_int  = [int(x.text) for x in top]\n",
    "print(top_int)\n",
    "print (top_int[0] == top_int[-1])"
   ]
  },
  {
   "cell_type": "code",
   "execution_count": 33,
   "metadata": {
    "scrolled": true
   },
   "outputs": [
    {
     "name": "stdout",
     "output_type": "stream",
     "text": [
      "[1, 2, 3, 4, 5, 6, 7, 8, 9, 10, 11, 12, 13, 14, 15, 16, 17, 18, 19, 20, 21, 22, 23, 24, 25, 26, 27, 28, 29, 30, 31, 32, 33, 34, 35, 36, 37, 38, 39, 40, 41, 42, 43, 44, 45, 46, 47, 48, 49, 50, 51, 52, 53, 54, 55, 56, 57, 58, 59, 60, 61, 62, 63, 64, 65, 66, 67, 68, 69, 70, 71, 72, 73, 74, 75, 76, 77, 78, 79, 80, 81, 82, 83, 84, 85, 86, 87, 88, 89, 90, 91, 92, 93, 94, 95, 96, 97, 98, 99, 100, 101, 102, 103, 104, 105, 106, 107, 108, 109, 110, 111, 112, 113, 114, 115, 116, 117, 118, 119, 120, 121, 122, 123, 124, 125, 126, 127, 128, 129, 130, 131, 132, 133, 134, 135, 136, 137, 138, 139, 140, 141, 142, 143, 144, 145, 146, 147, 148, 149, 150, 151, 152, 153, 154, 155, 156, 157, 158, 159, 160, 161, 162, 163, 164, 165, 166, 167, 168, 169, 170, 171, 172, 173, 174, 175, 176, 177, 178, 179, 180, 181, 182, 183, 184, 185, 186, 187, 188, 189, 190, 191, 192, 193, 194, 195, 196, 197, 198, 199, 200, 201, 202, 203, 204, 205, 206, 207, 208, 209, 210, 211, 212, 213, 214, 215, 216, 217, 218, 219, 220, 221, 222, 223, 224, 225, 226, 227, 228, 229, 230, 231, 232, 233, 234, 235, 236, 237, 238, 239, 240, 241, 242, 243, 244, 245, 246, 247, 248, 249, 250, 251, 252, 253, 254, 255, 256, 257, 258, 259, 260, 261, 262, 263, 264, 265, 266, 267, 268, 269, 270, 271, 272, 273, 274, 275, 276, 277, 278, 279, 280, 281, 282, 283, 284, 285, 286, 287, 288, 289, 290, 291, 292, 293, 294, 295, 296, 297, 298, 299, 300, 301, 302, 303, 304, 305, 306, 307, 308, 309, 310, 311, 312, 313, 314, 315, 316, 317, 318, 319, 320, 321, 322, 323, 324, 325, 326, 327, 328, 329, 330, 331, 332, 333, 334, 335, 336, 337, 338, 339, 340, 341, 342, 343, 344, 345, 346, 347, 348, 349, 350, 351, 352, 353, 354, 355, 356, 357, 358, 359, 360, 361, 362, 363, 364, 365, 366, 367, 368, 369, 370, 371, 372, 373, 374, 375, 376, 377, 378, 379, 380, 381, 382, 383, 384, 385, 386, 387, 388, 389, 390, 391, 392, 393, 394, 395, 396, 397, 398, 399, 400, 401, 402, 403, 404, 405, 406, 407, 408, 409, 410, 411, 412, 413, 414, 415, 416, 417, 418, 419, 420, 421, 422, 423, 424, 425, 426, 427, 428, 429, 430, 431, 432, 433, 434, 435, 436, 437, 438, 439, 440, 441, 442, 443, 444, 445, 446, 447, 448, 449, 450, 451, 452, 453, 454, 455, 456, 457, 458, 459, 460, 461, 462, 463, 464, 465, 466, 467, 468, 469, 470, 471, 472, 473, 474, 475, 476, 477, 478, 479, 480, 481, 482, 483, 484, 485, 486, 487, 488, 489, 490, 491, 492, 493, 494, 495, 496, 497, 498, 499, 500, 501, 502, 503, 504, 505, 506, 507, 508, 509, 510, 511, 512, 513, 514, 515, 516, 517, 518, 519, 520, 521, 522, 523, 524, 525, 526, 527, 528, 529, 530, 531, 532, 533, 534, 535, 536, 537, 538, 539, 540, 541, 542, 543, 544, 545, 546, 547, 548, 549, 550, 551, 552, 553, 554, 555, 556, 557, 558, 559, 560, 561, 562, 563, 564, 565, 566, 567, 568, 569, 570, 571, 572, 573, 574, 575, 576, 577, 578, 579, 580, 581, 582, 583, 584, 585, 586, 587, 588, 589, 590, 591, 592, 593, 594, 595, 596, 597, 598, 599, 600, 601, 602, 603, 604, 605, 606, 607, 608, 609, 610, 611, 612, 613, 614, 615, 616, 617, 618, 619, 620, 621, 622, 623, 624, 625, 626, 627, 628, 629, 630, 631, 632, 633, 634, 635, 636, 637, 638, 639, 640, 641, 642, 643, 644, 645, 646, 647, 648, 649, 650, 651, 652, 653, 654, 655, 656, 657, 658, 659, 660, 661, 662, 663, 664, 665, 666, 667, 668, 669, 670, 671, 672, 673, 674, 675, 676, 677, 678, 679, 680, 681, 682, 683, 684, 685, 686, 687, 688, 689, 690, 691, 692, 693, 694, 695, 696, 697, 698, 699, 700, 701, 702, 703, 704, 705, 706, 707, 708, 709, 710, 711, 712, 713, 714, 715, 716, 717, 718, 719, 720, 721, 722, 723, 724, 725, 726, 727, 728, 729, 730, 731, 732, 733, 734, 735, 736, 737, 738, 739, 740, 741, 742, 743, 744, 745, 746, 747, 748, 749, 750, 751, 752, 753, 754, 755, 756, 757, 758, 759, 760, 761, 762, 763, 764, 765, 766, 767, 768, 769, 770, 771, 772, 773, 774, 775, 776, 777, 778, 779, 780, 781, 782, 783, 784, 785, 786, 787, 788, 789, 790, 791, 792, 793, 794, 795, 796, 797, 798, 799, 800, 801, 802, 803, 804, 805, 806, 807, 808, 809, 810, 811, 812, 813, 814, 815, 816, 817, 818, 819, 820, 821, 822, 823, 824, 825, 826, 827, 828, 829, 830, 831, 832, 833, 834, 835, 836, 837, 838, 839, 840, 841, 842, 843, 844, 845, 846, 847, 848, 849, 850, 851, 852, 853, 854, 855, 856, 857, 858, 859, 860, 861, 862, 863, 864, 865, 866, 867, 868, 869, 870, 871, 872, 873, 874, 875, 876, 877, 878, 879, 880, 881, 882, 883, 884, 885, 886, 887, 888, 889, 890, 891, 892, 893, 894, 895, 896, 897, 898, 899, 900, 901, 902, 903, 904, 905, 906, 907, 908, 909, 910, 911, 912, 913, 914, 915, 916, 917, 918, 919, 920, 921, 922, 923, 924, 925, 926, 927, 928, 929, 930, 931, 932, 933, 934, 935, 936, 937, 938, 939, 940, 941, 942, 943, 944, 945, 946, 947, 948, 949, 950, 951, 952, 953, 954, 955, 956, 957, 958, 959, 960, 961, 962, 963, 964, 965, 966, 967, 968, 969, 970, 971, 972, 973, 974, 975, 976, 977, 978, 979, 980, 981, 982, 983, 984, 985, 986, 987, 988, 989, 990, 991, 992, 993, 994, 995, 996, 997, 998, 999, 1000, 1001, 1002, 1003, 1004, 1005, 1006, 1007, 1008, 1009, 1010, 1011, 1012, 1013, 1014, 1015, 1016, 1017, 1018, 1019, 1020, 1021, 1022, 1023, 1024, 1025, 1026, 1027, 1028, 1029, 1030, 1031, 1032, 1033, 1034, 1035, 1036, 1037, 1038, 1039, 1040, 1041, 1042, 1043, 1044, 1045, 1046, 1047, 1048, 1049, 1050, 1051, 1052, 1053, 1054, 1055, 1056, 1057, 1058, 1059, 1060, 1061, 1062, 1063, 1064, 1065, 1066, 1067, 1068, 1069, 1070, 1071, 1072, 1073, 1074, 1075, 1076, 1077, 1078, 1079, 1080, 1081, 1082, 1083, 1084, 1085, 1086, 1087, 1088, 1089, 1090, 1091, 1092, 1093, 1094, 1095, 1096, 1097, 1098, 1099, 1100, 1101, 1102, 1103, 1104, 1105, 1106, 1107, 1108, 1109, 1110, 1111, 1112, 1113, 1114, 1115, 1116, 1117, 1118, 1119, 1120, 1121, 1122, 1123, 1124, 1125, 1126, 1127, 1128, 1129, 1130, 1131, 1132, 1133, 1134, 1135, 1136, 1137, 1138, 1139, 1140, 1141, 1142, 1143, 1144, 1145, 1146, 1147, 1148, 1149, 1150, 1151, 1152, 1153, 1154, 1155, 1156, 1157, 1158, 1159, 1160, 1161, 1162, 1163, 1164, 1165, 1166, 1167, 1168, 1169, 1170, 1171, 1172, 1173, 1174, 1175, 1176, 1177, 1178, 1179, 1180, 1181, 1182, 1183, 1184, 1185, 1186, 1187, 1188, 1189, 1190, 1191, 1192, 1193, 1194, 1195, 1196, 1197, 1198, 1199, 1200, 1201, 1202, 1203, 1204, 1205, 1206, 1207, 1208, 1209, 1210, 1211, 1212, 1213, 1214, 1215, 1216, 1217, 1218, 1219, 1220, 1221, 1222, 1223, 1224, 1225, 1226, 1227, 1228, 1229, 1230, 1231, 1232, 1233, 1234, 1235, 1236, 1237, 1238, 1239, 1240, 1241, 1242, 1243, 1244, 1245, 1246, 1247, 1248, 1249, 1250, 1251, 1252, 1253, 1254, 1255, 1256, 1257, 1258, 1259, 1260, 1261, 1262, 1263, 1264, 1265, 1266, 1267, 1268, 1269, 1270, 1271, 1272, 1273, 1274, 1275, 1276, 1277, 1278, 1279, 1280, 1281, 1282, 1283, 1284, 1285, 1286, 1287, 1288, 1289, 1290, 1291, 1292, 1293, 1294, 1295, 1296, 1297, 1298, 1299, 1300, 1301, 1302, 1303, 1304, 1305, 1306, 1307, 1308, 1309, 1310, 1311, 1312, 1313, 1314, 1315, 1316, 1317, 1318, 1319, 1320, 1321, 1322, 1323, 1324, 1325, 1326, 1327, 1328, 1329, 1330, 1331, 1332, 1333, 1334, 1335, 1336, 1337, 1338, 1339, 1340, 1341, 1342, 1343, 1344, 1345, 1346, 1347, 1348, 1349, 1350, 1351, 1352, 1353, 1354, 1355, 1356, 1357, 1358, 1359, 1360, 1361, 1362, 1363, 1364, 1365, 1366, 1367, 1368, 1369, 1370, 1371, 1372, 1373, 1374, 1375, 1376, 1377, 1378, 1379, 1380, 1381, 1382, 1383, 1384, 1385, 1386, 1387, 1388, 1389, 1390, 1391, 1392, 1393, 1394, 1395, 1396, 1397, 1398, 1399, 1400, 1401, 1402, 1403, 1404, 1405, 1406, 1407, 1408, 1409, 1410, 1411, 1412, 1413, 1414, 1415, 1416, 1417, 1418, 1419, 1420, 1421, 1422, 1423, 1424, 1425, 1426, 1427, 1428, 1429, 1430, 1431, 1432, 1433, 1434, 1435, 1436, 1437, 1438, 1439, 1440, 1441, 1442, 1443, 1444, 1445, 1446, 1447, 1448, 1449, 1450, 1451, 1452, 1453]\n"
     ]
    }
   ],
   "source": [
    "pages = list(range(1,top_int[-1]+1 ))\n",
    "print(pages)"
   ]
  },
  {
   "cell_type": "code",
   "execution_count": 34,
   "metadata": {},
   "outputs": [
    {
     "name": "stdout",
     "output_type": "stream",
     "text": [
      "[1, 2, 3, 4, 5, 6, 7, 8, 9, 10, 11, 12, 13, 14, 15, 16, 17, 18, 19, 20, 21, 22, 23, 24, 25, 26, 27, 28, 29, 30, 31, 32, 33, 34, 35, 36, 37, 38, 39, 40, 41, 42, 43, 44, 45, 46, 47, 48, 49, 50, 51, 52, 53, 54, 55, 56, 57, 58, 59, 60, 61, 62, 63, 64, 65, 66, 67, 68, 69, 70]\n"
     ]
    }
   ],
   "source": [
    "pages_part = pages[:70]\n",
    "print(pages_part)"
   ]
  },
  {
   "cell_type": "code",
   "execution_count": 35,
   "metadata": {},
   "outputs": [],
   "source": [
    "# 开始循环\n",
    "html_raw = dict()\n",
    "main_content =\"\"\n",
    "element = None"
   ]
  },
  {
   "cell_type": "code",
   "execution_count": 43,
   "metadata": {},
   "outputs": [],
   "source": [
    "def process_pages (pages):\n",
    "    for p in pages_part:\n",
    "        print (p,end='\\t')\n",
    "\n",
    "        跳转_input = driver.find_element_by_xpath('//span[@class=\"weui-desktop-pagination__form\"]/input')\n",
    "        跳转_a = driver.find_element_by_xpath('//span[@class=\"weui-desktop-pagination__form\"]/a')\n",
    "        跳转_input.clear()\n",
    "        跳转_input.send_keys(p)\n",
    "        跳转_a.click()\n",
    "\n",
    "        time.sleep(15+30*random())\n",
    "\n",
    "        element = driver.find_element_by_xpath('//div[@class=\"inner_link_article_list\"]')\n",
    "        main_content = element.get_attribute('innerHTML')\n",
    "        #print(main_content)\n",
    "        html_raw[p] = main_content"
   ]
  },
  {
   "cell_type": "code",
   "execution_count": 44,
   "metadata": {},
   "outputs": [
    {
     "name": "stdout",
     "output_type": "stream",
     "text": [
      "1\t2\t3\t4\t5\t6\t7\t8\t9\t10\t11\t12\t13\t14\t15\t16\t17\t18\t19\t20\t21\t22\t23\t24\t25\t26\t27\t28\t29\t30\t31\t32\t33\t34\t35\t36\t37\t38\t39\t40\t41\t42\t43\t44\t45\t46\t47\t48\t49\t50\t51\t52\t53\t54\t55\t56\t57\t58\t59\t60\t61\t62\t63\t64\t65\t66\t67\t68\t69\t70\t"
     ]
    }
   ],
   "source": [
    "process_pages(pages)"
   ]
  },
  {
   "cell_type": "code",
   "execution_count": 45,
   "metadata": {},
   "outputs": [
    {
     "data": {
      "text/html": [
       "<div>\n",
       "<style scoped>\n",
       "    .dataframe tbody tr th:only-of-type {\n",
       "        vertical-align: middle;\n",
       "    }\n",
       "\n",
       "    .dataframe tbody tr th {\n",
       "        vertical-align: top;\n",
       "    }\n",
       "\n",
       "    .dataframe thead th {\n",
       "        text-align: right;\n",
       "    }\n",
       "</style>\n",
       "<table border=\"1\" class=\"dataframe\">\n",
       "  <thead>\n",
       "    <tr style=\"text-align: right;\">\n",
       "      <th></th>\n",
       "      <th>html_snippets</th>\n",
       "    </tr>\n",
       "  </thead>\n",
       "  <tbody>\n",
       "    <tr>\n",
       "      <th>1</th>\n",
       "      <td>&lt;div&gt;&lt;label class=\"inner_link_article_item\"&gt;&lt;s...</td>\n",
       "    </tr>\n",
       "    <tr>\n",
       "      <th>2</th>\n",
       "      <td>&lt;div&gt;&lt;label class=\"inner_link_article_item\"&gt;&lt;s...</td>\n",
       "    </tr>\n",
       "    <tr>\n",
       "      <th>3</th>\n",
       "      <td>&lt;div&gt;&lt;label class=\"inner_link_article_item\"&gt;&lt;s...</td>\n",
       "    </tr>\n",
       "    <tr>\n",
       "      <th>4</th>\n",
       "      <td>&lt;div&gt;&lt;label class=\"inner_link_article_item\"&gt;&lt;s...</td>\n",
       "    </tr>\n",
       "    <tr>\n",
       "      <th>5</th>\n",
       "      <td>&lt;div&gt;&lt;label class=\"inner_link_article_item\"&gt;&lt;s...</td>\n",
       "    </tr>\n",
       "    <tr>\n",
       "      <th>...</th>\n",
       "      <td>...</td>\n",
       "    </tr>\n",
       "    <tr>\n",
       "      <th>66</th>\n",
       "      <td>&lt;div&gt;&lt;label class=\"inner_link_article_item\"&gt;&lt;s...</td>\n",
       "    </tr>\n",
       "    <tr>\n",
       "      <th>67</th>\n",
       "      <td>&lt;div&gt;&lt;label class=\"inner_link_article_item\"&gt;&lt;s...</td>\n",
       "    </tr>\n",
       "    <tr>\n",
       "      <th>68</th>\n",
       "      <td>&lt;div&gt;&lt;label class=\"inner_link_article_item\"&gt;&lt;s...</td>\n",
       "    </tr>\n",
       "    <tr>\n",
       "      <th>69</th>\n",
       "      <td>&lt;div&gt;&lt;label class=\"inner_link_article_item\"&gt;&lt;s...</td>\n",
       "    </tr>\n",
       "    <tr>\n",
       "      <th>70</th>\n",
       "      <td>&lt;div&gt;&lt;label class=\"inner_link_article_item\"&gt;&lt;s...</td>\n",
       "    </tr>\n",
       "  </tbody>\n",
       "</table>\n",
       "<p>70 rows × 1 columns</p>\n",
       "</div>"
      ],
      "text/plain": [
       "                                        html_snippets\n",
       "1   <div><label class=\"inner_link_article_item\"><s...\n",
       "2   <div><label class=\"inner_link_article_item\"><s...\n",
       "3   <div><label class=\"inner_link_article_item\"><s...\n",
       "4   <div><label class=\"inner_link_article_item\"><s...\n",
       "5   <div><label class=\"inner_link_article_item\"><s...\n",
       "..                                                ...\n",
       "66  <div><label class=\"inner_link_article_item\"><s...\n",
       "67  <div><label class=\"inner_link_article_item\"><s...\n",
       "68  <div><label class=\"inner_link_article_item\"><s...\n",
       "69  <div><label class=\"inner_link_article_item\"><s...\n",
       "70  <div><label class=\"inner_link_article_item\"><s...\n",
       "\n",
       "[70 rows x 1 columns]"
      ]
     },
     "execution_count": 45,
     "metadata": {},
     "output_type": "execute_result"
    }
   ],
   "source": [
    "df = pd.DataFrame([html_raw]).T\n",
    "df.columns = [\"html_snippets\"]\n",
    "df"
   ]
  },
  {
   "cell_type": "code",
   "execution_count": 46,
   "metadata": {},
   "outputs": [
    {
     "name": "stdout",
     "output_type": "stream",
     "text": [
      "Stored 'html_raw' (dict)\n"
     ]
    }
   ],
   "source": [
    "%store html_raw\n",
    "import pickle \n",
    "filehandler = open(\"html_raw\", 'wb') \n",
    "pickle.dump(html_raw, filehandler)"
   ]
  },
  {
   "cell_type": "code",
   "execution_count": 47,
   "metadata": {},
   "outputs": [
    {
     "name": "stdout",
     "output_type": "stream",
     "text": [
      "70\n"
     ]
    },
    {
     "data": {
      "text/html": [
       "<div>\n",
       "<style scoped>\n",
       "    .dataframe tbody tr th:only-of-type {\n",
       "        vertical-align: middle;\n",
       "    }\n",
       "\n",
       "    .dataframe tbody tr th {\n",
       "        vertical-align: top;\n",
       "    }\n",
       "\n",
       "    .dataframe thead th {\n",
       "        text-align: right;\n",
       "    }\n",
       "</style>\n",
       "<table border=\"1\" class=\"dataframe\">\n",
       "  <thead>\n",
       "    <tr style=\"text-align: right;\">\n",
       "      <th></th>\n",
       "      <th>html_snippets</th>\n",
       "    </tr>\n",
       "  </thead>\n",
       "  <tbody>\n",
       "  </tbody>\n",
       "</table>\n",
       "</div>"
      ],
      "text/plain": [
       "Empty DataFrame\n",
       "Columns: [html_snippets]\n",
       "Index: []"
      ]
     },
     "execution_count": 47,
     "metadata": {},
     "output_type": "execute_result"
    }
   ],
   "source": [
    "# duplicated() 删去重复的数据\n",
    "df_out = df[~df.duplicated()]\n",
    "print (len(df_out))\n",
    "df[df.duplicated()]"
   ]
  },
  {
   "cell_type": "code",
   "execution_count": 48,
   "metadata": {
    "scrolled": true
   },
   "outputs": [
    {
     "name": "stdout",
     "output_type": "stream",
     "text": [
      "[]\n"
     ]
    },
    {
     "data": {
      "text/plain": [
       "[]"
      ]
     },
     "execution_count": 48,
     "metadata": {},
     "output_type": "execute_result"
    }
   ],
   "source": [
    "try_again = list(df[df.duplicated()].index)\n",
    "print(try_again)\n",
    "try_again = try_again + list (set(pages_part).difference(set(df.index.values)))\n",
    "try_again"
   ]
  },
  {
   "cell_type": "code",
   "execution_count": 49,
   "metadata": {},
   "outputs": [],
   "source": [
    "filename = fn [\"output\"] [\"公众号_htm_snippets\"] \n",
    "df_out.to_csv(filename.format(公众号=公众号), sep=\"\\t\", encoding=\"utf8\")"
   ]
  },
  {
   "cell_type": "code",
   "execution_count": 50,
   "metadata": {},
   "outputs": [
    {
     "name": "stdout",
     "output_type": "stream",
     "text": [
      "19,18,14,21,18,13,7,5,17,17,20,15,17,18,19,11,20,20,17,10,21,18,15,9,20,22,19,12,21,21,19,13,15,20,17,14,16,19,19,15,12,17,18,14,17,18,20,12,13,18,15,17,10,14,16,12,8,16,11,14,10,9,8,13,14,14,13,20,15,19,"
     ]
    }
   ],
   "source": [
    "def parse_html_snippets(_snippet_):\n",
    "    root = fromstring(_snippet_) \n",
    "    title = [x.text for x in root.xpath('//div[@class=\"inner_link_article_title\"]')]\n",
    "    create_time = [x.text for x in root.xpath('//div[@class=\"inner_link_article_date\"]')]\n",
    "    link = [x for x in root.xpath('//a/@href')]\n",
    "    _df_ = pd.DataFrame({\"title\":title, \"create_time\": create_time, \"link\":link})\n",
    "    return(_df_)\n",
    "    \n",
    "l_df = []\n",
    "for p in pages_part:\n",
    "    _df_ = parse_html_snippets(df.loc[p,\"html_snippets\"])\n",
    "    print (len(_df_), end=\",\")\n",
    "    l_df.append(_df_)"
   ]
  },
  {
   "cell_type": "code",
   "execution_count": 51,
   "metadata": {},
   "outputs": [],
   "source": [
    "# l_df"
   ]
  },
  {
   "cell_type": "code",
   "execution_count": 52,
   "metadata": {},
   "outputs": [
    {
     "data": {
      "text/html": [
       "<div>\n",
       "<style scoped>\n",
       "    .dataframe tbody tr th:only-of-type {\n",
       "        vertical-align: middle;\n",
       "    }\n",
       "\n",
       "    .dataframe tbody tr th {\n",
       "        vertical-align: top;\n",
       "    }\n",
       "\n",
       "    .dataframe thead th {\n",
       "        text-align: right;\n",
       "    }\n",
       "</style>\n",
       "<table border=\"1\" class=\"dataframe\">\n",
       "  <thead>\n",
       "    <tr style=\"text-align: right;\">\n",
       "      <th></th>\n",
       "      <th>title</th>\n",
       "      <th>create_time</th>\n",
       "      <th>link</th>\n",
       "    </tr>\n",
       "  </thead>\n",
       "  <tbody>\n",
       "    <tr>\n",
       "      <th>0</th>\n",
       "      <td>8点1氪：李彦宏将于今晚8点开启百度直播首秀；虎扑否认赴美IPO；消息称瑞幸咖啡仍在快速开店</td>\n",
       "      <td>2020-05-15</td>\n",
       "      <td>http://mp.weixin.qq.com/s?__biz=MzI2NDk5NzA0Mw...</td>\n",
       "    </tr>\n",
       "    <tr>\n",
       "      <th>1</th>\n",
       "      <td>用 AI 寻找走失儿童，打击野生动物贩卖，百度 AI 如何推动公益智能化？</td>\n",
       "      <td>2020-05-15</td>\n",
       "      <td>http://mp.weixin.qq.com/s?__biz=MzI2NDk5NzA0Mw...</td>\n",
       "    </tr>\n",
       "    <tr>\n",
       "      <th>2</th>\n",
       "      <td>《创造营2020》的尴尬：砸完重金后，恐不能造出「孟美岐」</td>\n",
       "      <td>2020-05-15</td>\n",
       "      <td>http://mp.weixin.qq.com/s?__biz=MzI2NDk5NzA0Mw...</td>\n",
       "    </tr>\n",
       "    <tr>\n",
       "      <th>3</th>\n",
       "      <td>倡导无龄无边界，「KOKOLU」用丝绒鞋敲开舒适服饰市场 | 早起看早期</td>\n",
       "      <td>2020-05-15</td>\n",
       "      <td>http://mp.weixin.qq.com/s?__biz=MzI2NDk5NzA0Mw...</td>\n",
       "    </tr>\n",
       "    <tr>\n",
       "      <th>4</th>\n",
       "      <td>薇娅教卡戴珊做人，中国网红教世界卖货｜深氪</td>\n",
       "      <td>2020-05-14</td>\n",
       "      <td>http://mp.weixin.qq.com/s?__biz=MzI2NDk5NzA0Mw...</td>\n",
       "    </tr>\n",
       "    <tr>\n",
       "      <th>5</th>\n",
       "      <td>热闹之后，医健企业挑战才刚刚来临</td>\n",
       "      <td>2020-05-14</td>\n",
       "      <td>http://mp.weixin.qq.com/s?__biz=MzI2NDk5NzA0Mw...</td>\n",
       "    </tr>\n",
       "    <tr>\n",
       "      <th>6</th>\n",
       "      <td>优爱腾能从「超前点播」捞到多少钱？</td>\n",
       "      <td>2020-05-14</td>\n",
       "      <td>http://mp.weixin.qq.com/s?__biz=MzI2NDk5NzA0Mw...</td>\n",
       "    </tr>\n",
       "    <tr>\n",
       "      <th>7</th>\n",
       "      <td>20 亿美金估值的「完美日记」，上市需先过盈利关</td>\n",
       "      <td>2020-05-14</td>\n",
       "      <td>http://mp.weixin.qq.com/s?__biz=MzI2NDk5NzA0Mw...</td>\n",
       "    </tr>\n",
       "    <tr>\n",
       "      <th>8</th>\n",
       "      <td>对话杨浩涌：终局已到，走下坡路的对手们会血本无归 | 新商业 NEO100</td>\n",
       "      <td>2020-05-14</td>\n",
       "      <td>http://mp.weixin.qq.com/s?__biz=MzI2NDk5NzA0Mw...</td>\n",
       "    </tr>\n",
       "    <tr>\n",
       "      <th>9</th>\n",
       "      <td>腾讯在每个篮子里都放了鸡蛋</td>\n",
       "      <td>2020-05-14</td>\n",
       "      <td>http://mp.weixin.qq.com/s?__biz=MzI2NDk5NzA0Mw...</td>\n",
       "    </tr>\n",
       "    <tr>\n",
       "      <th>10</th>\n",
       "      <td>拉萌新送红包，我在 B 站看到了拼多多和趣头条的影子</td>\n",
       "      <td>2020-05-14</td>\n",
       "      <td>http://mp.weixin.qq.com/s?__biz=MzI2NDk5NzA0Mw...</td>\n",
       "    </tr>\n",
       "  </tbody>\n",
       "</table>\n",
       "</div>"
      ],
      "text/plain": [
       "                                             title create_time  \\\n",
       "0   8点1氪：李彦宏将于今晚8点开启百度直播首秀；虎扑否认赴美IPO；消息称瑞幸咖啡仍在快速开店  2020-05-15   \n",
       "1            用 AI 寻找走失儿童，打击野生动物贩卖，百度 AI 如何推动公益智能化？  2020-05-15   \n",
       "2                    《创造营2020》的尴尬：砸完重金后，恐不能造出「孟美岐」  2020-05-15   \n",
       "3             倡导无龄无边界，「KOKOLU」用丝绒鞋敲开舒适服饰市场 | 早起看早期  2020-05-15   \n",
       "4                            薇娅教卡戴珊做人，中国网红教世界卖货｜深氪  2020-05-14   \n",
       "5                                 热闹之后，医健企业挑战才刚刚来临  2020-05-14   \n",
       "6                                优爱腾能从「超前点播」捞到多少钱？  2020-05-14   \n",
       "7                         20 亿美金估值的「完美日记」，上市需先过盈利关  2020-05-14   \n",
       "8            对话杨浩涌：终局已到，走下坡路的对手们会血本无归 | 新商业 NEO100  2020-05-14   \n",
       "9                                    腾讯在每个篮子里都放了鸡蛋  2020-05-14   \n",
       "10                      拉萌新送红包，我在 B 站看到了拼多多和趣头条的影子  2020-05-14   \n",
       "\n",
       "                                                 link  \n",
       "0   http://mp.weixin.qq.com/s?__biz=MzI2NDk5NzA0Mw...  \n",
       "1   http://mp.weixin.qq.com/s?__biz=MzI2NDk5NzA0Mw...  \n",
       "2   http://mp.weixin.qq.com/s?__biz=MzI2NDk5NzA0Mw...  \n",
       "3   http://mp.weixin.qq.com/s?__biz=MzI2NDk5NzA0Mw...  \n",
       "4   http://mp.weixin.qq.com/s?__biz=MzI2NDk5NzA0Mw...  \n",
       "5   http://mp.weixin.qq.com/s?__biz=MzI2NDk5NzA0Mw...  \n",
       "6   http://mp.weixin.qq.com/s?__biz=MzI2NDk5NzA0Mw...  \n",
       "7   http://mp.weixin.qq.com/s?__biz=MzI2NDk5NzA0Mw...  \n",
       "8   http://mp.weixin.qq.com/s?__biz=MzI2NDk5NzA0Mw...  \n",
       "9   http://mp.weixin.qq.com/s?__biz=MzI2NDk5NzA0Mw...  \n",
       "10  http://mp.weixin.qq.com/s?__biz=MzI2NDk5NzA0Mw...  "
      ]
     },
     "execution_count": 52,
     "metadata": {},
     "output_type": "execute_result"
    }
   ],
   "source": [
    "df_url_out = pd.concat(l_df).reset_index(drop=True)\n",
    "df_url_out.loc[0:10]"
   ]
  },
  {
   "cell_type": "code",
   "execution_count": 53,
   "metadata": {},
   "outputs": [
    {
     "data": {
      "text/html": [
       "<div>\n",
       "<style scoped>\n",
       "    .dataframe tbody tr th:only-of-type {\n",
       "        vertical-align: middle;\n",
       "    }\n",
       "\n",
       "    .dataframe tbody tr th {\n",
       "        vertical-align: top;\n",
       "    }\n",
       "\n",
       "    .dataframe thead th {\n",
       "        text-align: right;\n",
       "    }\n",
       "</style>\n",
       "<table border=\"1\" class=\"dataframe\">\n",
       "  <thead>\n",
       "    <tr style=\"text-align: right;\">\n",
       "      <th></th>\n",
       "      <th>title</th>\n",
       "      <th>create_time</th>\n",
       "      <th>link</th>\n",
       "    </tr>\n",
       "  </thead>\n",
       "  <tbody>\n",
       "    <tr>\n",
       "      <th>1083</th>\n",
       "      <td>腾讯音乐与抖音达成转授权合作，腾讯系与头条系难得牵手｜36氪独家</td>\n",
       "      <td>2020-01-13</td>\n",
       "      <td>http://mp.weixin.qq.com/s?__biz=MzI2NDk5NzA0Mw...</td>\n",
       "    </tr>\n",
       "    <tr>\n",
       "      <th>1084</th>\n",
       "      <td>今天，我参加了一个 5 个亿的大项目 | 唠氪儿</td>\n",
       "      <td>2020-01-13</td>\n",
       "      <td>http://mp.weixin.qq.com/s?__biz=MzI2NDk5NzA0Mw...</td>\n",
       "    </tr>\n",
       "    <tr>\n",
       "      <th>1085</th>\n",
       "      <td>专访陆奇：你可以用妥协，我用更不同的词叫务实</td>\n",
       "      <td>2020-01-13</td>\n",
       "      <td>http://mp.weixin.qq.com/s?__biz=MzI2NDk5NzA0Mw...</td>\n",
       "    </tr>\n",
       "    <tr>\n",
       "      <th>1086</th>\n",
       "      <td>百亿瑞幸怒刷「存在感」</td>\n",
       "      <td>2020-01-13</td>\n",
       "      <td>http://mp.weixin.qq.com/s?__biz=MzI2NDk5NzA0Mw...</td>\n",
       "    </tr>\n",
       "    <tr>\n",
       "      <th>1087</th>\n",
       "      <td>5187 家厂商涌入 CES，4 天后他们留下了什么 | CES 2020</td>\n",
       "      <td>2020-01-13</td>\n",
       "      <td>http://mp.weixin.qq.com/s?__biz=MzI2NDk5NzA0Mw...</td>\n",
       "    </tr>\n",
       "  </tbody>\n",
       "</table>\n",
       "</div>"
      ],
      "text/plain": [
       "                                      title create_time  \\\n",
       "1083       腾讯音乐与抖音达成转授权合作，腾讯系与头条系难得牵手｜36氪独家  2020-01-13   \n",
       "1084               今天，我参加了一个 5 个亿的大项目 | 唠氪儿  2020-01-13   \n",
       "1085                 专访陆奇：你可以用妥协，我用更不同的词叫务实  2020-01-13   \n",
       "1086                            百亿瑞幸怒刷「存在感」  2020-01-13   \n",
       "1087  5187 家厂商涌入 CES，4 天后他们留下了什么 | CES 2020  2020-01-13   \n",
       "\n",
       "                                                   link  \n",
       "1083  http://mp.weixin.qq.com/s?__biz=MzI2NDk5NzA0Mw...  \n",
       "1084  http://mp.weixin.qq.com/s?__biz=MzI2NDk5NzA0Mw...  \n",
       "1085  http://mp.weixin.qq.com/s?__biz=MzI2NDk5NzA0Mw...  \n",
       "1086  http://mp.weixin.qq.com/s?__biz=MzI2NDk5NzA0Mw...  \n",
       "1087  http://mp.weixin.qq.com/s?__biz=MzI2NDk5NzA0Mw...  "
      ]
     },
     "execution_count": 53,
     "metadata": {},
     "output_type": "execute_result"
    }
   ],
   "source": [
    "df_url_out.tail(5)"
   ]
  },
  {
   "cell_type": "code",
   "execution_count": 54,
   "metadata": {},
   "outputs": [
    {
     "data": {
      "text/html": [
       "<div>\n",
       "<style scoped>\n",
       "    .dataframe tbody tr th:only-of-type {\n",
       "        vertical-align: middle;\n",
       "    }\n",
       "\n",
       "    .dataframe tbody tr th {\n",
       "        vertical-align: top;\n",
       "    }\n",
       "\n",
       "    .dataframe thead th {\n",
       "        text-align: right;\n",
       "    }\n",
       "</style>\n",
       "<table border=\"1\" class=\"dataframe\">\n",
       "  <thead>\n",
       "    <tr style=\"text-align: right;\">\n",
       "      <th></th>\n",
       "      <th>title</th>\n",
       "      <th>create_time</th>\n",
       "      <th>link</th>\n",
       "    </tr>\n",
       "  </thead>\n",
       "  <tbody>\n",
       "    <tr>\n",
       "      <th>0</th>\n",
       "      <td>8点1氪：李彦宏将于今晚8点开启百度直播首秀；虎扑否认赴美IPO；消息称瑞幸咖啡仍在快速开店</td>\n",
       "      <td>2020-05-15</td>\n",
       "      <td>http://mp.weixin.qq.com/s?__biz=MzI2NDk5NzA0Mw...</td>\n",
       "    </tr>\n",
       "    <tr>\n",
       "      <th>1</th>\n",
       "      <td>用 AI 寻找走失儿童，打击野生动物贩卖，百度 AI 如何推动公益智能化？</td>\n",
       "      <td>2020-05-15</td>\n",
       "      <td>http://mp.weixin.qq.com/s?__biz=MzI2NDk5NzA0Mw...</td>\n",
       "    </tr>\n",
       "    <tr>\n",
       "      <th>2</th>\n",
       "      <td>《创造营2020》的尴尬：砸完重金后，恐不能造出「孟美岐」</td>\n",
       "      <td>2020-05-15</td>\n",
       "      <td>http://mp.weixin.qq.com/s?__biz=MzI2NDk5NzA0Mw...</td>\n",
       "    </tr>\n",
       "    <tr>\n",
       "      <th>3</th>\n",
       "      <td>倡导无龄无边界，「KOKOLU」用丝绒鞋敲开舒适服饰市场 | 早起看早期</td>\n",
       "      <td>2020-05-15</td>\n",
       "      <td>http://mp.weixin.qq.com/s?__biz=MzI2NDk5NzA0Mw...</td>\n",
       "    </tr>\n",
       "    <tr>\n",
       "      <th>4</th>\n",
       "      <td>薇娅教卡戴珊做人，中国网红教世界卖货｜深氪</td>\n",
       "      <td>2020-05-14</td>\n",
       "      <td>http://mp.weixin.qq.com/s?__biz=MzI2NDk5NzA0Mw...</td>\n",
       "    </tr>\n",
       "    <tr>\n",
       "      <th>...</th>\n",
       "      <td>...</td>\n",
       "      <td>...</td>\n",
       "      <td>...</td>\n",
       "    </tr>\n",
       "    <tr>\n",
       "      <th>1083</th>\n",
       "      <td>腾讯音乐与抖音达成转授权合作，腾讯系与头条系难得牵手｜36氪独家</td>\n",
       "      <td>2020-01-13</td>\n",
       "      <td>http://mp.weixin.qq.com/s?__biz=MzI2NDk5NzA0Mw...</td>\n",
       "    </tr>\n",
       "    <tr>\n",
       "      <th>1084</th>\n",
       "      <td>今天，我参加了一个 5 个亿的大项目 | 唠氪儿</td>\n",
       "      <td>2020-01-13</td>\n",
       "      <td>http://mp.weixin.qq.com/s?__biz=MzI2NDk5NzA0Mw...</td>\n",
       "    </tr>\n",
       "    <tr>\n",
       "      <th>1085</th>\n",
       "      <td>专访陆奇：你可以用妥协，我用更不同的词叫务实</td>\n",
       "      <td>2020-01-13</td>\n",
       "      <td>http://mp.weixin.qq.com/s?__biz=MzI2NDk5NzA0Mw...</td>\n",
       "    </tr>\n",
       "    <tr>\n",
       "      <th>1086</th>\n",
       "      <td>百亿瑞幸怒刷「存在感」</td>\n",
       "      <td>2020-01-13</td>\n",
       "      <td>http://mp.weixin.qq.com/s?__biz=MzI2NDk5NzA0Mw...</td>\n",
       "    </tr>\n",
       "    <tr>\n",
       "      <th>1087</th>\n",
       "      <td>5187 家厂商涌入 CES，4 天后他们留下了什么 | CES 2020</td>\n",
       "      <td>2020-01-13</td>\n",
       "      <td>http://mp.weixin.qq.com/s?__biz=MzI2NDk5NzA0Mw...</td>\n",
       "    </tr>\n",
       "  </tbody>\n",
       "</table>\n",
       "<p>1088 rows × 3 columns</p>\n",
       "</div>"
      ],
      "text/plain": [
       "                                               title create_time  \\\n",
       "0     8点1氪：李彦宏将于今晚8点开启百度直播首秀；虎扑否认赴美IPO；消息称瑞幸咖啡仍在快速开店  2020-05-15   \n",
       "1              用 AI 寻找走失儿童，打击野生动物贩卖，百度 AI 如何推动公益智能化？  2020-05-15   \n",
       "2                      《创造营2020》的尴尬：砸完重金后，恐不能造出「孟美岐」  2020-05-15   \n",
       "3               倡导无龄无边界，「KOKOLU」用丝绒鞋敲开舒适服饰市场 | 早起看早期  2020-05-15   \n",
       "4                              薇娅教卡戴珊做人，中国网红教世界卖货｜深氪  2020-05-14   \n",
       "...                                              ...         ...   \n",
       "1083                腾讯音乐与抖音达成转授权合作，腾讯系与头条系难得牵手｜36氪独家  2020-01-13   \n",
       "1084                        今天，我参加了一个 5 个亿的大项目 | 唠氪儿  2020-01-13   \n",
       "1085                          专访陆奇：你可以用妥协，我用更不同的词叫务实  2020-01-13   \n",
       "1086                                     百亿瑞幸怒刷「存在感」  2020-01-13   \n",
       "1087           5187 家厂商涌入 CES，4 天后他们留下了什么 | CES 2020  2020-01-13   \n",
       "\n",
       "                                                   link  \n",
       "0     http://mp.weixin.qq.com/s?__biz=MzI2NDk5NzA0Mw...  \n",
       "1     http://mp.weixin.qq.com/s?__biz=MzI2NDk5NzA0Mw...  \n",
       "2     http://mp.weixin.qq.com/s?__biz=MzI2NDk5NzA0Mw...  \n",
       "3     http://mp.weixin.qq.com/s?__biz=MzI2NDk5NzA0Mw...  \n",
       "4     http://mp.weixin.qq.com/s?__biz=MzI2NDk5NzA0Mw...  \n",
       "...                                                 ...  \n",
       "1083  http://mp.weixin.qq.com/s?__biz=MzI2NDk5NzA0Mw...  \n",
       "1084  http://mp.weixin.qq.com/s?__biz=MzI2NDk5NzA0Mw...  \n",
       "1085  http://mp.weixin.qq.com/s?__biz=MzI2NDk5NzA0Mw...  \n",
       "1086  http://mp.weixin.qq.com/s?__biz=MzI2NDk5NzA0Mw...  \n",
       "1087  http://mp.weixin.qq.com/s?__biz=MzI2NDk5NzA0Mw...  \n",
       "\n",
       "[1088 rows x 3 columns]"
      ]
     },
     "execution_count": 54,
     "metadata": {},
     "output_type": "execute_result"
    }
   ],
   "source": [
    "df_url_out"
   ]
  },
  {
   "cell_type": "code",
   "execution_count": 55,
   "metadata": {},
   "outputs": [],
   "source": [
    "with pd.ExcelWriter(fn[\"output\"][\"公众号_table\"].format(公众号=\"36氪_selenium\")) as writer:\n",
    "    df_url_out.to_excel(writer)"
   ]
  },
  {
   "cell_type": "code",
   "execution_count": 59,
   "metadata": {},
   "outputs": [],
   "source": [
    "# 标记\n",
    "tagging = [\"\",\"8点1氪\",\"36氪独家\",\"36氪领读\",\"36氪创投研究院\",\"9点1氪\",\"36氪新风向\",\"36氪专访\",\"36氪未来智库\",\"36氪深度研究\",\"焦点分析\",\"最前线\",\"深氪\"]\n",
    "\n",
    "tag_list = []\n",
    "\n",
    "for tag in tagging:\n",
    "    index_list = df_url_out[df_url_out.title.str.contains(tag)].index.tolist()\n",
    "    tag_melt = pd.DataFrame({tag:index_list}).melt().set_index(\"value\")\n",
    "    tag_list.append(tag_melt)\n",
    "    \n",
    "    \n",
    "df_cat = tag_list[0]\n",
    "for i in tag_list:\n",
    "    df_cat.update(i)\n",
    "# df_cat.tail(10)"
   ]
  },
  {
   "cell_type": "code",
   "execution_count": 60,
   "metadata": {},
   "outputs": [
    {
     "data": {
      "text/html": [
       "<div>\n",
       "<style scoped>\n",
       "    .dataframe tbody tr th:only-of-type {\n",
       "        vertical-align: middle;\n",
       "    }\n",
       "\n",
       "    .dataframe tbody tr th {\n",
       "        vertical-align: top;\n",
       "    }\n",
       "\n",
       "    .dataframe thead th {\n",
       "        text-align: right;\n",
       "    }\n",
       "</style>\n",
       "<table border=\"1\" class=\"dataframe\">\n",
       "  <thead>\n",
       "    <tr style=\"text-align: right;\">\n",
       "      <th></th>\n",
       "      <th>title</th>\n",
       "      <th>create_time</th>\n",
       "      <th>link</th>\n",
       "    </tr>\n",
       "  </thead>\n",
       "  <tbody>\n",
       "  </tbody>\n",
       "</table>\n",
       "</div>"
      ],
      "text/plain": [
       "Empty DataFrame\n",
       "Columns: [title, create_time, link]\n",
       "Index: []"
      ]
     },
     "execution_count": 60,
     "metadata": {},
     "output_type": "execute_result"
    }
   ],
   "source": [
    "df_url_out[df_url_out.duplicated()]"
   ]
  },
  {
   "cell_type": "code",
   "execution_count": 61,
   "metadata": {},
   "outputs": [
    {
     "data": {
      "text/html": [
       "<div>\n",
       "<style scoped>\n",
       "    .dataframe tbody tr th:only-of-type {\n",
       "        vertical-align: middle;\n",
       "    }\n",
       "\n",
       "    .dataframe tbody tr th {\n",
       "        vertical-align: top;\n",
       "    }\n",
       "\n",
       "    .dataframe thead th {\n",
       "        text-align: right;\n",
       "    }\n",
       "</style>\n",
       "<table border=\"1\" class=\"dataframe\">\n",
       "  <thead>\n",
       "    <tr style=\"text-align: right;\">\n",
       "      <th></th>\n",
       "      <th>title</th>\n",
       "      <th>create_time</th>\n",
       "      <th>link</th>\n",
       "    </tr>\n",
       "  </thead>\n",
       "  <tbody>\n",
       "    <tr>\n",
       "      <th>0</th>\n",
       "      <td>8点1氪：李彦宏将于今晚8点开启百度直播首秀；虎扑否认赴美IPO；消息称瑞幸咖啡仍在快速开店</td>\n",
       "      <td>2020-05-15</td>\n",
       "      <td>http://mp.weixin.qq.com/s?__biz=MzI2NDk5NzA0Mw...</td>\n",
       "    </tr>\n",
       "    <tr>\n",
       "      <th>1</th>\n",
       "      <td>用 AI 寻找走失儿童，打击野生动物贩卖，百度 AI 如何推动公益智能化？</td>\n",
       "      <td>2020-05-15</td>\n",
       "      <td>http://mp.weixin.qq.com/s?__biz=MzI2NDk5NzA0Mw...</td>\n",
       "    </tr>\n",
       "    <tr>\n",
       "      <th>2</th>\n",
       "      <td>《创造营2020》的尴尬：砸完重金后，恐不能造出「孟美岐」</td>\n",
       "      <td>2020-05-15</td>\n",
       "      <td>http://mp.weixin.qq.com/s?__biz=MzI2NDk5NzA0Mw...</td>\n",
       "    </tr>\n",
       "    <tr>\n",
       "      <th>3</th>\n",
       "      <td>倡导无龄无边界，「KOKOLU」用丝绒鞋敲开舒适服饰市场 | 早起看早期</td>\n",
       "      <td>2020-05-15</td>\n",
       "      <td>http://mp.weixin.qq.com/s?__biz=MzI2NDk5NzA0Mw...</td>\n",
       "    </tr>\n",
       "    <tr>\n",
       "      <th>4</th>\n",
       "      <td>薇娅教卡戴珊做人，中国网红教世界卖货｜深氪</td>\n",
       "      <td>2020-05-14</td>\n",
       "      <td>http://mp.weixin.qq.com/s?__biz=MzI2NDk5NzA0Mw...</td>\n",
       "    </tr>\n",
       "    <tr>\n",
       "      <th>...</th>\n",
       "      <td>...</td>\n",
       "      <td>...</td>\n",
       "      <td>...</td>\n",
       "    </tr>\n",
       "    <tr>\n",
       "      <th>1083</th>\n",
       "      <td>腾讯音乐与抖音达成转授权合作，腾讯系与头条系难得牵手｜36氪独家</td>\n",
       "      <td>2020-01-13</td>\n",
       "      <td>http://mp.weixin.qq.com/s?__biz=MzI2NDk5NzA0Mw...</td>\n",
       "    </tr>\n",
       "    <tr>\n",
       "      <th>1084</th>\n",
       "      <td>今天，我参加了一个 5 个亿的大项目 | 唠氪儿</td>\n",
       "      <td>2020-01-13</td>\n",
       "      <td>http://mp.weixin.qq.com/s?__biz=MzI2NDk5NzA0Mw...</td>\n",
       "    </tr>\n",
       "    <tr>\n",
       "      <th>1085</th>\n",
       "      <td>专访陆奇：你可以用妥协，我用更不同的词叫务实</td>\n",
       "      <td>2020-01-13</td>\n",
       "      <td>http://mp.weixin.qq.com/s?__biz=MzI2NDk5NzA0Mw...</td>\n",
       "    </tr>\n",
       "    <tr>\n",
       "      <th>1086</th>\n",
       "      <td>百亿瑞幸怒刷「存在感」</td>\n",
       "      <td>2020-01-13</td>\n",
       "      <td>http://mp.weixin.qq.com/s?__biz=MzI2NDk5NzA0Mw...</td>\n",
       "    </tr>\n",
       "    <tr>\n",
       "      <th>1087</th>\n",
       "      <td>5187 家厂商涌入 CES，4 天后他们留下了什么 | CES 2020</td>\n",
       "      <td>2020-01-13</td>\n",
       "      <td>http://mp.weixin.qq.com/s?__biz=MzI2NDk5NzA0Mw...</td>\n",
       "    </tr>\n",
       "  </tbody>\n",
       "</table>\n",
       "<p>1088 rows × 3 columns</p>\n",
       "</div>"
      ],
      "text/plain": [
       "                                               title create_time  \\\n",
       "0     8点1氪：李彦宏将于今晚8点开启百度直播首秀；虎扑否认赴美IPO；消息称瑞幸咖啡仍在快速开店  2020-05-15   \n",
       "1              用 AI 寻找走失儿童，打击野生动物贩卖，百度 AI 如何推动公益智能化？  2020-05-15   \n",
       "2                      《创造营2020》的尴尬：砸完重金后，恐不能造出「孟美岐」  2020-05-15   \n",
       "3               倡导无龄无边界，「KOKOLU」用丝绒鞋敲开舒适服饰市场 | 早起看早期  2020-05-15   \n",
       "4                              薇娅教卡戴珊做人，中国网红教世界卖货｜深氪  2020-05-14   \n",
       "...                                              ...         ...   \n",
       "1083                腾讯音乐与抖音达成转授权合作，腾讯系与头条系难得牵手｜36氪独家  2020-01-13   \n",
       "1084                        今天，我参加了一个 5 个亿的大项目 | 唠氪儿  2020-01-13   \n",
       "1085                          专访陆奇：你可以用妥协，我用更不同的词叫务实  2020-01-13   \n",
       "1086                                     百亿瑞幸怒刷「存在感」  2020-01-13   \n",
       "1087           5187 家厂商涌入 CES，4 天后他们留下了什么 | CES 2020  2020-01-13   \n",
       "\n",
       "                                                   link  \n",
       "0     http://mp.weixin.qq.com/s?__biz=MzI2NDk5NzA0Mw...  \n",
       "1     http://mp.weixin.qq.com/s?__biz=MzI2NDk5NzA0Mw...  \n",
       "2     http://mp.weixin.qq.com/s?__biz=MzI2NDk5NzA0Mw...  \n",
       "3     http://mp.weixin.qq.com/s?__biz=MzI2NDk5NzA0Mw...  \n",
       "4     http://mp.weixin.qq.com/s?__biz=MzI2NDk5NzA0Mw...  \n",
       "...                                                 ...  \n",
       "1083  http://mp.weixin.qq.com/s?__biz=MzI2NDk5NzA0Mw...  \n",
       "1084  http://mp.weixin.qq.com/s?__biz=MzI2NDk5NzA0Mw...  \n",
       "1085  http://mp.weixin.qq.com/s?__biz=MzI2NDk5NzA0Mw...  \n",
       "1086  http://mp.weixin.qq.com/s?__biz=MzI2NDk5NzA0Mw...  \n",
       "1087  http://mp.weixin.qq.com/s?__biz=MzI2NDk5NzA0Mw...  \n",
       "\n",
       "[1088 rows x 3 columns]"
      ]
     },
     "execution_count": 61,
     "metadata": {},
     "output_type": "execute_result"
    }
   ],
   "source": [
    "df_url_out[~df_url_out.duplicated()]"
   ]
  },
  {
   "cell_type": "code",
   "execution_count": 62,
   "metadata": {},
   "outputs": [
    {
     "data": {
      "text/html": [
       "<div>\n",
       "<style scoped>\n",
       "    .dataframe tbody tr th:only-of-type {\n",
       "        vertical-align: middle;\n",
       "    }\n",
       "\n",
       "    .dataframe tbody tr th {\n",
       "        vertical-align: top;\n",
       "    }\n",
       "\n",
       "    .dataframe thead th {\n",
       "        text-align: right;\n",
       "    }\n",
       "</style>\n",
       "<table border=\"1\" class=\"dataframe\">\n",
       "  <thead>\n",
       "    <tr style=\"text-align: right;\">\n",
       "      <th></th>\n",
       "      <th>title</th>\n",
       "      <th>create_time</th>\n",
       "      <th>link</th>\n",
       "    </tr>\n",
       "    <tr>\n",
       "      <th>value</th>\n",
       "      <th></th>\n",
       "      <th></th>\n",
       "      <th></th>\n",
       "    </tr>\n",
       "  </thead>\n",
       "  <tbody>\n",
       "    <tr>\n",
       "      <th>0</th>\n",
       "      <td>8点1氪：李彦宏将于今晚8点开启百度直播首秀；虎扑否认赴美IPO；消息称瑞幸咖啡仍在快速开店</td>\n",
       "      <td>2020-05-15</td>\n",
       "      <td>http://mp.weixin.qq.com/s?__biz=MzI2NDk5NzA0Mw...</td>\n",
       "    </tr>\n",
       "    <tr>\n",
       "      <th>11</th>\n",
       "      <td>8点1氪：李佳琦申请注册口头禅声音商标；用5G或需要换SIM卡；香奈儿或于本周在全球大幅调价</td>\n",
       "      <td>2020-05-14</td>\n",
       "      <td>http://mp.weixin.qq.com/s?__biz=MzI2NDk5NzA0Mw...</td>\n",
       "    </tr>\n",
       "    <tr>\n",
       "      <th>22</th>\n",
       "      <td>8点1氪：瑞幸CEO与COO被停职；拼多多市值反超京东；ofo联合创始人于信创业</td>\n",
       "      <td>2020-05-13</td>\n",
       "      <td>http://mp.weixin.qq.com/s?__biz=MzI2NDk5NzA0Mw...</td>\n",
       "    </tr>\n",
       "    <tr>\n",
       "      <th>33</th>\n",
       "      <td>8点1氪：全时便利店发布停止营业告知函；央视体育频道回应NBA转播；茶颜悦色将于2021年进驻武汉</td>\n",
       "      <td>2020-05-12</td>\n",
       "      <td>http://mp.weixin.qq.com/s?__biz=MzI2NDk5NzA0Mw...</td>\n",
       "    </tr>\n",
       "    <tr>\n",
       "      <th>44</th>\n",
       "      <td>8点1氪：多地明确快递入柜需经收件人同意；董明珠快手直播带货30分钟破亿​；宜家回应不雅视频事件</td>\n",
       "      <td>2020-05-11</td>\n",
       "      <td>http://mp.weixin.qq.com/s?__biz=MzI2NDk5NzA0Mw...</td>\n",
       "    </tr>\n",
       "    <tr>\n",
       "      <th>...</th>\n",
       "      <td>...</td>\n",
       "      <td>...</td>\n",
       "      <td>...</td>\n",
       "    </tr>\n",
       "    <tr>\n",
       "      <th>1027</th>\n",
       "      <td>8点1氪：新iPhone或最低不到3000元；马斯克：能在2050年之前送100万人登上火星...</td>\n",
       "      <td>2020-01-19</td>\n",
       "      <td>http://mp.weixin.qq.com/s?__biz=MzI2NDk5NzA0Mw...</td>\n",
       "    </tr>\n",
       "    <tr>\n",
       "      <th>1046</th>\n",
       "      <td>8点1氪：戈恩逃亡大戏或将被好莱坞搬上荧屏；美团打车：“出租车感谢费”模块已下线；造谣小红书...</td>\n",
       "      <td>2020-01-17</td>\n",
       "      <td>http://mp.weixin.qq.com/s?__biz=MzI2NDk5NzA0Mw...</td>\n",
       "    </tr>\n",
       "    <tr>\n",
       "      <th>1057</th>\n",
       "      <td>8点1氪：微信灰度测试订阅号付费功能；故宫6688元年夜饭全部取消；百度App春节发5亿现金红包</td>\n",
       "      <td>2020-01-16</td>\n",
       "      <td>http://mp.weixin.qq.com/s?__biz=MzI2NDk5NzA0Mw...</td>\n",
       "    </tr>\n",
       "    <tr>\n",
       "      <th>1066</th>\n",
       "      <td>8点1氪：微信上线10个新默认表情；蚂蚁金服回应AH两地上市；欧盟考虑统一所有手机接口，苹果...</td>\n",
       "      <td>2020-01-15</td>\n",
       "      <td>http://mp.weixin.qq.com/s?__biz=MzI2NDk5NzA0Mw...</td>\n",
       "    </tr>\n",
       "    <tr>\n",
       "      <th>1076</th>\n",
       "      <td>8点1氪：支付宝2020年集五福活动正式开启；王兴：浏览器总跳转到百度App，所以我把百度删...</td>\n",
       "      <td>2020-01-14</td>\n",
       "      <td>http://mp.weixin.qq.com/s?__biz=MzI2NDk5NzA0Mw...</td>\n",
       "    </tr>\n",
       "  </tbody>\n",
       "</table>\n",
       "<p>82 rows × 3 columns</p>\n",
       "</div>"
      ],
      "text/plain": [
       "                                                   title create_time  \\\n",
       "value                                                                  \n",
       "0         8点1氪：李彦宏将于今晚8点开启百度直播首秀；虎扑否认赴美IPO；消息称瑞幸咖啡仍在快速开店  2020-05-15   \n",
       "11        8点1氪：李佳琦申请注册口头禅声音商标；用5G或需要换SIM卡；香奈儿或于本周在全球大幅调价  2020-05-14   \n",
       "22              8点1氪：瑞幸CEO与COO被停职；拼多多市值反超京东；ofo联合创始人于信创业  2020-05-13   \n",
       "33     8点1氪：全时便利店发布停止营业告知函；央视体育频道回应NBA转播；茶颜悦色将于2021年进驻武汉  2020-05-12   \n",
       "44      8点1氪：多地明确快递入柜需经收件人同意；董明珠快手直播带货30分钟破亿​；宜家回应不雅视频事件  2020-05-11   \n",
       "...                                                  ...         ...   \n",
       "1027   8点1氪：新iPhone或最低不到3000元；马斯克：能在2050年之前送100万人登上火星...  2020-01-19   \n",
       "1046   8点1氪：戈恩逃亡大戏或将被好莱坞搬上荧屏；美团打车：“出租车感谢费”模块已下线；造谣小红书...  2020-01-17   \n",
       "1057    8点1氪：微信灰度测试订阅号付费功能；故宫6688元年夜饭全部取消；百度App春节发5亿现金红包  2020-01-16   \n",
       "1066   8点1氪：微信上线10个新默认表情；蚂蚁金服回应AH两地上市；欧盟考虑统一所有手机接口，苹果...  2020-01-15   \n",
       "1076   8点1氪：支付宝2020年集五福活动正式开启；王兴：浏览器总跳转到百度App，所以我把百度删...  2020-01-14   \n",
       "\n",
       "                                                    link  \n",
       "value                                                     \n",
       "0      http://mp.weixin.qq.com/s?__biz=MzI2NDk5NzA0Mw...  \n",
       "11     http://mp.weixin.qq.com/s?__biz=MzI2NDk5NzA0Mw...  \n",
       "22     http://mp.weixin.qq.com/s?__biz=MzI2NDk5NzA0Mw...  \n",
       "33     http://mp.weixin.qq.com/s?__biz=MzI2NDk5NzA0Mw...  \n",
       "44     http://mp.weixin.qq.com/s?__biz=MzI2NDk5NzA0Mw...  \n",
       "...                                                  ...  \n",
       "1027   http://mp.weixin.qq.com/s?__biz=MzI2NDk5NzA0Mw...  \n",
       "1046   http://mp.weixin.qq.com/s?__biz=MzI2NDk5NzA0Mw...  \n",
       "1057   http://mp.weixin.qq.com/s?__biz=MzI2NDk5NzA0Mw...  \n",
       "1066   http://mp.weixin.qq.com/s?__biz=MzI2NDk5NzA0Mw...  \n",
       "1076   http://mp.weixin.qq.com/s?__biz=MzI2NDk5NzA0Mw...  \n",
       "\n",
       "[82 rows x 3 columns]"
      ]
     },
     "execution_count": 62,
     "metadata": {},
     "output_type": "execute_result"
    }
   ],
   "source": [
    "# 8点1氪\n",
    "_8点1氪_ = df_url_out.loc[df_cat.query(\"variable=='8点1氪'\").index]\n",
    "_8点1氪_"
   ]
  },
  {
   "cell_type": "code",
   "execution_count": 64,
   "metadata": {},
   "outputs": [
    {
     "data": {
      "text/html": [
       "<div>\n",
       "<style scoped>\n",
       "    .dataframe tbody tr th:only-of-type {\n",
       "        vertical-align: middle;\n",
       "    }\n",
       "\n",
       "    .dataframe tbody tr th {\n",
       "        vertical-align: top;\n",
       "    }\n",
       "\n",
       "    .dataframe thead th {\n",
       "        text-align: right;\n",
       "    }\n",
       "</style>\n",
       "<table border=\"1\" class=\"dataframe\">\n",
       "  <thead>\n",
       "    <tr style=\"text-align: right;\">\n",
       "      <th></th>\n",
       "      <th>title</th>\n",
       "      <th>create_time</th>\n",
       "      <th>link</th>\n",
       "    </tr>\n",
       "    <tr>\n",
       "      <th>value</th>\n",
       "      <th></th>\n",
       "      <th></th>\n",
       "      <th></th>\n",
       "    </tr>\n",
       "  </thead>\n",
       "  <tbody>\n",
       "    <tr>\n",
       "      <th>29</th>\n",
       "      <td>ofo 联合创始人于信创业，已获数百万美元种子轮融资 | 36氪独家</td>\n",
       "      <td>2020-05-12</td>\n",
       "      <td>http://mp.weixin.qq.com/s?__biz=MzI2NDk5NzA0Mw...</td>\n",
       "    </tr>\n",
       "    <tr>\n",
       "      <th>81</th>\n",
       "      <td>特斯拉上海工厂停工，或因海外零部件缺货 | 36氪独家</td>\n",
       "      <td>2020-05-07</td>\n",
       "      <td>http://mp.weixin.qq.com/s?__biz=MzI2NDk5NzA0Mw...</td>\n",
       "    </tr>\n",
       "    <tr>\n",
       "      <th>94</th>\n",
       "      <td>瓜子母公司车好多新获 2 亿美金追加融资，软银和红杉再度加码 | 36氪独家</td>\n",
       "      <td>2020-05-06</td>\n",
       "      <td>http://mp.weixin.qq.com/s?__biz=MzI2NDk5NzA0Mw...</td>\n",
       "    </tr>\n",
       "    <tr>\n",
       "      <th>142</th>\n",
       "      <td>注资 1040 万美金，好未来欲以 2 亿人民币估值收购「DaDa英语」| 36氪独家</td>\n",
       "      <td>2020-04-28</td>\n",
       "      <td>http://mp.weixin.qq.com/s?__biz=MzI2NDk5NzA0Mw...</td>\n",
       "    </tr>\n",
       "    <tr>\n",
       "      <th>145</th>\n",
       "      <td>美团刚下单百万辆共享电单车，滴滴青桔就传出融资，战火重启了？| 36氪独家</td>\n",
       "      <td>2020-04-28</td>\n",
       "      <td>http://mp.weixin.qq.com/s?__biz=MzI2NDk5NzA0Mw...</td>\n",
       "    </tr>\n",
       "    <tr>\n",
       "      <th>335</th>\n",
       "      <td>对标猿辅导月入 3 亿的斑马AI课，字节跳动 20 条教育线再推新产品 | 36氪独家</td>\n",
       "      <td>2020-04-09</td>\n",
       "      <td>http://mp.weixin.qq.com/s?__biz=MzI2NDk5NzA0Mw...</td>\n",
       "    </tr>\n",
       "    <tr>\n",
       "      <th>423</th>\n",
       "      <td>猿辅导完成 10 亿美元新一轮融资，为教育行业史上最大一笔融资 | 36氪独家</td>\n",
       "      <td>2020-03-31</td>\n",
       "      <td>http://mp.weixin.qq.com/s?__biz=MzI2NDk5NzA0Mw...</td>\n",
       "    </tr>\n",
       "    <tr>\n",
       "      <th>488</th>\n",
       "      <td>罗永浩与抖音正式签约，快手高价竞争但失手 | 36氪独家</td>\n",
       "      <td>2020-03-25</td>\n",
       "      <td>http://mp.weixin.qq.com/s?__biz=MzI2NDk5NzA0Mw...</td>\n",
       "    </tr>\n",
       "    <tr>\n",
       "      <th>512</th>\n",
       "      <td>喜茶完成新一轮融资，高瓴资本和 Coatue 联合领投，投后估值或超 160 亿 | 36氪独家</td>\n",
       "      <td>2020-03-23</td>\n",
       "      <td>http://mp.weixin.qq.com/s?__biz=MzI2NDk5NzA0Mw...</td>\n",
       "    </tr>\n",
       "    <tr>\n",
       "      <th>525</th>\n",
       "      <td>小鹏汽车收购广东福迪汽车，解决自建工厂生产资质 | 36氪独家</td>\n",
       "      <td>2020-03-21</td>\n",
       "      <td>http://mp.weixin.qq.com/s?__biz=MzI2NDk5NzA0Mw...</td>\n",
       "    </tr>\n",
       "    <tr>\n",
       "      <th>607</th>\n",
       "      <td>字节跳动 To B 团队调整，原西瓜视频总裁张楠担任「飞书」负责人 | 36氪独家</td>\n",
       "      <td>2020-03-13</td>\n",
       "      <td>http://mp.weixin.qq.com/s?__biz=MzI2NDk5NzA0Mw...</td>\n",
       "    </tr>\n",
       "    <tr>\n",
       "      <th>610</th>\n",
       "      <td>淘宝直播战略升级，原运营负责人赵圆圆辞职创业 | 36氪独家</td>\n",
       "      <td>2020-03-13</td>\n",
       "      <td>http://mp.weixin.qq.com/s?__biz=MzI2NDk5NzA0Mw...</td>\n",
       "    </tr>\n",
       "    <tr>\n",
       "      <th>640</th>\n",
       "      <td>字节跳动 To B 再添一员，将推出「飞书文档」独立App | 36氪独家</td>\n",
       "      <td>2020-03-10</td>\n",
       "      <td>http://mp.weixin.qq.com/s?__biz=MzI2NDk5NzA0Mw...</td>\n",
       "    </tr>\n",
       "    <tr>\n",
       "      <th>734</th>\n",
       "      <td>石墨文档完成数千万美元 B+ 轮融资，由宽带资本、方广资本领投丨36氪独家</td>\n",
       "      <td>2020-02-28</td>\n",
       "      <td>http://mp.weixin.qq.com/s?__biz=MzI2NDk5NzA0Mw...</td>\n",
       "    </tr>\n",
       "    <tr>\n",
       "      <th>834</th>\n",
       "      <td>微信开放「智慧零售」入口，每日优鲜、优衣库等商家接入 | 36氪独家</td>\n",
       "      <td>2020-02-18</td>\n",
       "      <td>http://mp.weixin.qq.com/s?__biz=MzI2NDk5NzA0Mw...</td>\n",
       "    </tr>\n",
       "    <tr>\n",
       "      <th>837</th>\n",
       "      <td>OPPO 制定造芯片计划，建立技术委员会，并提出三大计划 | 36氪独家</td>\n",
       "      <td>2020-02-18</td>\n",
       "      <td>http://mp.weixin.qq.com/s?__biz=MzI2NDk5NzA0Mw...</td>\n",
       "    </tr>\n",
       "    <tr>\n",
       "      <th>1052</th>\n",
       "      <td>高管离职、人员优化，调整后的瓜子终于实现整体盈利 | 36氪独家</td>\n",
       "      <td>2020-01-16</td>\n",
       "      <td>http://mp.weixin.qq.com/s?__biz=MzI2NDk5NzA0Mw...</td>\n",
       "    </tr>\n",
       "    <tr>\n",
       "      <th>1083</th>\n",
       "      <td>腾讯音乐与抖音达成转授权合作，腾讯系与头条系难得牵手｜36氪独家</td>\n",
       "      <td>2020-01-13</td>\n",
       "      <td>http://mp.weixin.qq.com/s?__biz=MzI2NDk5NzA0Mw...</td>\n",
       "    </tr>\n",
       "  </tbody>\n",
       "</table>\n",
       "</div>"
      ],
      "text/plain": [
       "                                                  title create_time  \\\n",
       "value                                                                 \n",
       "29                   ofo 联合创始人于信创业，已获数百万美元种子轮融资 | 36氪独家  2020-05-12   \n",
       "81                          特斯拉上海工厂停工，或因海外零部件缺货 | 36氪独家  2020-05-07   \n",
       "94               瓜子母公司车好多新获 2 亿美金追加融资，软银和红杉再度加码 | 36氪独家  2020-05-06   \n",
       "142         注资 1040 万美金，好未来欲以 2 亿人民币估值收购「DaDa英语」| 36氪独家  2020-04-28   \n",
       "145               美团刚下单百万辆共享电单车，滴滴青桔就传出融资，战火重启了？| 36氪独家  2020-04-28   \n",
       "335         对标猿辅导月入 3 亿的斑马AI课，字节跳动 20 条教育线再推新产品 | 36氪独家  2020-04-09   \n",
       "423             猿辅导完成 10 亿美元新一轮融资，为教育行业史上最大一笔融资 | 36氪独家  2020-03-31   \n",
       "488                        罗永浩与抖音正式签约，快手高价竞争但失手 | 36氪独家  2020-03-25   \n",
       "512    喜茶完成新一轮融资，高瓴资本和 Coatue 联合领投，投后估值或超 160 亿 | 36氪独家  2020-03-23   \n",
       "525                     小鹏汽车收购广东福迪汽车，解决自建工厂生产资质 | 36氪独家  2020-03-21   \n",
       "607           字节跳动 To B 团队调整，原西瓜视频总裁张楠担任「飞书」负责人 | 36氪独家  2020-03-13   \n",
       "610                      淘宝直播战略升级，原运营负责人赵圆圆辞职创业 | 36氪独家  2020-03-13   \n",
       "640               字节跳动 To B 再添一员，将推出「飞书文档」独立App | 36氪独家  2020-03-10   \n",
       "734               石墨文档完成数千万美元 B+ 轮融资，由宽带资本、方广资本领投丨36氪独家  2020-02-28   \n",
       "834                  微信开放「智慧零售」入口，每日优鲜、优衣库等商家接入 | 36氪独家  2020-02-18   \n",
       "837                OPPO 制定造芯片计划，建立技术委员会，并提出三大计划 | 36氪独家  2020-02-18   \n",
       "1052                   高管离职、人员优化，调整后的瓜子终于实现整体盈利 | 36氪独家  2020-01-16   \n",
       "1083                   腾讯音乐与抖音达成转授权合作，腾讯系与头条系难得牵手｜36氪独家  2020-01-13   \n",
       "\n",
       "                                                    link  \n",
       "value                                                     \n",
       "29     http://mp.weixin.qq.com/s?__biz=MzI2NDk5NzA0Mw...  \n",
       "81     http://mp.weixin.qq.com/s?__biz=MzI2NDk5NzA0Mw...  \n",
       "94     http://mp.weixin.qq.com/s?__biz=MzI2NDk5NzA0Mw...  \n",
       "142    http://mp.weixin.qq.com/s?__biz=MzI2NDk5NzA0Mw...  \n",
       "145    http://mp.weixin.qq.com/s?__biz=MzI2NDk5NzA0Mw...  \n",
       "335    http://mp.weixin.qq.com/s?__biz=MzI2NDk5NzA0Mw...  \n",
       "423    http://mp.weixin.qq.com/s?__biz=MzI2NDk5NzA0Mw...  \n",
       "488    http://mp.weixin.qq.com/s?__biz=MzI2NDk5NzA0Mw...  \n",
       "512    http://mp.weixin.qq.com/s?__biz=MzI2NDk5NzA0Mw...  \n",
       "525    http://mp.weixin.qq.com/s?__biz=MzI2NDk5NzA0Mw...  \n",
       "607    http://mp.weixin.qq.com/s?__biz=MzI2NDk5NzA0Mw...  \n",
       "610    http://mp.weixin.qq.com/s?__biz=MzI2NDk5NzA0Mw...  \n",
       "640    http://mp.weixin.qq.com/s?__biz=MzI2NDk5NzA0Mw...  \n",
       "734    http://mp.weixin.qq.com/s?__biz=MzI2NDk5NzA0Mw...  \n",
       "834    http://mp.weixin.qq.com/s?__biz=MzI2NDk5NzA0Mw...  \n",
       "837    http://mp.weixin.qq.com/s?__biz=MzI2NDk5NzA0Mw...  \n",
       "1052   http://mp.weixin.qq.com/s?__biz=MzI2NDk5NzA0Mw...  \n",
       "1083   http://mp.weixin.qq.com/s?__biz=MzI2NDk5NzA0Mw...  "
      ]
     },
     "execution_count": 64,
     "metadata": {},
     "output_type": "execute_result"
    }
   ],
   "source": [
    "# 36氪独家\n",
    "_36氪独家_ =df_url_out.loc[df_cat.query(\"variable=='36氪独家'\").index]\n",
    "_36氪独家_"
   ]
  },
  {
   "cell_type": "code",
   "execution_count": 65,
   "metadata": {},
   "outputs": [
    {
     "data": {
      "text/html": [
       "<div>\n",
       "<style scoped>\n",
       "    .dataframe tbody tr th:only-of-type {\n",
       "        vertical-align: middle;\n",
       "    }\n",
       "\n",
       "    .dataframe tbody tr th {\n",
       "        vertical-align: top;\n",
       "    }\n",
       "\n",
       "    .dataframe thead th {\n",
       "        text-align: right;\n",
       "    }\n",
       "</style>\n",
       "<table border=\"1\" class=\"dataframe\">\n",
       "  <thead>\n",
       "    <tr style=\"text-align: right;\">\n",
       "      <th></th>\n",
       "      <th>title</th>\n",
       "      <th>create_time</th>\n",
       "      <th>link</th>\n",
       "    </tr>\n",
       "    <tr>\n",
       "      <th>value</th>\n",
       "      <th></th>\n",
       "      <th></th>\n",
       "      <th></th>\n",
       "    </tr>\n",
       "  </thead>\n",
       "  <tbody>\n",
       "    <tr>\n",
       "      <th>52</th>\n",
       "      <td>身价是马云的两倍，89 岁巴菲特给后浪们的十条箴言 | 36氪领读</td>\n",
       "      <td>2020-05-10</td>\n",
       "      <td>http://mp.weixin.qq.com/s?__biz=MzI2NDk5NzA0Mw...</td>\n",
       "    </tr>\n",
       "    <tr>\n",
       "      <th>199</th>\n",
       "      <td>世界读书日，这 10 本好书你不能错过 | 36氪领读</td>\n",
       "      <td>2020-04-23</td>\n",
       "      <td>http://mp.weixin.qq.com/s?__biz=MzI2NDk5NzA0Mw...</td>\n",
       "    </tr>\n",
       "    <tr>\n",
       "      <th>241</th>\n",
       "      <td>《枪炮、病菌与钢铁》作者全新力作：个人与国家如何应对剧变？ | 36氪领读</td>\n",
       "      <td>2020-04-19</td>\n",
       "      <td>http://mp.weixin.qq.com/s?__biz=MzI2NDk5NzA0Mw...</td>\n",
       "    </tr>\n",
       "    <tr>\n",
       "      <th>311</th>\n",
       "      <td>一季度投资人书单：面对不确定性，他们向内求索 | 36氪领读</td>\n",
       "      <td>2020-04-12</td>\n",
       "      <td>http://mp.weixin.qq.com/s?__biz=MzI2NDk5NzA0Mw...</td>\n",
       "    </tr>\n",
       "    <tr>\n",
       "      <th>446</th>\n",
       "      <td>华尔街之王苏世民的投资逻辑：一套理念贯穿于每一次交易 | 36氪领读</td>\n",
       "      <td>2020-03-29</td>\n",
       "      <td>http://mp.weixin.qq.com/s?__biz=MzI2NDk5NzA0Mw...</td>\n",
       "    </tr>\n",
       "    <tr>\n",
       "      <th>522</th>\n",
       "      <td>美股 10 天 4 次熔断，普通股民如何避免被割韭菜？丨​36氪领读</td>\n",
       "      <td>2020-03-22</td>\n",
       "      <td>http://mp.weixin.qq.com/s?__biz=MzI2NDk5NzA0Mw...</td>\n",
       "    </tr>\n",
       "    <tr>\n",
       "      <th>591</th>\n",
       "      <td>股市涨跌难料？不如学习蜡烛图技术，助你预判趋势取得先机 | 36氪领读</td>\n",
       "      <td>2020-03-15</td>\n",
       "      <td>http://mp.weixin.qq.com/s?__biz=MzI2NDk5NzA0Mw...</td>\n",
       "    </tr>\n",
       "    <tr>\n",
       "      <th>662</th>\n",
       "      <td>直面创伤：如何在受创后重建内心世界？ | 36氪领读</td>\n",
       "      <td>2020-03-08</td>\n",
       "      <td>http://mp.weixin.qq.com/s?__biz=MzI2NDk5NzA0Mw...</td>\n",
       "    </tr>\n",
       "    <tr>\n",
       "      <th>719</th>\n",
       "      <td>《病毒来袭》：继《枪炮、病菌与钢铁》之后最引人关注的疾病社会史之作 | 36氪领读</td>\n",
       "      <td>2020-03-01</td>\n",
       "      <td>http://mp.weixin.qq.com/s?__biz=MzI2NDk5NzA0Mw...</td>\n",
       "    </tr>\n",
       "    <tr>\n",
       "      <th>788</th>\n",
       "      <td>疫情何时会出现拐点？学会用模型思维作出最接近的预测 | 36氪领读</td>\n",
       "      <td>2020-02-23</td>\n",
       "      <td>http://mp.weixin.qq.com/s?__biz=MzI2NDk5NzA0Mw...</td>\n",
       "    </tr>\n",
       "    <tr>\n",
       "      <th>854</th>\n",
       "      <td>阿里当年是如何度过非典危机，并创建淘宝的？ | 36氪领读</td>\n",
       "      <td>2020-02-16</td>\n",
       "      <td>http://mp.weixin.qq.com/s?__biz=MzI2NDk5NzA0Mw...</td>\n",
       "    </tr>\n",
       "    <tr>\n",
       "      <th>908</th>\n",
       "      <td>别了，规模经济 | 36氪领读</td>\n",
       "      <td>2020-02-09</td>\n",
       "      <td>http://mp.weixin.qq.com/s?__biz=MzI2NDk5NzA0Mw...</td>\n",
       "    </tr>\n",
       "    <tr>\n",
       "      <th>960</th>\n",
       "      <td>企业管理「七宗罪」：那些前辈企业家摔过的坑都是什么？｜36氪领读</td>\n",
       "      <td>2020-02-02</td>\n",
       "      <td>http://mp.weixin.qq.com/s?__biz=MzI2NDk5NzA0Mw...</td>\n",
       "    </tr>\n",
       "  </tbody>\n",
       "</table>\n",
       "</div>"
      ],
      "text/plain": [
       "                                           title create_time  \\\n",
       "value                                                          \n",
       "52             身价是马云的两倍，89 岁巴菲特给后浪们的十条箴言 | 36氪领读  2020-05-10   \n",
       "199                  世界读书日，这 10 本好书你不能错过 | 36氪领读  2020-04-23   \n",
       "241        《枪炮、病菌与钢铁》作者全新力作：个人与国家如何应对剧变？ | 36氪领读  2020-04-19   \n",
       "311               一季度投资人书单：面对不确定性，他们向内求索 | 36氪领读  2020-04-12   \n",
       "446           华尔街之王苏世民的投资逻辑：一套理念贯穿于每一次交易 | 36氪领读  2020-03-29   \n",
       "522           美股 10 天 4 次熔断，普通股民如何避免被割韭菜？丨​36氪领读  2020-03-22   \n",
       "591          股市涨跌难料？不如学习蜡烛图技术，助你预判趋势取得先机 | 36氪领读  2020-03-15   \n",
       "662                   直面创伤：如何在受创后重建内心世界？ | 36氪领读  2020-03-08   \n",
       "719    《病毒来袭》：继《枪炮、病菌与钢铁》之后最引人关注的疾病社会史之作 | 36氪领读  2020-03-01   \n",
       "788            疫情何时会出现拐点？学会用模型思维作出最接近的预测 | 36氪领读  2020-02-23   \n",
       "854                阿里当年是如何度过非典危机，并创建淘宝的？ | 36氪领读  2020-02-16   \n",
       "908                              别了，规模经济 | 36氪领读  2020-02-09   \n",
       "960             企业管理「七宗罪」：那些前辈企业家摔过的坑都是什么？｜36氪领读  2020-02-02   \n",
       "\n",
       "                                                    link  \n",
       "value                                                     \n",
       "52     http://mp.weixin.qq.com/s?__biz=MzI2NDk5NzA0Mw...  \n",
       "199    http://mp.weixin.qq.com/s?__biz=MzI2NDk5NzA0Mw...  \n",
       "241    http://mp.weixin.qq.com/s?__biz=MzI2NDk5NzA0Mw...  \n",
       "311    http://mp.weixin.qq.com/s?__biz=MzI2NDk5NzA0Mw...  \n",
       "446    http://mp.weixin.qq.com/s?__biz=MzI2NDk5NzA0Mw...  \n",
       "522    http://mp.weixin.qq.com/s?__biz=MzI2NDk5NzA0Mw...  \n",
       "591    http://mp.weixin.qq.com/s?__biz=MzI2NDk5NzA0Mw...  \n",
       "662    http://mp.weixin.qq.com/s?__biz=MzI2NDk5NzA0Mw...  \n",
       "719    http://mp.weixin.qq.com/s?__biz=MzI2NDk5NzA0Mw...  \n",
       "788    http://mp.weixin.qq.com/s?__biz=MzI2NDk5NzA0Mw...  \n",
       "854    http://mp.weixin.qq.com/s?__biz=MzI2NDk5NzA0Mw...  \n",
       "908    http://mp.weixin.qq.com/s?__biz=MzI2NDk5NzA0Mw...  \n",
       "960    http://mp.weixin.qq.com/s?__biz=MzI2NDk5NzA0Mw...  "
      ]
     },
     "execution_count": 65,
     "metadata": {},
     "output_type": "execute_result"
    }
   ],
   "source": [
    "# 36氪领读\n",
    "_36氪领读_ = df_url_out.loc[df_cat.query(\"variable=='36氪领读'\").index]\n",
    "_36氪领读_"
   ]
  },
  {
   "cell_type": "code",
   "execution_count": 66,
   "metadata": {},
   "outputs": [],
   "source": [
    "# 36氪创投研究院,9点1氪,36氪新风向,36氪专访,36氪未来智库,36氪深度研究,焦点分析,最前线,深氪\n",
    "_36氪创投研究院_ = df_url_out.loc[df_cat.query(\"variable=='36氪创投研究院'\").index]\n",
    "\n",
    "_9点1氪_ = df_url_out.loc[df_cat.query(\"variable=='9点1氪'\").index]\n",
    "\n",
    "_36氪新风向_ = df_url_out.loc[df_cat.query(\"variable=='36氪新风向'\").index]\n",
    "\n",
    "_36氪专访_ = df_url_out.loc[df_cat.query(\"variable=='36氪专访'\").index]\n",
    "\n",
    "_36氪未来智库_ = df_url_out.loc[df_cat.query(\"variable=='36氪未来智库'\").index]\n",
    "\n",
    "_36氪深度研究_ = df_url_out.loc[df_cat.query(\"variable=='36氪深度研究'\").index]\n",
    "\n",
    "焦点分析 = df_url_out.loc[df_cat.query(\"variable=='焦点分析'\").index]\n",
    "\n",
    "最前线 = df_url_out.loc[df_cat.query(\"variable=='最前线'\").index]\n",
    "\n",
    "深氪 = df_url_out.loc[df_cat.query(\"variable=='深氪'\").index]"
   ]
  },
  {
   "cell_type": "code",
   "execution_count": 71,
   "metadata": {},
   "outputs": [
    {
     "data": {
      "text/html": [
       "<div>\n",
       "<style scoped>\n",
       "    .dataframe tbody tr th:only-of-type {\n",
       "        vertical-align: middle;\n",
       "    }\n",
       "\n",
       "    .dataframe tbody tr th {\n",
       "        vertical-align: top;\n",
       "    }\n",
       "\n",
       "    .dataframe thead th {\n",
       "        text-align: right;\n",
       "    }\n",
       "</style>\n",
       "<table border=\"1\" class=\"dataframe\">\n",
       "  <thead>\n",
       "    <tr style=\"text-align: right;\">\n",
       "      <th></th>\n",
       "      <th>title</th>\n",
       "      <th>create_time</th>\n",
       "      <th>link</th>\n",
       "    </tr>\n",
       "    <tr>\n",
       "      <th>value</th>\n",
       "      <th></th>\n",
       "      <th></th>\n",
       "      <th></th>\n",
       "    </tr>\n",
       "  </thead>\n",
       "  <tbody>\n",
       "    <tr>\n",
       "      <th>1</th>\n",
       "      <td>用 AI 寻找走失儿童，打击野生动物贩卖，百度 AI 如何推动公益智能化？</td>\n",
       "      <td>2020-05-15</td>\n",
       "      <td>http://mp.weixin.qq.com/s?__biz=MzI2NDk5NzA0Mw...</td>\n",
       "    </tr>\n",
       "    <tr>\n",
       "      <th>2</th>\n",
       "      <td>《创造营2020》的尴尬：砸完重金后，恐不能造出「孟美岐」</td>\n",
       "      <td>2020-05-15</td>\n",
       "      <td>http://mp.weixin.qq.com/s?__biz=MzI2NDk5NzA0Mw...</td>\n",
       "    </tr>\n",
       "    <tr>\n",
       "      <th>3</th>\n",
       "      <td>倡导无龄无边界，「KOKOLU」用丝绒鞋敲开舒适服饰市场 | 早起看早期</td>\n",
       "      <td>2020-05-15</td>\n",
       "      <td>http://mp.weixin.qq.com/s?__biz=MzI2NDk5NzA0Mw...</td>\n",
       "    </tr>\n",
       "    <tr>\n",
       "      <th>5</th>\n",
       "      <td>热闹之后，医健企业挑战才刚刚来临</td>\n",
       "      <td>2020-05-14</td>\n",
       "      <td>http://mp.weixin.qq.com/s?__biz=MzI2NDk5NzA0Mw...</td>\n",
       "    </tr>\n",
       "    <tr>\n",
       "      <th>6</th>\n",
       "      <td>优爱腾能从「超前点播」捞到多少钱？</td>\n",
       "      <td>2020-05-14</td>\n",
       "      <td>http://mp.weixin.qq.com/s?__biz=MzI2NDk5NzA0Mw...</td>\n",
       "    </tr>\n",
       "    <tr>\n",
       "      <th>...</th>\n",
       "      <td>...</td>\n",
       "      <td>...</td>\n",
       "      <td>...</td>\n",
       "    </tr>\n",
       "    <tr>\n",
       "      <th>1082</th>\n",
       "      <td>钟鼎资本 10 年：一个街头篮球队的故事</td>\n",
       "      <td>2020-01-13</td>\n",
       "      <td>http://mp.weixin.qq.com/s?__biz=MzI2NDk5NzA0Mw...</td>\n",
       "    </tr>\n",
       "    <tr>\n",
       "      <th>1084</th>\n",
       "      <td>今天，我参加了一个 5 个亿的大项目 | 唠氪儿</td>\n",
       "      <td>2020-01-13</td>\n",
       "      <td>http://mp.weixin.qq.com/s?__biz=MzI2NDk5NzA0Mw...</td>\n",
       "    </tr>\n",
       "    <tr>\n",
       "      <th>1085</th>\n",
       "      <td>专访陆奇：你可以用妥协，我用更不同的词叫务实</td>\n",
       "      <td>2020-01-13</td>\n",
       "      <td>http://mp.weixin.qq.com/s?__biz=MzI2NDk5NzA0Mw...</td>\n",
       "    </tr>\n",
       "    <tr>\n",
       "      <th>1086</th>\n",
       "      <td>百亿瑞幸怒刷「存在感」</td>\n",
       "      <td>2020-01-13</td>\n",
       "      <td>http://mp.weixin.qq.com/s?__biz=MzI2NDk5NzA0Mw...</td>\n",
       "    </tr>\n",
       "    <tr>\n",
       "      <th>1087</th>\n",
       "      <td>5187 家厂商涌入 CES，4 天后他们留下了什么 | CES 2020</td>\n",
       "      <td>2020-01-13</td>\n",
       "      <td>http://mp.weixin.qq.com/s?__biz=MzI2NDk5NzA0Mw...</td>\n",
       "    </tr>\n",
       "  </tbody>\n",
       "</table>\n",
       "<p>870 rows × 3 columns</p>\n",
       "</div>"
      ],
      "text/plain": [
       "                                       title create_time  \\\n",
       "value                                                      \n",
       "1      用 AI 寻找走失儿童，打击野生动物贩卖，百度 AI 如何推动公益智能化？  2020-05-15   \n",
       "2              《创造营2020》的尴尬：砸完重金后，恐不能造出「孟美岐」  2020-05-15   \n",
       "3       倡导无龄无边界，「KOKOLU」用丝绒鞋敲开舒适服饰市场 | 早起看早期  2020-05-15   \n",
       "5                           热闹之后，医健企业挑战才刚刚来临  2020-05-14   \n",
       "6                          优爱腾能从「超前点播」捞到多少钱？  2020-05-14   \n",
       "...                                      ...         ...   \n",
       "1082                    钟鼎资本 10 年：一个街头篮球队的故事  2020-01-13   \n",
       "1084                今天，我参加了一个 5 个亿的大项目 | 唠氪儿  2020-01-13   \n",
       "1085                  专访陆奇：你可以用妥协，我用更不同的词叫务实  2020-01-13   \n",
       "1086                             百亿瑞幸怒刷「存在感」  2020-01-13   \n",
       "1087   5187 家厂商涌入 CES，4 天后他们留下了什么 | CES 2020  2020-01-13   \n",
       "\n",
       "                                                    link  \n",
       "value                                                     \n",
       "1      http://mp.weixin.qq.com/s?__biz=MzI2NDk5NzA0Mw...  \n",
       "2      http://mp.weixin.qq.com/s?__biz=MzI2NDk5NzA0Mw...  \n",
       "3      http://mp.weixin.qq.com/s?__biz=MzI2NDk5NzA0Mw...  \n",
       "5      http://mp.weixin.qq.com/s?__biz=MzI2NDk5NzA0Mw...  \n",
       "6      http://mp.weixin.qq.com/s?__biz=MzI2NDk5NzA0Mw...  \n",
       "...                                                  ...  \n",
       "1082   http://mp.weixin.qq.com/s?__biz=MzI2NDk5NzA0Mw...  \n",
       "1084   http://mp.weixin.qq.com/s?__biz=MzI2NDk5NzA0Mw...  \n",
       "1085   http://mp.weixin.qq.com/s?__biz=MzI2NDk5NzA0Mw...  \n",
       "1086   http://mp.weixin.qq.com/s?__biz=MzI2NDk5NzA0Mw...  \n",
       "1087   http://mp.weixin.qq.com/s?__biz=MzI2NDk5NzA0Mw...  \n",
       "\n",
       "[870 rows x 3 columns]"
      ]
     },
     "execution_count": 71,
     "metadata": {},
     "output_type": "execute_result"
    }
   ],
   "source": [
    "# 无分类\n",
    "# df_none = df_url_out.join(df_cat).replace(\"\",np.nan).fillna(\"无分类\")\n",
    "df_none = df_url_out.loc[df_cat.query('variable==\"\"').index]\n",
    "df_none"
   ]
  },
  {
   "cell_type": "code",
   "execution_count": 72,
   "metadata": {},
   "outputs": [
    {
     "data": {
      "text/html": [
       "<div>\n",
       "<style scoped>\n",
       "    .dataframe tbody tr th:only-of-type {\n",
       "        vertical-align: middle;\n",
       "    }\n",
       "\n",
       "    .dataframe tbody tr th {\n",
       "        vertical-align: top;\n",
       "    }\n",
       "\n",
       "    .dataframe thead th {\n",
       "        text-align: right;\n",
       "    }\n",
       "</style>\n",
       "<table border=\"1\" class=\"dataframe\">\n",
       "  <thead>\n",
       "    <tr style=\"text-align: right;\">\n",
       "      <th></th>\n",
       "      <th>title</th>\n",
       "      <th>create_time</th>\n",
       "      <th>link</th>\n",
       "      <th>variable</th>\n",
       "    </tr>\n",
       "  </thead>\n",
       "  <tbody>\n",
       "    <tr>\n",
       "      <th>0</th>\n",
       "      <td>8点1氪：李彦宏将于今晚8点开启百度直播首秀；虎扑否认赴美IPO；消息称瑞幸咖啡仍在快速开店</td>\n",
       "      <td>2020-05-15</td>\n",
       "      <td>http://mp.weixin.qq.com/s?__biz=MzI2NDk5NzA0Mw...</td>\n",
       "      <td>8点1氪</td>\n",
       "    </tr>\n",
       "    <tr>\n",
       "      <th>1</th>\n",
       "      <td>用 AI 寻找走失儿童，打击野生动物贩卖，百度 AI 如何推动公益智能化？</td>\n",
       "      <td>2020-05-15</td>\n",
       "      <td>http://mp.weixin.qq.com/s?__biz=MzI2NDk5NzA0Mw...</td>\n",
       "      <td>无分类</td>\n",
       "    </tr>\n",
       "    <tr>\n",
       "      <th>2</th>\n",
       "      <td>《创造营2020》的尴尬：砸完重金后，恐不能造出「孟美岐」</td>\n",
       "      <td>2020-05-15</td>\n",
       "      <td>http://mp.weixin.qq.com/s?__biz=MzI2NDk5NzA0Mw...</td>\n",
       "      <td>无分类</td>\n",
       "    </tr>\n",
       "    <tr>\n",
       "      <th>3</th>\n",
       "      <td>倡导无龄无边界，「KOKOLU」用丝绒鞋敲开舒适服饰市场 | 早起看早期</td>\n",
       "      <td>2020-05-15</td>\n",
       "      <td>http://mp.weixin.qq.com/s?__biz=MzI2NDk5NzA0Mw...</td>\n",
       "      <td>无分类</td>\n",
       "    </tr>\n",
       "    <tr>\n",
       "      <th>4</th>\n",
       "      <td>薇娅教卡戴珊做人，中国网红教世界卖货｜深氪</td>\n",
       "      <td>2020-05-14</td>\n",
       "      <td>http://mp.weixin.qq.com/s?__biz=MzI2NDk5NzA0Mw...</td>\n",
       "      <td>深氪</td>\n",
       "    </tr>\n",
       "    <tr>\n",
       "      <th>...</th>\n",
       "      <td>...</td>\n",
       "      <td>...</td>\n",
       "      <td>...</td>\n",
       "      <td>...</td>\n",
       "    </tr>\n",
       "    <tr>\n",
       "      <th>1083</th>\n",
       "      <td>腾讯音乐与抖音达成转授权合作，腾讯系与头条系难得牵手｜36氪独家</td>\n",
       "      <td>2020-01-13</td>\n",
       "      <td>http://mp.weixin.qq.com/s?__biz=MzI2NDk5NzA0Mw...</td>\n",
       "      <td>36氪独家</td>\n",
       "    </tr>\n",
       "    <tr>\n",
       "      <th>1084</th>\n",
       "      <td>今天，我参加了一个 5 个亿的大项目 | 唠氪儿</td>\n",
       "      <td>2020-01-13</td>\n",
       "      <td>http://mp.weixin.qq.com/s?__biz=MzI2NDk5NzA0Mw...</td>\n",
       "      <td>无分类</td>\n",
       "    </tr>\n",
       "    <tr>\n",
       "      <th>1085</th>\n",
       "      <td>专访陆奇：你可以用妥协，我用更不同的词叫务实</td>\n",
       "      <td>2020-01-13</td>\n",
       "      <td>http://mp.weixin.qq.com/s?__biz=MzI2NDk5NzA0Mw...</td>\n",
       "      <td>无分类</td>\n",
       "    </tr>\n",
       "    <tr>\n",
       "      <th>1086</th>\n",
       "      <td>百亿瑞幸怒刷「存在感」</td>\n",
       "      <td>2020-01-13</td>\n",
       "      <td>http://mp.weixin.qq.com/s?__biz=MzI2NDk5NzA0Mw...</td>\n",
       "      <td>无分类</td>\n",
       "    </tr>\n",
       "    <tr>\n",
       "      <th>1087</th>\n",
       "      <td>5187 家厂商涌入 CES，4 天后他们留下了什么 | CES 2020</td>\n",
       "      <td>2020-01-13</td>\n",
       "      <td>http://mp.weixin.qq.com/s?__biz=MzI2NDk5NzA0Mw...</td>\n",
       "      <td>无分类</td>\n",
       "    </tr>\n",
       "  </tbody>\n",
       "</table>\n",
       "<p>1088 rows × 4 columns</p>\n",
       "</div>"
      ],
      "text/plain": [
       "                                               title create_time  \\\n",
       "0     8点1氪：李彦宏将于今晚8点开启百度直播首秀；虎扑否认赴美IPO；消息称瑞幸咖啡仍在快速开店  2020-05-15   \n",
       "1              用 AI 寻找走失儿童，打击野生动物贩卖，百度 AI 如何推动公益智能化？  2020-05-15   \n",
       "2                      《创造营2020》的尴尬：砸完重金后，恐不能造出「孟美岐」  2020-05-15   \n",
       "3               倡导无龄无边界，「KOKOLU」用丝绒鞋敲开舒适服饰市场 | 早起看早期  2020-05-15   \n",
       "4                              薇娅教卡戴珊做人，中国网红教世界卖货｜深氪  2020-05-14   \n",
       "...                                              ...         ...   \n",
       "1083                腾讯音乐与抖音达成转授权合作，腾讯系与头条系难得牵手｜36氪独家  2020-01-13   \n",
       "1084                        今天，我参加了一个 5 个亿的大项目 | 唠氪儿  2020-01-13   \n",
       "1085                          专访陆奇：你可以用妥协，我用更不同的词叫务实  2020-01-13   \n",
       "1086                                     百亿瑞幸怒刷「存在感」  2020-01-13   \n",
       "1087           5187 家厂商涌入 CES，4 天后他们留下了什么 | CES 2020  2020-01-13   \n",
       "\n",
       "                                                   link variable  \n",
       "0     http://mp.weixin.qq.com/s?__biz=MzI2NDk5NzA0Mw...     8点1氪  \n",
       "1     http://mp.weixin.qq.com/s?__biz=MzI2NDk5NzA0Mw...      无分类  \n",
       "2     http://mp.weixin.qq.com/s?__biz=MzI2NDk5NzA0Mw...      无分类  \n",
       "3     http://mp.weixin.qq.com/s?__biz=MzI2NDk5NzA0Mw...      无分类  \n",
       "4     http://mp.weixin.qq.com/s?__biz=MzI2NDk5NzA0Mw...       深氪  \n",
       "...                                                 ...      ...  \n",
       "1083  http://mp.weixin.qq.com/s?__biz=MzI2NDk5NzA0Mw...    36氪独家  \n",
       "1084  http://mp.weixin.qq.com/s?__biz=MzI2NDk5NzA0Mw...      无分类  \n",
       "1085  http://mp.weixin.qq.com/s?__biz=MzI2NDk5NzA0Mw...      无分类  \n",
       "1086  http://mp.weixin.qq.com/s?__biz=MzI2NDk5NzA0Mw...      无分类  \n",
       "1087  http://mp.weixin.qq.com/s?__biz=MzI2NDk5NzA0Mw...      无分类  \n",
       "\n",
       "[1088 rows x 4 columns]"
      ]
     },
     "execution_count": 72,
     "metadata": {},
     "output_type": "execute_result"
    }
   ],
   "source": [
    "df_out = df_url_out.join(df_cat).replace(\"\",np.nan).fillna(\"无分类\")\n",
    "df_out"
   ]
  },
  {
   "cell_type": "code",
   "execution_count": 74,
   "metadata": {
    "code_folding": []
   },
   "outputs": [],
   "source": [
    "# 输出\n",
    "\n",
    "with pd.ExcelWriter(fn[\"output\"][\"公众号_selenium\"].format(公众号=\"36氪\")) as writer:\n",
    "    df_out.to_excel(writer,sheet_name=\"前70页数据\")\n",
    "    _8点1氪_.to_excel(writer,sheet_name=\"8点1氪\")\n",
    "    _9点1氪_.to_excel(writer,sheet_name=\"9点1氪\")\n",
    "    _36氪独家_.to_excel(writer,sheet_name=\"36氪独家\")\n",
    "    _36氪领读_.to_excel(writer,sheet_name=\"36氪领读\")\n",
    "    _36氪创投研究院_.to_excel(writer,sheet_name=\"36氪创投研究院\")\n",
    "    _36氪新风向_.to_excel(writer,sheet_name=\"36氪新风向\")\n",
    "    _36氪专访_.to_excel(writer,sheet_name=\"36氪专访\")\n",
    "    _36氪未来智库_.to_excel(writer,sheet_name=\"36氪未来智库\")\n",
    "    _36氪深度研究_.to_excel(writer,sheet_name=\"36氪深度研究\")\n",
    "    深氪.to_excel(writer,sheet_name=\"深氪\")\n",
    "    焦点分析.to_excel(writer,sheet_name=\"焦点分析\")\n",
    "    最前线.to_excel(writer,sheet_name=\"最前线\")"
   ]
  },
  {
   "cell_type": "code",
   "execution_count": null,
   "metadata": {},
   "outputs": [],
   "source": []
  }
 ],
 "metadata": {
  "kernelspec": {
   "display_name": "Python 3",
   "language": "python",
   "name": "python3"
  },
  "language_info": {
   "codemirror_mode": {
    "name": "ipython",
    "version": 3
   },
   "file_extension": ".py",
   "mimetype": "text/x-python",
   "name": "python",
   "nbconvert_exporter": "python",
   "pygments_lexer": "ipython3",
   "version": "3.7.3"
  },
  "toc": {
   "base_numbering": 1,
   "nav_menu": {},
   "number_sections": true,
   "sideBar": true,
   "skip_h1_title": false,
   "title_cell": "Table of Contents",
   "title_sidebar": "Contents",
   "toc_cell": false,
   "toc_position": {},
   "toc_section_display": true,
   "toc_window_display": false
  }
 },
 "nbformat": 4,
 "nbformat_minor": 4
}
